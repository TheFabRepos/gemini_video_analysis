{
 "cells": [
  {
   "cell_type": "code",
   "execution_count": 1,
   "id": "67cedb41-532f-4fe7-888d-3d48f53a30a1",
   "metadata": {
    "tags": []
   },
   "outputs": [],
   "source": [
    "# !pip install moviepy"
   ]
  },
  {
   "cell_type": "code",
   "execution_count": null,
   "id": "d3742e55-31b3-430a-a47f-7a1a0b86235c",
   "metadata": {},
   "outputs": [],
   "source": []
  },
  {
   "cell_type": "code",
   "execution_count": null,
   "id": "cc9dd644-b666-42aa-8e21-19d9aefec8a1",
   "metadata": {},
   "outputs": [],
   "source": []
  },
  {
   "cell_type": "code",
   "execution_count": null,
   "id": "161fb364-a32e-40c7-9076-ae00888b214b",
   "metadata": {},
   "outputs": [],
   "source": []
  },
  {
   "cell_type": "code",
   "execution_count": null,
   "id": "e03cd1b8-ecb7-484e-b3ae-a14a4425ccf4",
   "metadata": {},
   "outputs": [],
   "source": []
  },
  {
   "cell_type": "code",
   "execution_count": null,
   "id": "7f906aba-bfe1-4084-b843-0b585a042497",
   "metadata": {},
   "outputs": [],
   "source": []
  },
  {
   "cell_type": "code",
   "execution_count": 2,
   "id": "79d9e7b8-7aa0-4c81-adaa-3b2ecc357227",
   "metadata": {},
   "outputs": [],
   "source": [
    "import os\n",
    "input_file = \"video/thanawyat_al_nasim/Thanawyat_Al_Nasim_1_KSA.mp4\"\n",
    "\n",
    "video_directory = os.path.join(os.path.dirname(input_file), \"output\") #Local output directory for split files\n",
    "gcs_bucket_name = \"fab_public_bucket\"  # GCS Bucket to use for temp folder\n",
    "gcs_temp_working_dir = \"video/temp\"  # Path to temp folder in gcs bucket\n",
    "split_size = \"500M\""
   ]
  },
  {
   "cell_type": "code",
   "execution_count": 3,
   "id": "d48df7d8-3d7c-4c3f-b788-3a1418208b00",
   "metadata": {},
   "outputs": [
    {
     "name": "stdout",
     "output_type": "stream",
     "text": [
      "mkvmerge v52.0.0 ('Secret For The Mad') 64-bit\n",
      "'video/thanawyat_al_nasim/Thanawyat_Al_Nasim_1_KSA.mp4': Using the demultiplexer for the format 'QuickTime/MP4'.\n",
      "'video/thanawyat_al_nasim/Thanawyat_Al_Nasim_1_KSA.mp4' track 0: Using the output module for the format 'AVC/H.264'.\n",
      "'video/thanawyat_al_nasim/Thanawyat_Al_Nasim_1_KSA.mp4' track 1: Using the output module for the format 'AAC'.\n",
      "The file 'video/thanawyat_al_nasim/output/Thanawyat_Al_Nasim_1_KSA-001.mp4' has been opened for writing.\n",
      "'video/thanawyat_al_nasim/Thanawyat_Al_Nasim_1_KSA.mp4' track 0: Extracted the aspect ratio information from the MPEG-4 layer 10 (AVC) video data and set the display dimensions to 3840/2160.\n",
      "Progress: 15%\n",
      "The cue entries (the index) are being written...\n",
      "The file 'video/thanawyat_al_nasim/output/Thanawyat_Al_Nasim_1_KSA-002.mp4' has been opened for writing.\n",
      "Progress: 31%\n",
      "The cue entries (the index) are being written...\n",
      "The file 'video/thanawyat_al_nasim/output/Thanawyat_Al_Nasim_1_KSA-003.mp4' has been opened for writing.\n",
      "Progress: 48%\n",
      "The cue entries (the index) are being written...\n",
      "The file 'video/thanawyat_al_nasim/output/Thanawyat_Al_Nasim_1_KSA-004.mp4' has been opened for writing.\n",
      "Progress: 63%\n",
      "The cue entries (the index) are being written...\n",
      "The file 'video/thanawyat_al_nasim/output/Thanawyat_Al_Nasim_1_KSA-005.mp4' has been opened for writing.\n",
      "Progress: 79%\n",
      "The cue entries (the index) are being written...\n",
      "The file 'video/thanawyat_al_nasim/output/Thanawyat_Al_Nasim_1_KSA-006.mp4' has been opened for writing.\n",
      "Progress: 96%\n",
      "The cue entries (the index) are being written...\n",
      "The file 'video/thanawyat_al_nasim/output/Thanawyat_Al_Nasim_1_KSA-007.mp4' has been opened for writing.\n",
      "Progress: 100%\n",
      "The cue entries (the index) are being written...\n",
      "Multiplexing took 41 seconds.\n",
      "Successfully split video/thanawyat_al_nasim/Thanawyat_Al_Nasim_1_KSA.mp4 into 500M chunks.\n"
     ]
    }
   ],
   "source": [
    "import subprocess\n",
    "\n",
    "def split_mkv(input_file, output_file, split_size):\n",
    "  \"\"\"Splits an MKV file into smaller chunks using mkvmerge.\n",
    "\n",
    "  Args:\n",
    "    input_file: Path to the input MKV file.\n",
    "    output_file: Base name for the output files.\n",
    "    split_size: Size of each output file in bytes (b), kilobytes (k), \n",
    "                megabytes (m), or gigabytes (g).\n",
    "  \"\"\"\n",
    "\n",
    "  try:\n",
    "    cmd = [\n",
    "        \"mkvmerge\",\n",
    "        \"--split\", f\"size:{split_size}\",\n",
    "        \"-o\", f\"{output_file}.mp4\",\n",
    "        input_file\n",
    "    ]\n",
    "    subprocess.run(cmd, check=True)\n",
    "    print(f\"Successfully split {input_file} into {split_size} chunks.\")\n",
    "  except subprocess.CalledProcessError as e:\n",
    "    print(f\"Error splitting the file: {e}\")\n",
    "\n",
    "# Example usage:\n",
    "\n",
    "parts = input_file.split('/')\n",
    "output_file = '/'.join(parts[:-1]) + \"/output/\" + parts[-1].split('.')[0]  # String manipulation\n",
    "\n",
    "\n",
    "split_mkv(input_file, output_file, split_size)"
   ]
  },
  {
   "cell_type": "code",
   "execution_count": 4,
   "id": "767ee1d7-0582-4906-abc5-03edd5dbc1b0",
   "metadata": {},
   "outputs": [
    {
     "name": "stdout",
     "output_type": "stream",
     "text": [
      "File video/thanawyat_al_nasim/output/Thanawyat_Al_Nasim_1_KSA-007.mp4 uploaded to gs://fab_public_bucket/video/temp/Thanawyat_Al_Nasim_1_KSA-007.mp4\n",
      "File video/thanawyat_al_nasim/output/Thanawyat_Al_Nasim_1_KSA-002.mp4 uploaded to gs://fab_public_bucket/video/temp/Thanawyat_Al_Nasim_1_KSA-002.mp4\n",
      "File video/thanawyat_al_nasim/output/Thanawyat_Al_Nasim_1_KSA-001.mp4 uploaded to gs://fab_public_bucket/video/temp/Thanawyat_Al_Nasim_1_KSA-001.mp4\n",
      "File video/thanawyat_al_nasim/output/Thanawyat_Al_Nasim_1_KSA-003.mp4 uploaded to gs://fab_public_bucket/video/temp/Thanawyat_Al_Nasim_1_KSA-003.mp4\n",
      "File video/thanawyat_al_nasim/output/Thanawyat_Al_Nasim_1_KSA-005.mp4 uploaded to gs://fab_public_bucket/video/temp/Thanawyat_Al_Nasim_1_KSA-005.mp4\n",
      "File video/thanawyat_al_nasim/output/Thanawyat_Al_Nasim_1_KSA-006.mp4 uploaded to gs://fab_public_bucket/video/temp/Thanawyat_Al_Nasim_1_KSA-006.mp4\n",
      "File video/thanawyat_al_nasim/output/Thanawyat_Al_Nasim_1_KSA-004.mp4 uploaded to gs://fab_public_bucket/video/temp/Thanawyat_Al_Nasim_1_KSA-004.mp4\n"
     ]
    }
   ],
   "source": [
    "from google.cloud import storage\n",
    "import os\n",
    "\n",
    "def copy_local_folder_to_gcs(local_folder, bucket_name, gcs_folder):\n",
    "    \"\"\"Copies all files from a local folder to a GCS bucket folder.\n",
    "\n",
    "    Args:\n",
    "        local_folder: The path to the local folder.\n",
    "        bucket_name: The name of the GCS bucket.\n",
    "        gcs_folder: The name of the folder within the GCS bucket (can be empty).\n",
    "    \"\"\"\n",
    "\n",
    "    # Initialize the GCS client\n",
    "    storage_client = storage.Client()\n",
    "\n",
    "    # Get the bucket\n",
    "    bucket = storage_client.bucket(bucket_name)\n",
    "\n",
    "    blobs = bucket.list_blobs(prefix=gcs_folder)\n",
    "    for blob in blobs:\n",
    "        blob.delete()\n",
    "        \n",
    "    # Iterate through all files in the local folder\n",
    "    for local_file in os.listdir(local_folder):\n",
    "        local_file_path = os.path.join(local_folder, local_file)\n",
    "\n",
    "        # Ensure it's a file, not a subdirectory\n",
    "        if os.path.isfile(local_file_path):\n",
    "            # Construct the GCS object path\n",
    "            gcs_blob_name = os.path.join(gcs_folder, local_file) if gcs_folder else local_file\n",
    "\n",
    "            # Create a blob object\n",
    "            blob = bucket.blob(gcs_blob_name)\n",
    "\n",
    "            # Upload the file\n",
    "            try:\n",
    "                blob.upload_from_filename(local_file_path)\n",
    "                print(f\"File {local_file_path} uploaded to gs://{bucket_name}/{gcs_blob_name}\")\n",
    "            except Exception as e:\n",
    "                print(f\"Error uploading {local_file_path}: {e}\")\n",
    "\n",
    "copy_local_folder_to_gcs(video_directory, gcs_bucket_name, gcs_temp_working_dir)"
   ]
  },
  {
   "cell_type": "code",
   "execution_count": 5,
   "id": "e299ec91-92cb-4ff4-8b5d-6739764a3571",
   "metadata": {
    "tags": []
   },
   "outputs": [
    {
     "name": "stdout",
     "output_type": "stream",
     "text": [
      "['video/thanawyat_al_nasim/output/Thanawyat_Al_Nasim_1_KSA-007.mp4', 'video/thanawyat_al_nasim/output/Thanawyat_Al_Nasim_1_KSA-002.mp4', 'video/thanawyat_al_nasim/output/Thanawyat_Al_Nasim_1_KSA-001.mp4', 'video/thanawyat_al_nasim/output/Thanawyat_Al_Nasim_1_KSA-003.mp4', 'video/thanawyat_al_nasim/output/Thanawyat_Al_Nasim_1_KSA-005.mp4', 'video/thanawyat_al_nasim/output/Thanawyat_Al_Nasim_1_KSA-006.mp4', 'video/thanawyat_al_nasim/output/Thanawyat_Al_Nasim_1_KSA-004.mp4']\n"
     ]
    }
   ],
   "source": [
    "import os\n",
    "\n",
    "def list_files_in_directory(directory):\n",
    "  \"\"\"Lists all files in a directory and returns them as a list.\n",
    "\n",
    "  Args:\n",
    "    directory: The path to the directory.\n",
    "\n",
    "  Returns:\n",
    "    A list of strings, where each string is the full path to a file \n",
    "    in the directory. Returns an empty list if the directory is empty \n",
    "    or if the directory does not exist.\n",
    "  \"\"\"\n",
    "  try:\n",
    "    file_list = []\n",
    "    for filename in os.listdir(directory):\n",
    "      full_path = os.path.join(directory, filename)\n",
    "      if os.path.isfile(full_path):  # Only add files, not subdirectories\n",
    "        file_list.append(full_path)\n",
    "    return file_list\n",
    "  except FileNotFoundError:\n",
    "    print(f\"Directory '{directory}' not found.\")\n",
    "    return []\n",
    "print(list_files_in_directory(video_directory))"
   ]
  },
  {
   "cell_type": "code",
   "execution_count": 6,
   "id": "3e4d16e4-7f57-45e3-aece-c6bc32790e6f",
   "metadata": {
    "tags": []
   },
   "outputs": [],
   "source": [
    "import random\n",
    "\n",
    "\n",
    "def get_random_region():\n",
    "    \"\"\"Returns a random region from the provided list of regions.\n",
    "    Args:\n",
    "        regions_list: A list of strings, where each string is a region name.\n",
    "    Returns:\n",
    "        A randomly selected region string from the list.\n",
    "    \"\"\"\n",
    "    \n",
    "    regions_string = \"europe-west4, europe-west9, europe-west2, europe-west3, europe-west1, europe-west6, europe-southwest1, europe-west8, europe-north1, europe-central2, us-east5, us-south1, us-central1, us-west4, us-east1, us-east4, us-west1\"\n",
    "    regions_list = [region.strip() for region in regions_string.split(',')]\n",
    "\n",
    "    return random.choice(regions_list)\n",
    "\n",
    "\n",
    "# Example usage:\n",
    "# random_region = get_random_region(regions_list)\n",
    "# print(f\"Randomly selected region: {random_region}\")"
   ]
  },
  {
   "cell_type": "code",
   "execution_count": 7,
   "id": "33362ef8-d2b8-4f1f-947b-91a2fec8f821",
   "metadata": {
    "tags": []
   },
   "outputs": [
    {
     "name": "stdout",
     "output_type": "stream",
     "text": [
      "Region chosen: us-central1\n",
      "Region chosen: us-east5\n",
      "Region chosen: europe-west2\n",
      "Region chosen: europe-west8\n",
      "Region chosen: us-east5\n",
      "Region chosen: us-east1\n",
      "Region chosen: us-south1\n"
     ]
    }
   ],
   "source": [
    "# import base64\n",
    "import vertexai\n",
    "from vertexai.generative_models import GenerativeModel, Part, SafetySetting\n",
    "\n",
    "def generate(user_prompt, system_prompt, random_region, video_uri):\n",
    "    vertexai.init(project=\"testfab-362608\", location=random_region)\n",
    "\n",
    "    final_response = ''\n",
    "    model = GenerativeModel(\n",
    "        \"gemini-1.5-pro-001\",\n",
    "        system_instruction=[system_prompt]\n",
    "    )\n",
    "    \n",
    "    video1 = Part.from_uri(\n",
    "    mime_type=\"video/mp4\",\n",
    "    uri=video_uri,)\n",
    "    \n",
    "    generation_config = {\n",
    "        \"max_output_tokens\": 8192,\n",
    "        \"temperature\": 1,\n",
    "        \"top_p\": 0.95,\n",
    "        \"response_mime_type\": \"application/json\"\n",
    "    }\n",
    "    \n",
    "    safety_settings = [\n",
    "    SafetySetting(\n",
    "        category=SafetySetting.HarmCategory.HARM_CATEGORY_HATE_SPEECH,\n",
    "        threshold=SafetySetting.HarmBlockThreshold.OFF\n",
    "        ),\n",
    "        SafetySetting(\n",
    "            category=SafetySetting.HarmCategory.HARM_CATEGORY_DANGEROUS_CONTENT,\n",
    "            threshold=SafetySetting.HarmBlockThreshold.OFF\n",
    "        ),\n",
    "        SafetySetting(\n",
    "            category=SafetySetting.HarmCategory.HARM_CATEGORY_SEXUALLY_EXPLICIT,\n",
    "            threshold=SafetySetting.HarmBlockThreshold.OFF\n",
    "        ),\n",
    "        SafetySetting(\n",
    "            category=SafetySetting.HarmCategory.HARM_CATEGORY_HARASSMENT,\n",
    "            threshold=SafetySetting.HarmBlockThreshold.OFF\n",
    "        ),\n",
    "    ]\n",
    "    \n",
    "    response = model.generate_content(\n",
    "        [video1, user_prompt],\n",
    "        generation_config=generation_config,\n",
    "        safety_settings=safety_settings,\n",
    "        stream=False,\n",
    "    )\n",
    "\n",
    "    return response.text\n",
    "\n",
    "user_prompt = \"\"\"<INSTRUCTIONS> \n",
    "Analyze the input video to identify all the key moments, themes, and emotional arcs. \n",
    "Recommend a list of top 4 key relevant video frame clips timestamps from the given input video thoughout the complete video. \n",
    "The maximum duration (end_timestamp - start_timestamp) of video frame clip will exclusively be below 10 seconds.\n",
    "The last recommendation should be at the very end of the video.\n",
    "</INSTRUCTIONS> \n",
    "\n",
    "<OUTPUT Format> \n",
    "JSON\n",
    "[\n",
    "{\n",
    "start_timestamp: \\\"mm:ss\\\",\n",
    "end_timestamp: \\\"mm:ss\\\",\n",
    "reasoning: \\\"\\\"\n",
    "}\n",
    "]\n",
    "</OUTPUT Format>\"\"\"\n",
    "\n",
    "system_prompt = \"\"\"You are a expert in content creation and generation. You never miss any key frames in the video which can be used for youtube shorts video generation. You possess a deep understanding of visual storytelling, pacing, and audience engagement techniques. Your goal is to distill the essence of a video into a concise and captivating highlight reel.\"\"\"\n",
    "\n",
    "\n",
    "files = list_files_in_directory(video_directory)\n",
    "final_res = {}\n",
    "\n",
    "for file in files:\n",
    "    region = get_random_region()\n",
    "    filename = file.split(\"/\")[-1]\n",
    "    video_uri = f\"gs://{gcs_bucket_name}/{gcs_temp_working_dir}/{filename}\"\n",
    "    print(f\"Region chosen: {region}\")\n",
    "    res=generate(user_prompt, system_prompt, region,video_uri)\n",
    "    final_res[filename] = res"
   ]
  },
  {
   "cell_type": "code",
   "execution_count": 8,
   "id": "1f66bee9-0f87-41f3-a257-63cda87e732c",
   "metadata": {
    "tags": []
   },
   "outputs": [
    {
     "name": "stdout",
     "output_type": "stream",
     "text": [
      "{'Thanawyat_Al_Nasim_1_KSA-007.mp4': '[{\"start_timestamp\": \"00:00\", \"end_timestamp\": \"00:04\", \"reasoning\": \"The video starts with a group of four young men walking down a street at night. The men are dressed in white and they are each carrying a stick. The scene sets the tone for the rest of the video, which is dark and intense. The use of slow motion and close-ups creates a sense of suspense. The editing is fast-paced and the music is dramatic. All of these elements work together to create a powerful and engaging opening sequence.\"}, {\"start_timestamp\": \"00:04\", \"end_timestamp\": \"00:19\", \"reasoning\": \" This section of the video is a montage of close-up shots of the four young men. The shots are intercut with each other, creating a sense of rhythm and energy. The men\\'s expressions are intense and focused, suggesting that they are on a mission. The use of slow motion and the dramatic music add to the sense of suspense and anticipation.\"}, {\"start_timestamp\": \"00:19\", \"end_timestamp\": \"00:24\", \"reasoning\": \"This is a key moment in the video because it is the first time that we see the men\\'s faces clearly. The shots are well-lit and the men\\'s expressions are full of emotion. The use of close-ups allows us to connect with the characters on a personal level. The dramatic music adds to the impact of the scene.\"}, {\"start_timestamp\": \"02:29\", \"end_timestamp\": \"02:36\", \"reasoning\": \"This is a good ending clip because it shows the logos of the companies that were involved in the making of the video. This is a standard practice for film and television productions. It is a way of giving credit to the people and companies that worked on the project.\"}]', 'Thanawyat_Al_Nasim_1_KSA-002.mp4': '[{\"start_timestamp\": \"00:00\", \"end_timestamp\": \"00:29\", \"reasoning\": \"This clip introduces a tense conversation between a father and his son about financial responsibility and respect.\"}, {\"start_timestamp\": \"01:29\", \"end_timestamp\": \"02:53\", \"reasoning\": \"This clip reveals a strained relationship between a mother and her son as they discuss the father\\'s ongoing mistreatment and a potential arranged marriage.\"}, {\"start_timestamp\": \"03:29\", \"end_timestamp\": \"04:19\", \"reasoning\": \"This clip shows another tense conversation between a father and his son where the father expresses his disappointment and disapproval of his son\\'s behavior.\"}, {\"start_timestamp\": \"06:00\", \"end_timestamp\": \"07:01\", \"reasoning\": \"This clip provides insight into the son\\'s character as he talks with his friend about a confrontation and expresses a desire to understand his mother\\'s situation.\"}]', 'Thanawyat_Al_Nasim_1_KSA-001.mp4': '[{\"start_timestamp\": \"00:17\", \"end_timestamp\": \"00:18\", \"reasoning\": \"The beginning of the video, showing the title card. It is a good hook to grab the viewers attention.\"}, {\"start_timestamp\": \"01:25\", \"end_timestamp\": \"01:35\", \"reasoning\": \"The main character is woken up by his father and sister, a common occurance in many households and very relatable.\"}, {\"start_timestamp\": \"02:55\", \"end_timestamp\": \"03:08\", \"reasoning\": \"The main character\\'s sister wakes up his brother. The interaction between the two is comedic in nature, as many siblings share similar experiences.\"}, {\"start_timestamp\": \"04:37\", \"end_timestamp\": \"04:44\", \"reasoning\": \"The very end of the video, ending on the father\\'s laughing face. This is a good outro clip to wrap up the entire video.\"}]', 'Thanawyat_Al_Nasim_1_KSA-003.mp4': '[{\"start_timestamp\": \"00:14\", \"end_timestamp\": \"00:21\", \"reasoning\": \"This sets the scene and introduces the protagonist in a humorous situation, piquing viewers\\' interest to learn more about the unfolding drama.\"}, {\"start_timestamp\": \"01:29\", \"end_timestamp\": \"01:36\", \"reasoning\": \"This sequence unveils the consequence of the earlier scene, showing a tense standoff between two groups. It hints at a deeper conflict and leaves viewers wanting to know what led to this point.\"}, {\"start_timestamp\": \"02:06\", \"end_timestamp\": \"02:17\", \"reasoning\": \"This is the climax of the confrontation, marking a pivotal turning point in the narrative. It creates suspense, anticipation, and intrigue.\"}, {\"start_timestamp\": \"05:55\", \"end_timestamp\": \"06:08\", \"reasoning\": \"This final clip concludes the video with a note of apprehension, leaving the viewers with a sense of curiosity as to what will happen next.\"}]', 'Thanawyat_Al_Nasim_1_KSA-005.mp4': '[{\"start_timestamp\": \"00:00\", \"end_timestamp\": \"00:15\", \"reasoning\": \"The video starts with a tense scene where a school principal reprimands three students. This sets the tone for a story about discipline and authority.\"}, {\"start_timestamp\": \"01:27\", \"end_timestamp\": \"01:59\", \"reasoning\": \"This part highlights the school principal\\'s perspective. It reveals his frustration with the student\\'s behavior and his concerns about the teacher\\'s effectiveness.\"}, {\"start_timestamp\": \"02:49\", \"end_timestamp\": \"03:48\", \"reasoning\": \"This is a turning point in the story as the teacher confronts the student leader. It shows his determination to enforce discipline and the student\\'s resistance to his authority.\"}, {\"start_timestamp\": \"06:17\", \"end_timestamp\": \"06:42\", \"reasoning\": \"The video ends with the student arriving home and greeting his father. This provides a contrast to the tense school scenes and suggests a more personal side to the student\\'s character. The ending invites the viewer to reflect on the complexities of the student\\'s life.\"}]', 'Thanawyat_Al_Nasim_1_KSA-006.mp4': '[{\"start_timestamp\": \"00:07\", \"end_timestamp\": \"00:17\", \"reasoning\": \"This sets the scene and introduces the main characters and their dynamics. The older man\\'s instructions to the younger one establish a power dynamic between them.\"}, {\"start_timestamp\": \"00:46\", \"end_timestamp\": \"01:10\", \"reasoning\": \"This highlights the emotional support between the brother and sister. It is a nice contrast to the previous power dynamic\"}, {\"start_timestamp\": \"01:51\", \"end_timestamp\": \"02:38\", \"reasoning\": \"This section is very emotionally driven, and adds to the tension by showcasing the struggle of the main character\"}, {\"start_timestamp\": \"05:55\", \"end_timestamp\": \"06:59\", \"reasoning\": \"This is the end of the video. It introduces a new level of tension, as a group of men approach the house at night.\"}]', 'Thanawyat_Al_Nasim_1_KSA-004.mp4': '[{\"start_timestamp\": \"00:00\", \"end_timestamp\": \"00:08\", \"reasoning\": \"A man is sitting in his office. He is talking to someone on the phone and telling him to go see some people, and report back on the outcome. He ends the call and prepares to leave his office.\"}, {\"start_timestamp\": \"00:27\", \"end_timestamp\": \"00:39\", \"reasoning\": \"A teacher enters the classroom and greets his students. Another person enters the classroom, says hi and stares at the students.\"}, {\"start_timestamp\": \"01:49\", \"end_timestamp\": \"01:59\", \"reasoning\": \"The students are sitting in the classroom, and the teacher is explaining his background, and telling the students to introduce themselves. One student suggests they skip the introduction, but the teacher asks the rest of the students for their opinion.\"}, {\"start_timestamp\": \"05:45\", \"end_timestamp\": \"06:20\", \"reasoning\": \"A heated argument ensues between the teacher and the students, escalating into chaos. An older teacher enters the room and tries to calm down the students, who eventually comply.\"}]'}\n"
     ]
    }
   ],
   "source": [
    "print(final_res)"
   ]
  },
  {
   "cell_type": "code",
   "execution_count": 9,
   "id": "45011b37-8b12-4e57-9861-6fb0c4c4903b",
   "metadata": {
    "tags": []
   },
   "outputs": [
    {
     "name": "stdout",
     "output_type": "stream",
     "text": [
      "[\n",
      "  {\n",
      "    \"filename\": \"Thanawyat_Al_Nasim_1_KSA-001.mp4\",\n",
      "    \"start_timestamp\": \"01:25\",\n",
      "    \"end_timestamp\": \"01:35\"\n",
      "  },\n",
      "  {\n",
      "    \"filename\": \"Thanawyat_Al_Nasim_1_KSA-002.mp4\",\n",
      "    \"start_timestamp\": \"06:00\",\n",
      "    \"end_timestamp\": \"06:10\"\n",
      "  },\n",
      "  {\n",
      "    \"filename\": \"Thanawyat_Al_Nasim_1_KSA-003.mp4\",\n",
      "    \"start_timestamp\": \"01:29\",\n",
      "    \"end_timestamp\": \"01:36\"\n",
      "  },\n",
      "  {\n",
      "    \"filename\": \"Thanawyat_Al_Nasim_1_KSA-004.mp4\",\n",
      "    \"start_timestamp\": \"01:49\",\n",
      "    \"end_timestamp\": \"01:59\"\n",
      "  },\n",
      "  {\n",
      "    \"filename\": \"Thanawyat_Al_Nasim_1_KSA-005.mp4\",\n",
      "    \"start_timestamp\": \"02:49\",\n",
      "    \"end_timestamp\": \"02:59\"\n",
      "  },\n",
      "  {\n",
      "    \"filename\": \"Thanawyat_Al_Nasim_1_KSA-006.mp4\",\n",
      "    \"start_timestamp\": \"01:51\",\n",
      "    \"end_timestamp\": \"01:58\"\n",
      "  },\n",
      "  {\n",
      "    \"filename\": \"Thanawyat_Al_Nasim_1_KSA-007.mp4\",\n",
      "    \"start_timestamp\": \"00:19\",\n",
      "    \"end_timestamp\": \"00:24\"\n",
      "  }\n",
      "]\n"
     ]
    }
   ],
   "source": [
    "from google import genai\n",
    "from google.genai import types\n",
    "import base64\n",
    "\n",
    "def generate(user_prompt):\n",
    "  client = genai.Client(\n",
    "      vertexai=True,\n",
    "      project=\"testfab-362608\",\n",
    "      location=\"us-central1\"\n",
    "  )\n",
    "\n",
    "  res=[]\n",
    "\n",
    "  text1 = types.Part.from_text(user_prompt)\n",
    "\n",
    "  model = \"gemini-exp-1206\"\n",
    "  contents = [\n",
    "    types.Content(\n",
    "      role=\"user\",\n",
    "      parts=[\n",
    "        text1\n",
    "      ]\n",
    "    )\n",
    "  ]\n",
    "  generate_content_config = types.GenerateContentConfig(\n",
    "    temperature = 1,\n",
    "    top_p = 1,\n",
    "    seed = 0,\n",
    "    max_output_tokens = 8192,\n",
    "    response_modalities = [\"TEXT\"],\n",
    "    safety_settings = [types.SafetySetting(\n",
    "      category=\"HARM_CATEGORY_HATE_SPEECH\",\n",
    "      threshold=\"BLOCK_MEDIUM_AND_ABOVE\"\n",
    "    ),types.SafetySetting(\n",
    "      category=\"HARM_CATEGORY_DANGEROUS_CONTENT\",\n",
    "      threshold=\"BLOCK_MEDIUM_AND_ABOVE\"\n",
    "    ),types.SafetySetting(\n",
    "      category=\"HARM_CATEGORY_SEXUALLY_EXPLICIT\",\n",
    "      threshold=\"BLOCK_MEDIUM_AND_ABOVE\"\n",
    "    ),types.SafetySetting(\n",
    "      category=\"HARM_CATEGORY_HARASSMENT\",\n",
    "      threshold=\"BLOCK_MEDIUM_AND_ABOVE\"\n",
    "    )],\n",
    "    response_mime_type = \"application/json\",\n",
    "  )\n",
    "\n",
    "  answer=''\n",
    "  for chunk in client.models.generate_content_stream(\n",
    "    model = model,\n",
    "    contents = contents,\n",
    "    config = generate_content_config,\n",
    "    ):\n",
    "    res.append(chunk)\n",
    "    \n",
    "  return res\n",
    "\n",
    "user_prompt = \"\"\"<Instruction>\n",
    "You have a JSON content that presents timestamp for highlights from multiple videos which are the results of the split of one large video. \n",
    "Choose the best, most spectacular highlight from the JSON content while following this constraint:\n",
    "- At minimum one highlight per file.\n",
    "- Maximum duration for one highlight is 10 seconds.\n",
    "- Total cumulated duration (duration per highlight is calculated: end_timestamp - start_timestamp) for all the highlights is exactly 60 seconds.\n",
    "- The final highlights chosen have to tell a story\n",
    "</Instruction>\n",
    "\n",
    "<JSON_Content>\n",
    "\"\"\"+str(final_res)+\"\"\"\n",
    "</JSON_Content>\n",
    "\n",
    "<Output_Format>\n",
    "[\n",
    "{'filename':'',\n",
    "'start_timestamp': \"mm:ss\",\n",
    "'end_timestamp': \"mm:ss\"},\n",
    "{'filename':'',\n",
    "'start_timestamp': 'mm:ss',\n",
    "'end_timestamp': 'mm:ss'},\n",
    "...]\n",
    "</Output_Format>\"\"\"\n",
    "\n",
    "system_prompt = \"\"\"You are a expert in content creation and generation. You never miss any key frames in the video which can be used for youtube shorts video generation. You possess a deep understanding of visual storytelling, pacing, and audience engagement techniques. Your goal is to distill the essence of a video into a concise and captivating highlight reel.\"\"\"\n",
    "\n",
    "\n",
    "results = generate(user_prompt)\n",
    "final_highlight=''\n",
    "for res in results:\n",
    " final_highlight = final_highlight + res.candidates[0].content.parts[0].text\n",
    "\n",
    "\n",
    "print(final_highlight)\n",
    "# res[0].candidates[0].content.parts[0].text"
   ]
  },
  {
   "cell_type": "code",
   "execution_count": 10,
   "id": "8d35c4fe-8dbb-4cda-bc55-2667d353df2e",
   "metadata": {
    "tags": []
   },
   "outputs": [
    {
     "name": "stdout",
     "output_type": "stream",
     "text": [
      "[('Thanawyat_Al_Nasim_1_KSA-001.mp4', '01:25', '01:35'), ('Thanawyat_Al_Nasim_1_KSA-002.mp4', '06:00', '06:10'), ('Thanawyat_Al_Nasim_1_KSA-003.mp4', '01:29', '01:36'), ('Thanawyat_Al_Nasim_1_KSA-004.mp4', '01:49', '01:59'), ('Thanawyat_Al_Nasim_1_KSA-005.mp4', '02:49', '02:59'), ('Thanawyat_Al_Nasim_1_KSA-006.mp4', '01:51', '01:58'), ('Thanawyat_Al_Nasim_1_KSA-007.mp4', '00:19', '00:24')]\n"
     ]
    }
   ],
   "source": [
    "import json\n",
    "\n",
    "def extract_tuples(json_string):\n",
    "  \"\"\"\n",
    "  Extracts tuples from a JSON string and appends them to a list.\n",
    "\n",
    "  Args:\n",
    "    json_string: A string in JSON format containing highlight data.\n",
    "\n",
    "  Returns:\n",
    "    A list of tuples, where each tuple represents a highlight \n",
    "    with (filename, start_timestamp, end_timestamp).\n",
    "  \"\"\"\n",
    "  data = json.loads(json_string)\n",
    "  highlights_list = []\n",
    "\n",
    "  for highlight in data:  # No need to use .get(\"highlights\", []) here since the list is at the top level\n",
    "    filename = highlight.get(\"filename\")\n",
    "    start_timestamp = highlight.get(\"start_timestamp\")\n",
    "    end_timestamp = highlight.get(\"end_timestamp\")\n",
    "\n",
    "    if filename and start_timestamp and end_timestamp:\n",
    "      highlights_list.append((filename, start_timestamp, end_timestamp))\n",
    "\n",
    "  return highlights_list\n",
    "\n",
    "# Example Usage:\n",
    "json_string = final_highlight\n",
    "split_for_video = extract_tuples(json_string)\n",
    "print(split_for_video)"
   ]
  },
  {
   "cell_type": "code",
   "execution_count": 11,
   "id": "5c8f4579-772f-468c-b3e2-2315eb04f384",
   "metadata": {
    "tags": []
   },
   "outputs": [
    {
     "name": "stdout",
     "output_type": "stream",
     "text": [
      "Directory 'video/thanawyat_al_nasim/output/chunk' created successfully.\n",
      "{'video_found': True, 'audio_found': True, 'metadata': {'encoder': 'libebml v1.4.2 + libmatroska v1.6.2', 'creation_time': '2025-01-23T10:17:24.000000Z'}, 'inputs': [{'streams': [{'input_number': 0, 'stream_number': 0, 'stream_type': 'video', 'language': None, 'default': True, 'size': [3840, 2160], 'bitrate': None, 'fps': 25.0, 'codec_name': 'h264', 'profile': '(High 4:2:2)', 'metadata': {'Metadata': '', 'BPS-eng': '14763821', 'DURATION-eng': '00:04:44.600000000', 'NUMBER_OF_FRAMES-eng': '7115', 'NUMBER_OF_BYTES-eng': '525222934', '_STATISTICS_WRITING_APP-eng': \"mkvmerge v52.0.0 ('Secret For The Mad') 64-bit\", '_STATISTICS_WRITING_DATE_UTC-eng': '2025-01-23 10:17:24', '_STATISTICS_TAGS-eng': 'BPS DURATION NUMBER_OF_FRAMES NUMBER_OF_BYTES'}}, {'input_number': 0, 'stream_number': 1, 'stream_type': 'audio', 'language': None, 'default': True, 'fps': 48000, 'bitrate': None, 'metadata': {'Metadata': '', 'BPS-eng': '65303', 'DURATION-eng': '00:04:44.629000000', 'NUMBER_OF_FRAMES-eng': '13342', 'NUMBER_OF_BYTES-eng': '2323415', '_STATISTICS_WRITING_APP-eng': \"mkvmerge v52.0.0 ('Secret For The Mad') 64-bit\", '_STATISTICS_WRITING_DATE_UTC-eng': '2025-01-23 10:17:24', '_STATISTICS_TAGS-eng': 'BPS DURATION NUMBER_OF_FRAMES NUMBER_OF_BYTES'}}], 'input_number': 0}], 'duration': 284.63, 'bitrate': 14830, 'start': 0.0, 'default_video_input_number': 0, 'default_video_stream_number': 0, 'video_codec_name': 'h264', 'video_profile': '(High 4:2:2)', 'video_size': [3840, 2160], 'video_bitrate': None, 'video_fps': 25.0, 'default_audio_input_number': 0, 'default_audio_stream_number': 1, 'audio_fps': 48000, 'audio_bitrate': None, 'video_duration': 284.63, 'video_n_frames': 7115}\n",
      "/opt/conda/lib/python3.10/site-packages/imageio_ffmpeg/binaries/ffmpeg-linux-x86_64-v7.0.2 -i video/thanawyat_al_nasim/output/Thanawyat_Al_Nasim_1_KSA-001.mp4 -loglevel error -f image2pipe -vf scale=3840:2160 -sws_flags bicubic -pix_fmt rgb24 -vcodec rawvideo -\n",
      "{'video_found': True, 'audio_found': True, 'metadata': {'encoder': 'libebml v1.4.2 + libmatroska v1.6.2', 'creation_time': '2025-01-23T10:17:24.000000Z'}, 'inputs': [{'streams': [{'input_number': 0, 'stream_number': 0, 'stream_type': 'video', 'language': None, 'default': True, 'size': [3840, 2160], 'bitrate': None, 'fps': 25.0, 'codec_name': 'h264', 'profile': '(High 4:2:2)', 'metadata': {'Metadata': '', 'BPS-eng': '14763821', 'DURATION-eng': '00:04:44.600000000', 'NUMBER_OF_FRAMES-eng': '7115', 'NUMBER_OF_BYTES-eng': '525222934', '_STATISTICS_WRITING_APP-eng': \"mkvmerge v52.0.0 ('Secret For The Mad') 64-bit\", '_STATISTICS_WRITING_DATE_UTC-eng': '2025-01-23 10:17:24', '_STATISTICS_TAGS-eng': 'BPS DURATION NUMBER_OF_FRAMES NUMBER_OF_BYTES'}}, {'input_number': 0, 'stream_number': 1, 'stream_type': 'audio', 'language': None, 'default': True, 'fps': 48000, 'bitrate': None, 'metadata': {'Metadata': '', 'BPS-eng': '65303', 'DURATION-eng': '00:04:44.629000000', 'NUMBER_OF_FRAMES-eng': '13342', 'NUMBER_OF_BYTES-eng': '2323415', '_STATISTICS_WRITING_APP-eng': \"mkvmerge v52.0.0 ('Secret For The Mad') 64-bit\", '_STATISTICS_WRITING_DATE_UTC-eng': '2025-01-23 10:17:24', '_STATISTICS_TAGS-eng': 'BPS DURATION NUMBER_OF_FRAMES NUMBER_OF_BYTES'}}], 'input_number': 0}], 'duration': 284.63, 'bitrate': 14830, 'start': 0.0, 'default_video_input_number': 0, 'default_video_stream_number': 0, 'video_codec_name': 'h264', 'video_profile': '(High 4:2:2)', 'video_size': [3840, 2160], 'video_bitrate': None, 'video_fps': 25.0, 'default_audio_input_number': 0, 'default_audio_stream_number': 1, 'audio_fps': 48000, 'audio_bitrate': None, 'video_duration': 284.63, 'video_n_frames': 7115}\n",
      "/opt/conda/lib/python3.10/site-packages/imageio_ffmpeg/binaries/ffmpeg-linux-x86_64-v7.0.2 -ss 84.000000 -i video/thanawyat_al_nasim/output/Thanawyat_Al_Nasim_1_KSA-001.mp4 -ss 1.000000 -loglevel error -f image2pipe -vf scale=3840:2160 -sws_flags bicubic -pix_fmt rgb24 -vcodec rawvideo -\n",
      "MoviePy - Building video video/thanawyat_al_nasim/output/chunk/Thanawyat_Al_Nasim_1_KSA-001-01:25_01:35.mp4.\n",
      "MoviePy - Writing audio in Thanawyat_Al_Nasim_1_KSA-001-01:25_01:35TEMP_MPY_wvf_snd.mp3\n"
     ]
    },
    {
     "name": "stderr",
     "output_type": "stream",
     "text": [
      "                                                                   \r"
     ]
    },
    {
     "name": "stdout",
     "output_type": "stream",
     "text": [
      "MoviePy - Done.\n",
      "MoviePy - Writing video video/thanawyat_al_nasim/output/chunk/Thanawyat_Al_Nasim_1_KSA-001-01:25_01:35.mp4\n",
      "\n"
     ]
    },
    {
     "name": "stderr",
     "output_type": "stream",
     "text": [
      "                                                                        \r"
     ]
    },
    {
     "name": "stdout",
     "output_type": "stream",
     "text": [
      "MoviePy - Done !\n",
      "MoviePy - video ready video/thanawyat_al_nasim/output/chunk/Thanawyat_Al_Nasim_1_KSA-001-01:25_01:35.mp4\n",
      "{'video_found': True, 'audio_found': True, 'metadata': {'encoder': 'libebml v1.4.2 + libmatroska v1.6.2', 'creation_time': '2025-01-23T10:17:24.000000Z'}, 'inputs': [{'streams': [{'input_number': 0, 'stream_number': 0, 'stream_type': 'video', 'language': None, 'default': True, 'size': [3840, 2160], 'bitrate': None, 'fps': 25.0, 'codec_name': 'h264', 'profile': '(High 4:2:2)', 'metadata': {'Metadata': '', 'BPS-eng': '9963033', 'DURATION-eng': '00:07:01.560000000', 'NUMBER_OF_FRAMES-eng': '10539', 'NUMBER_OF_BYTES-eng': '525002027', '_STATISTICS_WRITING_APP-eng': \"mkvmerge v52.0.0 ('Secret For The Mad') 64-bit\", '_STATISTICS_WRITING_DATE_UTC-eng': '2025-01-23 10:17:24', '_STATISTICS_TAGS-eng': 'BPS DURATION NUMBER_OF_FRAMES NUMBER_OF_BYTES'}}, {'input_number': 0, 'stream_number': 1, 'stream_type': 'audio', 'language': None, 'default': True, 'fps': 48000, 'bitrate': None, 'metadata': {'Metadata': '', 'BPS-eng': '69848', 'DURATION-eng': '00:07:01.568000000', 'NUMBER_OF_FRAMES-eng': '19761', 'NUMBER_OF_BYTES-eng': '3680751', '_STATISTICS_WRITING_APP-eng': \"mkvmerge v52.0.0 ('Secret For The Mad') 64-bit\", '_STATISTICS_WRITING_DATE_UTC-eng': '2025-01-23 10:17:24', '_STATISTICS_TAGS-eng': 'BPS DURATION NUMBER_OF_FRAMES NUMBER_OF_BYTES'}}], 'input_number': 0}], 'duration': 421.58, 'bitrate': 10035, 'start': 0.0, 'default_video_input_number': 0, 'default_video_stream_number': 0, 'video_codec_name': 'h264', 'video_profile': '(High 4:2:2)', 'video_size': [3840, 2160], 'video_bitrate': None, 'video_fps': 25.0, 'default_audio_input_number': 0, 'default_audio_stream_number': 1, 'audio_fps': 48000, 'audio_bitrate': None, 'video_duration': 421.58, 'video_n_frames': 10539}\n",
      "/opt/conda/lib/python3.10/site-packages/imageio_ffmpeg/binaries/ffmpeg-linux-x86_64-v7.0.2 -i video/thanawyat_al_nasim/output/Thanawyat_Al_Nasim_1_KSA-002.mp4 -loglevel error -f image2pipe -vf scale=3840:2160 -sws_flags bicubic -pix_fmt rgb24 -vcodec rawvideo -\n",
      "{'video_found': True, 'audio_found': True, 'metadata': {'encoder': 'libebml v1.4.2 + libmatroska v1.6.2', 'creation_time': '2025-01-23T10:17:24.000000Z'}, 'inputs': [{'streams': [{'input_number': 0, 'stream_number': 0, 'stream_type': 'video', 'language': None, 'default': True, 'size': [3840, 2160], 'bitrate': None, 'fps': 25.0, 'codec_name': 'h264', 'profile': '(High 4:2:2)', 'metadata': {'Metadata': '', 'BPS-eng': '9963033', 'DURATION-eng': '00:07:01.560000000', 'NUMBER_OF_FRAMES-eng': '10539', 'NUMBER_OF_BYTES-eng': '525002027', '_STATISTICS_WRITING_APP-eng': \"mkvmerge v52.0.0 ('Secret For The Mad') 64-bit\", '_STATISTICS_WRITING_DATE_UTC-eng': '2025-01-23 10:17:24', '_STATISTICS_TAGS-eng': 'BPS DURATION NUMBER_OF_FRAMES NUMBER_OF_BYTES'}}, {'input_number': 0, 'stream_number': 1, 'stream_type': 'audio', 'language': None, 'default': True, 'fps': 48000, 'bitrate': None, 'metadata': {'Metadata': '', 'BPS-eng': '69848', 'DURATION-eng': '00:07:01.568000000', 'NUMBER_OF_FRAMES-eng': '19761', 'NUMBER_OF_BYTES-eng': '3680751', '_STATISTICS_WRITING_APP-eng': \"mkvmerge v52.0.0 ('Secret For The Mad') 64-bit\", '_STATISTICS_WRITING_DATE_UTC-eng': '2025-01-23 10:17:24', '_STATISTICS_TAGS-eng': 'BPS DURATION NUMBER_OF_FRAMES NUMBER_OF_BYTES'}}], 'input_number': 0}], 'duration': 421.58, 'bitrate': 10035, 'start': 0.0, 'default_video_input_number': 0, 'default_video_stream_number': 0, 'video_codec_name': 'h264', 'video_profile': '(High 4:2:2)', 'video_size': [3840, 2160], 'video_bitrate': None, 'video_fps': 25.0, 'default_audio_input_number': 0, 'default_audio_stream_number': 1, 'audio_fps': 48000, 'audio_bitrate': None, 'video_duration': 421.58, 'video_n_frames': 10539}\n",
      "/opt/conda/lib/python3.10/site-packages/imageio_ffmpeg/binaries/ffmpeg-linux-x86_64-v7.0.2 -ss 359.000000 -i video/thanawyat_al_nasim/output/Thanawyat_Al_Nasim_1_KSA-002.mp4 -ss 1.000000 -loglevel error -f image2pipe -vf scale=3840:2160 -sws_flags bicubic -pix_fmt rgb24 -vcodec rawvideo -\n",
      "MoviePy - Building video video/thanawyat_al_nasim/output/chunk/Thanawyat_Al_Nasim_1_KSA-002-06:00_06:10.mp4.\n",
      "MoviePy - Writing audio in Thanawyat_Al_Nasim_1_KSA-002-06:00_06:10TEMP_MPY_wvf_snd.mp3\n"
     ]
    },
    {
     "name": "stderr",
     "output_type": "stream",
     "text": [
      "                                                                   \r"
     ]
    },
    {
     "name": "stdout",
     "output_type": "stream",
     "text": [
      "MoviePy - Done.\n",
      "MoviePy - Writing video video/thanawyat_al_nasim/output/chunk/Thanawyat_Al_Nasim_1_KSA-002-06:00_06:10.mp4\n",
      "\n"
     ]
    },
    {
     "name": "stderr",
     "output_type": "stream",
     "text": [
      "                                                                        \r"
     ]
    },
    {
     "name": "stdout",
     "output_type": "stream",
     "text": [
      "MoviePy - Done !\n",
      "MoviePy - video ready video/thanawyat_al_nasim/output/chunk/Thanawyat_Al_Nasim_1_KSA-002-06:00_06:10.mp4\n",
      "{'video_found': True, 'audio_found': True, 'metadata': {'encoder': 'libebml v1.4.2 + libmatroska v1.6.2', 'creation_time': '2025-01-23T10:17:24.000000Z'}, 'inputs': [{'streams': [{'input_number': 0, 'stream_number': 0, 'stream_type': 'video', 'language': None, 'default': True, 'size': [3840, 2160], 'bitrate': None, 'fps': 25.0, 'codec_name': 'h264', 'profile': '(High 4:2:2)', 'metadata': {'Metadata': '', 'BPS-eng': '11334031', 'DURATION-eng': '00:06:08.480000000', 'NUMBER_OF_FRAMES-eng': '9212', 'NUMBER_OF_BYTES-eng': '522045490', '_STATISTICS_WRITING_APP-eng': \"mkvmerge v52.0.0 ('Secret For The Mad') 64-bit\", '_STATISTICS_WRITING_DATE_UTC-eng': '2025-01-23 10:17:24', '_STATISTICS_TAGS-eng': 'BPS DURATION NUMBER_OF_FRAMES NUMBER_OF_BYTES'}}, {'input_number': 0, 'stream_number': 1, 'stream_type': 'audio', 'language': None, 'default': True, 'fps': 48000, 'bitrate': None, 'metadata': {'Metadata': '', 'BPS-eng': '69646', 'DURATION-eng': '00:06:08.469000000', 'NUMBER_OF_FRAMES-eng': '17272', 'NUMBER_OF_BYTES-eng': '3207840', '_STATISTICS_WRITING_APP-eng': \"mkvmerge v52.0.0 ('Secret For The Mad') 64-bit\", '_STATISTICS_WRITING_DATE_UTC-eng': '2025-01-23 10:17:24', '_STATISTICS_TAGS-eng': 'BPS DURATION NUMBER_OF_FRAMES NUMBER_OF_BYTES'}}], 'input_number': 0}], 'duration': 368.49, 'bitrate': 11406, 'start': 0.0, 'default_video_input_number': 0, 'default_video_stream_number': 0, 'video_codec_name': 'h264', 'video_profile': '(High 4:2:2)', 'video_size': [3840, 2160], 'video_bitrate': None, 'video_fps': 25.0, 'default_audio_input_number': 0, 'default_audio_stream_number': 1, 'audio_fps': 48000, 'audio_bitrate': None, 'video_duration': 368.49, 'video_n_frames': 9212}\n",
      "/opt/conda/lib/python3.10/site-packages/imageio_ffmpeg/binaries/ffmpeg-linux-x86_64-v7.0.2 -i video/thanawyat_al_nasim/output/Thanawyat_Al_Nasim_1_KSA-003.mp4 -loglevel error -f image2pipe -vf scale=3840:2160 -sws_flags bicubic -pix_fmt rgb24 -vcodec rawvideo -\n",
      "{'video_found': True, 'audio_found': True, 'metadata': {'encoder': 'libebml v1.4.2 + libmatroska v1.6.2', 'creation_time': '2025-01-23T10:17:24.000000Z'}, 'inputs': [{'streams': [{'input_number': 0, 'stream_number': 0, 'stream_type': 'video', 'language': None, 'default': True, 'size': [3840, 2160], 'bitrate': None, 'fps': 25.0, 'codec_name': 'h264', 'profile': '(High 4:2:2)', 'metadata': {'Metadata': '', 'BPS-eng': '11334031', 'DURATION-eng': '00:06:08.480000000', 'NUMBER_OF_FRAMES-eng': '9212', 'NUMBER_OF_BYTES-eng': '522045490', '_STATISTICS_WRITING_APP-eng': \"mkvmerge v52.0.0 ('Secret For The Mad') 64-bit\", '_STATISTICS_WRITING_DATE_UTC-eng': '2025-01-23 10:17:24', '_STATISTICS_TAGS-eng': 'BPS DURATION NUMBER_OF_FRAMES NUMBER_OF_BYTES'}}, {'input_number': 0, 'stream_number': 1, 'stream_type': 'audio', 'language': None, 'default': True, 'fps': 48000, 'bitrate': None, 'metadata': {'Metadata': '', 'BPS-eng': '69646', 'DURATION-eng': '00:06:08.469000000', 'NUMBER_OF_FRAMES-eng': '17272', 'NUMBER_OF_BYTES-eng': '3207840', '_STATISTICS_WRITING_APP-eng': \"mkvmerge v52.0.0 ('Secret For The Mad') 64-bit\", '_STATISTICS_WRITING_DATE_UTC-eng': '2025-01-23 10:17:24', '_STATISTICS_TAGS-eng': 'BPS DURATION NUMBER_OF_FRAMES NUMBER_OF_BYTES'}}], 'input_number': 0}], 'duration': 368.49, 'bitrate': 11406, 'start': 0.0, 'default_video_input_number': 0, 'default_video_stream_number': 0, 'video_codec_name': 'h264', 'video_profile': '(High 4:2:2)', 'video_size': [3840, 2160], 'video_bitrate': None, 'video_fps': 25.0, 'default_audio_input_number': 0, 'default_audio_stream_number': 1, 'audio_fps': 48000, 'audio_bitrate': None, 'video_duration': 368.49, 'video_n_frames': 9212}\n",
      "/opt/conda/lib/python3.10/site-packages/imageio_ffmpeg/binaries/ffmpeg-linux-x86_64-v7.0.2 -ss 88.000000 -i video/thanawyat_al_nasim/output/Thanawyat_Al_Nasim_1_KSA-003.mp4 -ss 1.000000 -loglevel error -f image2pipe -vf scale=3840:2160 -sws_flags bicubic -pix_fmt rgb24 -vcodec rawvideo -\n",
      "MoviePy - Building video video/thanawyat_al_nasim/output/chunk/Thanawyat_Al_Nasim_1_KSA-003-01:29_01:36.mp4.\n",
      "MoviePy - Writing audio in Thanawyat_Al_Nasim_1_KSA-003-01:29_01:36TEMP_MPY_wvf_snd.mp3\n"
     ]
    },
    {
     "name": "stderr",
     "output_type": "stream",
     "text": [
      "                                                                   \r"
     ]
    },
    {
     "name": "stdout",
     "output_type": "stream",
     "text": [
      "MoviePy - Done.\n",
      "MoviePy - Writing video video/thanawyat_al_nasim/output/chunk/Thanawyat_Al_Nasim_1_KSA-003-01:29_01:36.mp4\n",
      "\n"
     ]
    },
    {
     "name": "stderr",
     "output_type": "stream",
     "text": [
      "                                                                        \r"
     ]
    },
    {
     "name": "stdout",
     "output_type": "stream",
     "text": [
      "MoviePy - Done !\n",
      "MoviePy - video ready video/thanawyat_al_nasim/output/chunk/Thanawyat_Al_Nasim_1_KSA-003-01:29_01:36.mp4\n",
      "{'video_found': True, 'audio_found': True, 'metadata': {'encoder': 'libebml v1.4.2 + libmatroska v1.6.2', 'creation_time': '2025-01-23T10:17:24.000000Z'}, 'inputs': [{'streams': [{'input_number': 0, 'stream_number': 0, 'stream_type': 'video', 'language': None, 'default': True, 'size': [3840, 2160], 'bitrate': None, 'fps': 25.0, 'codec_name': 'h264', 'profile': '(High 4:2:2)', 'metadata': {'Metadata': '', 'BPS-eng': '10533874', 'DURATION-eng': '00:06:35.640000000', 'NUMBER_OF_FRAMES-eng': '9891', 'NUMBER_OF_BYTES-eng': '520952752', '_STATISTICS_WRITING_APP-eng': \"mkvmerge v52.0.0 ('Secret For The Mad') 64-bit\", '_STATISTICS_WRITING_DATE_UTC-eng': '2025-01-23 10:17:24', '_STATISTICS_TAGS-eng': 'BPS DURATION NUMBER_OF_FRAMES NUMBER_OF_BYTES'}}, {'input_number': 0, 'stream_number': 1, 'stream_type': 'audio', 'language': None, 'default': True, 'fps': 48000, 'bitrate': None, 'metadata': {'Metadata': '', 'BPS-eng': '69639', 'DURATION-eng': '00:06:35.647000000', 'NUMBER_OF_FRAMES-eng': '18546', 'NUMBER_OF_BYTES-eng': '3444079', '_STATISTICS_WRITING_APP-eng': \"mkvmerge v52.0.0 ('Secret For The Mad') 64-bit\", '_STATISTICS_WRITING_DATE_UTC-eng': '2025-01-23 10:17:24', '_STATISTICS_TAGS-eng': 'BPS DURATION NUMBER_OF_FRAMES NUMBER_OF_BYTES'}}], 'input_number': 0}], 'duration': 395.65, 'bitrate': 10605, 'start': 0.0, 'default_video_input_number': 0, 'default_video_stream_number': 0, 'video_codec_name': 'h264', 'video_profile': '(High 4:2:2)', 'video_size': [3840, 2160], 'video_bitrate': None, 'video_fps': 25.0, 'default_audio_input_number': 0, 'default_audio_stream_number': 1, 'audio_fps': 48000, 'audio_bitrate': None, 'video_duration': 395.65, 'video_n_frames': 9891}\n",
      "/opt/conda/lib/python3.10/site-packages/imageio_ffmpeg/binaries/ffmpeg-linux-x86_64-v7.0.2 -i video/thanawyat_al_nasim/output/Thanawyat_Al_Nasim_1_KSA-004.mp4 -loglevel error -f image2pipe -vf scale=3840:2160 -sws_flags bicubic -pix_fmt rgb24 -vcodec rawvideo -\n",
      "{'video_found': True, 'audio_found': True, 'metadata': {'encoder': 'libebml v1.4.2 + libmatroska v1.6.2', 'creation_time': '2025-01-23T10:17:24.000000Z'}, 'inputs': [{'streams': [{'input_number': 0, 'stream_number': 0, 'stream_type': 'video', 'language': None, 'default': True, 'size': [3840, 2160], 'bitrate': None, 'fps': 25.0, 'codec_name': 'h264', 'profile': '(High 4:2:2)', 'metadata': {'Metadata': '', 'BPS-eng': '10533874', 'DURATION-eng': '00:06:35.640000000', 'NUMBER_OF_FRAMES-eng': '9891', 'NUMBER_OF_BYTES-eng': '520952752', '_STATISTICS_WRITING_APP-eng': \"mkvmerge v52.0.0 ('Secret For The Mad') 64-bit\", '_STATISTICS_WRITING_DATE_UTC-eng': '2025-01-23 10:17:24', '_STATISTICS_TAGS-eng': 'BPS DURATION NUMBER_OF_FRAMES NUMBER_OF_BYTES'}}, {'input_number': 0, 'stream_number': 1, 'stream_type': 'audio', 'language': None, 'default': True, 'fps': 48000, 'bitrate': None, 'metadata': {'Metadata': '', 'BPS-eng': '69639', 'DURATION-eng': '00:06:35.647000000', 'NUMBER_OF_FRAMES-eng': '18546', 'NUMBER_OF_BYTES-eng': '3444079', '_STATISTICS_WRITING_APP-eng': \"mkvmerge v52.0.0 ('Secret For The Mad') 64-bit\", '_STATISTICS_WRITING_DATE_UTC-eng': '2025-01-23 10:17:24', '_STATISTICS_TAGS-eng': 'BPS DURATION NUMBER_OF_FRAMES NUMBER_OF_BYTES'}}], 'input_number': 0}], 'duration': 395.65, 'bitrate': 10605, 'start': 0.0, 'default_video_input_number': 0, 'default_video_stream_number': 0, 'video_codec_name': 'h264', 'video_profile': '(High 4:2:2)', 'video_size': [3840, 2160], 'video_bitrate': None, 'video_fps': 25.0, 'default_audio_input_number': 0, 'default_audio_stream_number': 1, 'audio_fps': 48000, 'audio_bitrate': None, 'video_duration': 395.65, 'video_n_frames': 9891}\n",
      "/opt/conda/lib/python3.10/site-packages/imageio_ffmpeg/binaries/ffmpeg-linux-x86_64-v7.0.2 -ss 108.000000 -i video/thanawyat_al_nasim/output/Thanawyat_Al_Nasim_1_KSA-004.mp4 -ss 1.000000 -loglevel error -f image2pipe -vf scale=3840:2160 -sws_flags bicubic -pix_fmt rgb24 -vcodec rawvideo -\n",
      "MoviePy - Building video video/thanawyat_al_nasim/output/chunk/Thanawyat_Al_Nasim_1_KSA-004-01:49_01:59.mp4.\n",
      "MoviePy - Writing audio in Thanawyat_Al_Nasim_1_KSA-004-01:49_01:59TEMP_MPY_wvf_snd.mp3\n"
     ]
    },
    {
     "name": "stderr",
     "output_type": "stream",
     "text": [
      "                                                                   \r"
     ]
    },
    {
     "name": "stdout",
     "output_type": "stream",
     "text": [
      "MoviePy - Done.\n",
      "MoviePy - Writing video video/thanawyat_al_nasim/output/chunk/Thanawyat_Al_Nasim_1_KSA-004-01:49_01:59.mp4\n",
      "\n"
     ]
    },
    {
     "name": "stderr",
     "output_type": "stream",
     "text": [
      "                                                                        \r"
     ]
    },
    {
     "name": "stdout",
     "output_type": "stream",
     "text": [
      "MoviePy - Done !\n",
      "MoviePy - video ready video/thanawyat_al_nasim/output/chunk/Thanawyat_Al_Nasim_1_KSA-004-01:49_01:59.mp4\n",
      "{'video_found': True, 'audio_found': True, 'metadata': {'encoder': 'libebml v1.4.2 + libmatroska v1.6.2', 'creation_time': '2025-01-23T10:17:24.000000Z'}, 'inputs': [{'streams': [{'input_number': 0, 'stream_number': 0, 'stream_type': 'video', 'language': None, 'default': True, 'size': [3840, 2160], 'bitrate': None, 'fps': 25.0, 'codec_name': 'h264', 'profile': '(High 4:2:2)', 'metadata': {'Metadata': '', 'BPS-eng': '10357419', 'DURATION-eng': '00:06:42.360000000', 'NUMBER_OF_FRAMES-eng': '10059', 'NUMBER_OF_BYTES-eng': '520926413', '_STATISTICS_WRITING_APP-eng': \"mkvmerge v52.0.0 ('Secret For The Mad') 64-bit\", '_STATISTICS_WRITING_DATE_UTC-eng': '2025-01-23 10:17:24', '_STATISTICS_TAGS-eng': 'BPS DURATION NUMBER_OF_FRAMES NUMBER_OF_BYTES'}}, {'input_number': 0, 'stream_number': 1, 'stream_type': 'audio', 'language': None, 'default': True, 'fps': 48000, 'bitrate': None, 'metadata': {'Metadata': '', 'BPS-eng': '69700', 'DURATION-eng': '00:06:42.346000000', 'NUMBER_OF_FRAMES-eng': '18860', 'NUMBER_OF_BYTES-eng': '3505455', '_STATISTICS_WRITING_APP-eng': \"mkvmerge v52.0.0 ('Secret For The Mad') 64-bit\", '_STATISTICS_WRITING_DATE_UTC-eng': '2025-01-23 10:17:24', '_STATISTICS_TAGS-eng': 'BPS DURATION NUMBER_OF_FRAMES NUMBER_OF_BYTES'}}], 'input_number': 0}], 'duration': 402.36, 'bitrate': 10429, 'start': 0.0, 'default_video_input_number': 0, 'default_video_stream_number': 0, 'video_codec_name': 'h264', 'video_profile': '(High 4:2:2)', 'video_size': [3840, 2160], 'video_bitrate': None, 'video_fps': 25.0, 'default_audio_input_number': 0, 'default_audio_stream_number': 1, 'audio_fps': 48000, 'audio_bitrate': None, 'video_duration': 402.36, 'video_n_frames': 10059}\n",
      "/opt/conda/lib/python3.10/site-packages/imageio_ffmpeg/binaries/ffmpeg-linux-x86_64-v7.0.2 -i video/thanawyat_al_nasim/output/Thanawyat_Al_Nasim_1_KSA-005.mp4 -loglevel error -f image2pipe -vf scale=3840:2160 -sws_flags bicubic -pix_fmt rgb24 -vcodec rawvideo -\n",
      "{'video_found': True, 'audio_found': True, 'metadata': {'encoder': 'libebml v1.4.2 + libmatroska v1.6.2', 'creation_time': '2025-01-23T10:17:24.000000Z'}, 'inputs': [{'streams': [{'input_number': 0, 'stream_number': 0, 'stream_type': 'video', 'language': None, 'default': True, 'size': [3840, 2160], 'bitrate': None, 'fps': 25.0, 'codec_name': 'h264', 'profile': '(High 4:2:2)', 'metadata': {'Metadata': '', 'BPS-eng': '10357419', 'DURATION-eng': '00:06:42.360000000', 'NUMBER_OF_FRAMES-eng': '10059', 'NUMBER_OF_BYTES-eng': '520926413', '_STATISTICS_WRITING_APP-eng': \"mkvmerge v52.0.0 ('Secret For The Mad') 64-bit\", '_STATISTICS_WRITING_DATE_UTC-eng': '2025-01-23 10:17:24', '_STATISTICS_TAGS-eng': 'BPS DURATION NUMBER_OF_FRAMES NUMBER_OF_BYTES'}}, {'input_number': 0, 'stream_number': 1, 'stream_type': 'audio', 'language': None, 'default': True, 'fps': 48000, 'bitrate': None, 'metadata': {'Metadata': '', 'BPS-eng': '69700', 'DURATION-eng': '00:06:42.346000000', 'NUMBER_OF_FRAMES-eng': '18860', 'NUMBER_OF_BYTES-eng': '3505455', '_STATISTICS_WRITING_APP-eng': \"mkvmerge v52.0.0 ('Secret For The Mad') 64-bit\", '_STATISTICS_WRITING_DATE_UTC-eng': '2025-01-23 10:17:24', '_STATISTICS_TAGS-eng': 'BPS DURATION NUMBER_OF_FRAMES NUMBER_OF_BYTES'}}], 'input_number': 0}], 'duration': 402.36, 'bitrate': 10429, 'start': 0.0, 'default_video_input_number': 0, 'default_video_stream_number': 0, 'video_codec_name': 'h264', 'video_profile': '(High 4:2:2)', 'video_size': [3840, 2160], 'video_bitrate': None, 'video_fps': 25.0, 'default_audio_input_number': 0, 'default_audio_stream_number': 1, 'audio_fps': 48000, 'audio_bitrate': None, 'video_duration': 402.36, 'video_n_frames': 10059}\n",
      "/opt/conda/lib/python3.10/site-packages/imageio_ffmpeg/binaries/ffmpeg-linux-x86_64-v7.0.2 -ss 168.000000 -i video/thanawyat_al_nasim/output/Thanawyat_Al_Nasim_1_KSA-005.mp4 -ss 1.000000 -loglevel error -f image2pipe -vf scale=3840:2160 -sws_flags bicubic -pix_fmt rgb24 -vcodec rawvideo -\n",
      "MoviePy - Building video video/thanawyat_al_nasim/output/chunk/Thanawyat_Al_Nasim_1_KSA-005-02:49_02:59.mp4.\n",
      "MoviePy - Writing audio in Thanawyat_Al_Nasim_1_KSA-005-02:49_02:59TEMP_MPY_wvf_snd.mp3\n"
     ]
    },
    {
     "name": "stderr",
     "output_type": "stream",
     "text": [
      "                                                                   \r"
     ]
    },
    {
     "name": "stdout",
     "output_type": "stream",
     "text": [
      "MoviePy - Done.\n",
      "MoviePy - Writing video video/thanawyat_al_nasim/output/chunk/Thanawyat_Al_Nasim_1_KSA-005-02:49_02:59.mp4\n",
      "\n"
     ]
    },
    {
     "name": "stderr",
     "output_type": "stream",
     "text": [
      "                                                                        \r"
     ]
    },
    {
     "name": "stdout",
     "output_type": "stream",
     "text": [
      "MoviePy - Done !\n",
      "MoviePy - video ready video/thanawyat_al_nasim/output/chunk/Thanawyat_Al_Nasim_1_KSA-005-02:49_02:59.mp4\n",
      "{'video_found': True, 'audio_found': True, 'metadata': {'encoder': 'libebml v1.4.2 + libmatroska v1.6.2', 'creation_time': '2025-01-23T10:17:24.000000Z'}, 'inputs': [{'streams': [{'input_number': 0, 'stream_number': 0, 'stream_type': 'video', 'language': None, 'default': True, 'size': [3840, 2160], 'bitrate': None, 'fps': 25.0, 'codec_name': 'h264', 'profile': '(High 4:2:2)', 'metadata': {'Metadata': '', 'BPS-eng': '10346907', 'DURATION-eng': '00:06:59.400000000', 'NUMBER_OF_FRAMES-eng': '10485', 'NUMBER_OF_BYTES-eng': '542436623', '_STATISTICS_WRITING_APP-eng': \"mkvmerge v52.0.0 ('Secret For The Mad') 64-bit\", '_STATISTICS_WRITING_DATE_UTC-eng': '2025-01-23 10:17:24', '_STATISTICS_TAGS-eng': 'BPS DURATION NUMBER_OF_FRAMES NUMBER_OF_BYTES'}}, {'input_number': 0, 'stream_number': 1, 'stream_type': 'audio', 'language': None, 'default': True, 'fps': 48000, 'bitrate': None, 'metadata': {'Metadata': '', 'BPS-eng': '69778', 'DURATION-eng': '00:06:59.413000000', 'NUMBER_OF_FRAMES-eng': '19660', 'NUMBER_OF_BYTES-eng': '3658239', '_STATISTICS_WRITING_APP-eng': \"mkvmerge v52.0.0 ('Secret For The Mad') 64-bit\", '_STATISTICS_WRITING_DATE_UTC-eng': '2025-01-23 10:17:24', '_STATISTICS_TAGS-eng': 'BPS DURATION NUMBER_OF_FRAMES NUMBER_OF_BYTES'}}], 'input_number': 0}], 'duration': 419.40999999999997, 'bitrate': 10418, 'start': 0.0, 'default_video_input_number': 0, 'default_video_stream_number': 0, 'video_codec_name': 'h264', 'video_profile': '(High 4:2:2)', 'video_size': [3840, 2160], 'video_bitrate': None, 'video_fps': 25.0, 'default_audio_input_number': 0, 'default_audio_stream_number': 1, 'audio_fps': 48000, 'audio_bitrate': None, 'video_duration': 419.40999999999997, 'video_n_frames': 10485}\n",
      "/opt/conda/lib/python3.10/site-packages/imageio_ffmpeg/binaries/ffmpeg-linux-x86_64-v7.0.2 -i video/thanawyat_al_nasim/output/Thanawyat_Al_Nasim_1_KSA-006.mp4 -loglevel error -f image2pipe -vf scale=3840:2160 -sws_flags bicubic -pix_fmt rgb24 -vcodec rawvideo -\n",
      "{'video_found': True, 'audio_found': True, 'metadata': {'encoder': 'libebml v1.4.2 + libmatroska v1.6.2', 'creation_time': '2025-01-23T10:17:24.000000Z'}, 'inputs': [{'streams': [{'input_number': 0, 'stream_number': 0, 'stream_type': 'video', 'language': None, 'default': True, 'size': [3840, 2160], 'bitrate': None, 'fps': 25.0, 'codec_name': 'h264', 'profile': '(High 4:2:2)', 'metadata': {'Metadata': '', 'BPS-eng': '10346907', 'DURATION-eng': '00:06:59.400000000', 'NUMBER_OF_FRAMES-eng': '10485', 'NUMBER_OF_BYTES-eng': '542436623', '_STATISTICS_WRITING_APP-eng': \"mkvmerge v52.0.0 ('Secret For The Mad') 64-bit\", '_STATISTICS_WRITING_DATE_UTC-eng': '2025-01-23 10:17:24', '_STATISTICS_TAGS-eng': 'BPS DURATION NUMBER_OF_FRAMES NUMBER_OF_BYTES'}}, {'input_number': 0, 'stream_number': 1, 'stream_type': 'audio', 'language': None, 'default': True, 'fps': 48000, 'bitrate': None, 'metadata': {'Metadata': '', 'BPS-eng': '69778', 'DURATION-eng': '00:06:59.413000000', 'NUMBER_OF_FRAMES-eng': '19660', 'NUMBER_OF_BYTES-eng': '3658239', '_STATISTICS_WRITING_APP-eng': \"mkvmerge v52.0.0 ('Secret For The Mad') 64-bit\", '_STATISTICS_WRITING_DATE_UTC-eng': '2025-01-23 10:17:24', '_STATISTICS_TAGS-eng': 'BPS DURATION NUMBER_OF_FRAMES NUMBER_OF_BYTES'}}], 'input_number': 0}], 'duration': 419.40999999999997, 'bitrate': 10418, 'start': 0.0, 'default_video_input_number': 0, 'default_video_stream_number': 0, 'video_codec_name': 'h264', 'video_profile': '(High 4:2:2)', 'video_size': [3840, 2160], 'video_bitrate': None, 'video_fps': 25.0, 'default_audio_input_number': 0, 'default_audio_stream_number': 1, 'audio_fps': 48000, 'audio_bitrate': None, 'video_duration': 419.40999999999997, 'video_n_frames': 10485}\n",
      "/opt/conda/lib/python3.10/site-packages/imageio_ffmpeg/binaries/ffmpeg-linux-x86_64-v7.0.2 -ss 110.000000 -i video/thanawyat_al_nasim/output/Thanawyat_Al_Nasim_1_KSA-006.mp4 -ss 1.000000 -loglevel error -f image2pipe -vf scale=3840:2160 -sws_flags bicubic -pix_fmt rgb24 -vcodec rawvideo -\n",
      "MoviePy - Building video video/thanawyat_al_nasim/output/chunk/Thanawyat_Al_Nasim_1_KSA-006-01:51_01:58.mp4.\n",
      "MoviePy - Writing audio in Thanawyat_Al_Nasim_1_KSA-006-01:51_01:58TEMP_MPY_wvf_snd.mp3\n"
     ]
    },
    {
     "name": "stderr",
     "output_type": "stream",
     "text": [
      "                                                                   \r"
     ]
    },
    {
     "name": "stdout",
     "output_type": "stream",
     "text": [
      "MoviePy - Done.\n",
      "MoviePy - Writing video video/thanawyat_al_nasim/output/chunk/Thanawyat_Al_Nasim_1_KSA-006-01:51_01:58.mp4\n",
      "\n"
     ]
    },
    {
     "name": "stderr",
     "output_type": "stream",
     "text": [
      "                                                                        \r"
     ]
    },
    {
     "name": "stdout",
     "output_type": "stream",
     "text": [
      "MoviePy - Done !\n",
      "MoviePy - video ready video/thanawyat_al_nasim/output/chunk/Thanawyat_Al_Nasim_1_KSA-006-01:51_01:58.mp4\n",
      "{'video_found': True, 'audio_found': True, 'metadata': {'encoder': 'libebml v1.4.2 + libmatroska v1.6.2', 'creation_time': '2025-01-23T10:17:24.000000Z'}, 'inputs': [{'streams': [{'input_number': 0, 'stream_number': 0, 'stream_type': 'video', 'language': None, 'default': True, 'size': [3840, 2160], 'bitrate': None, 'fps': 25.0, 'codec_name': 'h264', 'profile': '(High 4:2:2)', 'metadata': {'Metadata': '', 'BPS-eng': '3324997', 'DURATION-eng': '00:02:38.520000000', 'NUMBER_OF_FRAMES-eng': '3963', 'NUMBER_OF_BYTES-eng': '65884825', '_STATISTICS_WRITING_APP-eng': \"mkvmerge v52.0.0 ('Secret For The Mad') 64-bit\", '_STATISTICS_WRITING_DATE_UTC-eng': '2025-01-23 10:17:24', '_STATISTICS_TAGS-eng': 'BPS DURATION NUMBER_OF_FRAMES NUMBER_OF_BYTES'}}, {'input_number': 0, 'stream_number': 1, 'stream_type': 'audio', 'language': None, 'default': True, 'fps': 48000, 'bitrate': None, 'metadata': {'Metadata': '', 'BPS-eng': '69104', 'DURATION-eng': '00:02:38.506000000', 'NUMBER_OF_FRAMES-eng': '7430', 'NUMBER_OF_BYTES-eng': '1369176', '_STATISTICS_WRITING_APP-eng': \"mkvmerge v52.0.0 ('Secret For The Mad') 64-bit\", '_STATISTICS_WRITING_DATE_UTC-eng': '2025-01-23 10:17:24', '_STATISTICS_TAGS-eng': 'BPS DURATION NUMBER_OF_FRAMES NUMBER_OF_BYTES'}}], 'input_number': 0}], 'duration': 158.52, 'bitrate': 3396, 'start': 0.0, 'default_video_input_number': 0, 'default_video_stream_number': 0, 'video_codec_name': 'h264', 'video_profile': '(High 4:2:2)', 'video_size': [3840, 2160], 'video_bitrate': None, 'video_fps': 25.0, 'default_audio_input_number': 0, 'default_audio_stream_number': 1, 'audio_fps': 48000, 'audio_bitrate': None, 'video_duration': 158.52, 'video_n_frames': 3963}\n",
      "/opt/conda/lib/python3.10/site-packages/imageio_ffmpeg/binaries/ffmpeg-linux-x86_64-v7.0.2 -i video/thanawyat_al_nasim/output/Thanawyat_Al_Nasim_1_KSA-007.mp4 -loglevel error -f image2pipe -vf scale=3840:2160 -sws_flags bicubic -pix_fmt rgb24 -vcodec rawvideo -\n",
      "{'video_found': True, 'audio_found': True, 'metadata': {'encoder': 'libebml v1.4.2 + libmatroska v1.6.2', 'creation_time': '2025-01-23T10:17:24.000000Z'}, 'inputs': [{'streams': [{'input_number': 0, 'stream_number': 0, 'stream_type': 'video', 'language': None, 'default': True, 'size': [3840, 2160], 'bitrate': None, 'fps': 25.0, 'codec_name': 'h264', 'profile': '(High 4:2:2)', 'metadata': {'Metadata': '', 'BPS-eng': '3324997', 'DURATION-eng': '00:02:38.520000000', 'NUMBER_OF_FRAMES-eng': '3963', 'NUMBER_OF_BYTES-eng': '65884825', '_STATISTICS_WRITING_APP-eng': \"mkvmerge v52.0.0 ('Secret For The Mad') 64-bit\", '_STATISTICS_WRITING_DATE_UTC-eng': '2025-01-23 10:17:24', '_STATISTICS_TAGS-eng': 'BPS DURATION NUMBER_OF_FRAMES NUMBER_OF_BYTES'}}, {'input_number': 0, 'stream_number': 1, 'stream_type': 'audio', 'language': None, 'default': True, 'fps': 48000, 'bitrate': None, 'metadata': {'Metadata': '', 'BPS-eng': '69104', 'DURATION-eng': '00:02:38.506000000', 'NUMBER_OF_FRAMES-eng': '7430', 'NUMBER_OF_BYTES-eng': '1369176', '_STATISTICS_WRITING_APP-eng': \"mkvmerge v52.0.0 ('Secret For The Mad') 64-bit\", '_STATISTICS_WRITING_DATE_UTC-eng': '2025-01-23 10:17:24', '_STATISTICS_TAGS-eng': 'BPS DURATION NUMBER_OF_FRAMES NUMBER_OF_BYTES'}}], 'input_number': 0}], 'duration': 158.52, 'bitrate': 3396, 'start': 0.0, 'default_video_input_number': 0, 'default_video_stream_number': 0, 'video_codec_name': 'h264', 'video_profile': '(High 4:2:2)', 'video_size': [3840, 2160], 'video_bitrate': None, 'video_fps': 25.0, 'default_audio_input_number': 0, 'default_audio_stream_number': 1, 'audio_fps': 48000, 'audio_bitrate': None, 'video_duration': 158.52, 'video_n_frames': 3963}\n",
      "/opt/conda/lib/python3.10/site-packages/imageio_ffmpeg/binaries/ffmpeg-linux-x86_64-v7.0.2 -ss 18.000000 -i video/thanawyat_al_nasim/output/Thanawyat_Al_Nasim_1_KSA-007.mp4 -ss 1.000000 -loglevel error -f image2pipe -vf scale=3840:2160 -sws_flags bicubic -pix_fmt rgb24 -vcodec rawvideo -\n",
      "MoviePy - Building video video/thanawyat_al_nasim/output/chunk/Thanawyat_Al_Nasim_1_KSA-007-00:19_00:24.mp4.\n",
      "MoviePy - Writing audio in Thanawyat_Al_Nasim_1_KSA-007-00:19_00:24TEMP_MPY_wvf_snd.mp3\n"
     ]
    },
    {
     "name": "stderr",
     "output_type": "stream",
     "text": [
      "                                                                   \r"
     ]
    },
    {
     "name": "stdout",
     "output_type": "stream",
     "text": [
      "MoviePy - Done.\n",
      "MoviePy - Writing video video/thanawyat_al_nasim/output/chunk/Thanawyat_Al_Nasim_1_KSA-007-00:19_00:24.mp4\n",
      "\n"
     ]
    },
    {
     "name": "stderr",
     "output_type": "stream",
     "text": [
      "                                                                        \r"
     ]
    },
    {
     "name": "stdout",
     "output_type": "stream",
     "text": [
      "MoviePy - Done !\n",
      "MoviePy - video ready video/thanawyat_al_nasim/output/chunk/Thanawyat_Al_Nasim_1_KSA-007-00:19_00:24.mp4\n"
     ]
    }
   ],
   "source": [
    "from moviepy.video.io.ffmpeg_tools import ffmpeg_extract_subclip\n",
    "from moviepy import VideoFileClip\n",
    "import os\n",
    "\n",
    "def cut_video(input_file, output_file, start_time, end_time):\n",
    "  \"\"\"\n",
    "  Cuts a video file from start_time to end_time using moviepy.\n",
    "\n",
    "  Args:\n",
    "    input_file: Path to the input video file.\n",
    "    output_file: Path to save the output (cut) video file.\n",
    "    start_time: Start time in \"mm:ss\" format (e.g., \"01:30\").\n",
    "    end_time: End time in \"mm:ss\" format (e.g., \"02:15\").\n",
    "  \"\"\"\n",
    "\n",
    "  def time_to_seconds(time_str):\n",
    "      \"\"\"Converts a time string in mm:ss format to seconds.\"\"\"\n",
    "      minutes, seconds = map(int, time_str.split(':'))\n",
    "      return minutes * 60 + seconds\n",
    "\n",
    "  start_seconds = time_to_seconds(start_time)\n",
    "  print(start_seconds)\n",
    "  end_seconds = time_to_seconds(end_time)\n",
    "  print(end_seconds)\n",
    "  \n",
    "  # Method 1 (More Precise, but can be slower for large files or many cuts)\n",
    "  # Uses VideoFileClip for loading, which allows for frame-accurate cutting\n",
    "  # More suitable for editing workflows where you might be doing other\n",
    "  # manipulations with the clip beyond just cutting.\n",
    "  try:\n",
    "      with VideoFileClip(input_file) as video:\n",
    "          subclip = video.subclip(start_seconds, end_seconds)\n",
    "          subclip.write_videofile(output_file)\n",
    "  except Exception as e:\n",
    "      print(f\"Error using VideoFileClip: {e}\")\n",
    "      print(\"Falling back to ffmpeg_extract_subclip\")\n",
    "  \n",
    "      # Method 2 (Faster, but may not be frame-accurate)\n",
    "      # Uses ffmpeg_extract_subclip which is a direct call to ffmpeg\n",
    "      # Much faster for simple cutting, especially with large files.\n",
    "      # Precision depends on keyframe placement in the original video.\n",
    "      try:\n",
    "          ffmpeg_extract_subclip(input_file, start_seconds, end_seconds, targetname=output_file)\n",
    "      except Exception as e:\n",
    "          print(f\"Error using ffmpeg_extract_subclip: {e}\")\n",
    "          \n",
    "\n",
    "# Example Usage:\n",
    "# input_video = \"input.mp4\"\n",
    "# output_video = \"output.mp4\"\n",
    "# start_time = \"00:10\"\n",
    "# end_time = \"00:30\"\n",
    "\n",
    "# cut_video(input_video, output_video, start_time, end_time)\n",
    "\n",
    "\n",
    "\n",
    "# video clips\n",
    "# from moviepy import *\n",
    " \n",
    "# # loading video dsa gfg intro video\n",
    "# clip = VideoFileClip(\"video/hajjan/output/Hajjan_KSA-001.mp4\")\n",
    " \n",
    "# # getting subclip as video is large\n",
    "# chunk = clip.subclipped(55, 100)\n",
    "# chunk.write_videofile(\"video/hajjan/output/chunk/Hajjan_KSA-001_1.mp4\")\n",
    "# clip.close()\n",
    "# showing clip\n",
    "# clip.ipython_display(width = 480)\n",
    "\n",
    "chunk_directory = os.path.join(video_directory, 'chunk')\n",
    "try:\n",
    "    os.makedirs(chunk_directory)\n",
    "    print(f\"Directory '{chunk_directory}' created successfully.\")\n",
    "except FileExistsError:\n",
    "    print(f\"Directory '{chunk_directory}' already exists.\")\n",
    "\n",
    "for split in split_for_video:\n",
    "    video_source = video_directory+\"/\"+split[0]\n",
    "    video_destination = chunk_directory+\"/\"+split[0].split(\".\")[0]+\"-\"+split[1]+\"_\"+split[2]+\".mp4\"\n",
    "    clip = VideoFileClip(video_source)\n",
    "    chunk = clip.subclipped(split[1], split[2])\n",
    "    chunk.write_videofile(video_destination)\n",
    "    chunk.close()\n",
    "    clip.close()\n",
    "\n",
    "    \n",
    "    \n",
    "    # cut_video(video_source ,video_destination,split[1],split[2])\n",
    "    \n"
   ]
  },
  {
   "cell_type": "code",
   "execution_count": 12,
   "id": "1fa0ae5f-28c3-4bea-a872-55d1ce19f4a4",
   "metadata": {
    "tags": []
   },
   "outputs": [
    {
     "data": {
      "text/plain": [
       "['video/thanawyat_al_nasim/output/chunk/Thanawyat_Al_Nasim_1_KSA-001-01:25_01:35.mp4',\n",
       " 'video/thanawyat_al_nasim/output/chunk/Thanawyat_Al_Nasim_1_KSA-002-06:00_06:10.mp4',\n",
       " 'video/thanawyat_al_nasim/output/chunk/Thanawyat_Al_Nasim_1_KSA-003-01:29_01:36.mp4',\n",
       " 'video/thanawyat_al_nasim/output/chunk/Thanawyat_Al_Nasim_1_KSA-004-01:49_01:59.mp4',\n",
       " 'video/thanawyat_al_nasim/output/chunk/Thanawyat_Al_Nasim_1_KSA-005-02:49_02:59.mp4',\n",
       " 'video/thanawyat_al_nasim/output/chunk/Thanawyat_Al_Nasim_1_KSA-006-01:51_01:58.mp4',\n",
       " 'video/thanawyat_al_nasim/output/chunk/Thanawyat_Al_Nasim_1_KSA-007-00:19_00:24.mp4']"
      ]
     },
     "execution_count": 12,
     "metadata": {},
     "output_type": "execute_result"
    }
   ],
   "source": [
    "import re\n",
    "import os\n",
    "import datetime\n",
    "\n",
    "def get_sorted_files(folder_path):\n",
    "    \"\"\"\n",
    "    Returns a list of .mp4 files in the given folder, sorted by their index and start time.\n",
    "    The index is assumed to be in the middle of the filename, e.g., 001 for Hajjan_KSA-001-07:43_07:55.mp4.\n",
    "    The start time is extracted from the filename in the format MM:SS.\n",
    "    \"\"\"\n",
    "    files = [f for f in os.listdir(folder_path) if f.endswith('.mp4')]\n",
    "\n",
    "    # Sort files by index and then start time (using MM:SS format)\n",
    "    files.sort(key=lambda f: (int(re.search(r'-(\\d{3})-', f).group(1)),\n",
    "                              datetime.datetime.strptime(re.search(r'-(\\d{2}:\\d{2})_', f).group(1), '%M:%S')))\n",
    "\n",
    "    # Join the folder path and file name to get the full path\n",
    "    full_paths = [os.path.join(folder_path, file) for file in files]\n",
    "    return full_paths\n",
    "order_file_list = get_sorted_files(chunk_directory)\n",
    "order_file_list"
   ]
  },
  {
   "cell_type": "code",
   "execution_count": 13,
   "id": "806d6137-078e-4bd6-aaed-853b452cce08",
   "metadata": {
    "tags": []
   },
   "outputs": [
    {
     "name": "stdout",
     "output_type": "stream",
     "text": [
      "temp_fullpath_outputfile: video/thanawyat_al_nasim/Thanawyat_Al_Nasim_1_KSA_trailer.mp4\n",
      "fullpath_outputdir:video/thanawyat_al_nasim/output/chunk\n",
      "video/thanawyat_al_nasim/output/chunk/Thanawyat_Al_Nasim_1_KSA_trailer.mp4\n",
      "Successfully merged files into: video/thanawyat_al_nasim/output/chunk/Thanawyat_Al_Nasim_1_KSA_trailer.mp4.mkv\n"
     ]
    }
   ],
   "source": [
    "import subprocess\n",
    "import os\n",
    "\n",
    "def merge_mp4_files(input_files, output_file):\n",
    "  \"\"\"\n",
    "  Merges multiple MP4 files into a single MKV file using mkvmerge.\n",
    "\n",
    "  Args:\n",
    "    input_files: A list of paths to the MP4 files to merge, in the desired order.\n",
    "    output_file: The path to save the output MKV file.\n",
    "  \"\"\"\n",
    "\n",
    "  if not input_files:\n",
    "      raise ValueError(\"Input file list cannot be empty.\")\n",
    "\n",
    "  if not all(os.path.exists(file) for file in input_files):\n",
    "      raise FileNotFoundError(\"One or more input files do not exist.\")\n",
    "\n",
    "  if not output_file.endswith(\".mkv\"):\n",
    "      output_file += \".mkv\"\n",
    "\n",
    "  # Build the mkvmerge command\n",
    "  command = [\"mkvmerge\", \"-o\", output_file]\n",
    "\n",
    "  # Add the first input file\n",
    "  command.append(input_files[0])\n",
    "\n",
    "  # Add the rest of the input files with +\n",
    "  for file in input_files[1:]:\n",
    "      command.append(\"+\")\n",
    "      command.append(file)\n",
    "  \n",
    "  try:\n",
    "      # Run mkvmerge\n",
    "      subprocess.run(command, check=True, capture_output=True, text=True)\n",
    "      print(f\"Successfully merged files into: {output_file}\")\n",
    "  \n",
    "  except subprocess.CalledProcessError as e:\n",
    "      print(f\"Error during merging:\")\n",
    "      print(f\"  Return code: {e.returncode}\")\n",
    "      print(f\"  Stdout: {e.stdout}\")\n",
    "      print(f\"  Stderr: {e.stderr}\")\n",
    "      raise\n",
    "\n",
    "# Example Usage:\n",
    "\n",
    "# input_file = \"video/hajjan/Hajjan_KSA.mp4\"\n",
    "\n",
    "base_name, ext = os.path.splitext(input_file)\n",
    "temp_fullpath_outputfile = base_name + \"_trailer\" + ext\n",
    "print(f\"temp_fullpath_outputfile: {temp_fullpath_outputfile}\")\n",
    "# merge_mp4_files(order_file_list, \n",
    "fullpath_outputdir = chunk_directory\n",
    "print(f\"fullpath_outputdir:{fullpath_outputdir}\")\n",
    "# output_file = \"merged_video.mkv\"\n",
    "fullpath_outputfile = fullpath_outputdir+\"/\"+os.path.basename(temp_fullpath_outputfile)\n",
    "print(fullpath_outputfile)\n",
    "merge_mp4_files(order_file_list, fullpath_outputfile)"
   ]
  },
  {
   "cell_type": "code",
   "execution_count": null,
   "id": "97141942-94fb-49e3-b303-620996a7b559",
   "metadata": {},
   "outputs": [],
   "source": []
  }
 ],
 "metadata": {
  "environment": {
   "kernel": "conda-base-py",
   "name": "workbench-notebooks.m127",
   "type": "gcloud",
   "uri": "us-docker.pkg.dev/deeplearning-platform-release/gcr.io/workbench-notebooks:m127"
  },
  "kernelspec": {
   "display_name": "Python 3 (ipykernel)",
   "language": "python",
   "name": "conda-base-py"
  },
  "language_info": {
   "codemirror_mode": {
    "name": "ipython",
    "version": 3
   },
   "file_extension": ".py",
   "mimetype": "text/x-python",
   "name": "python",
   "nbconvert_exporter": "python",
   "pygments_lexer": "ipython3",
   "version": "3.10.16"
  }
 },
 "nbformat": 4,
 "nbformat_minor": 5
}
