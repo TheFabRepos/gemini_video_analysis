{
 "cells": [
  {
   "cell_type": "code",
   "execution_count": 1,
   "id": "67cedb41-532f-4fe7-888d-3d48f53a30a1",
   "metadata": {
    "tags": []
   },
   "outputs": [
    {
     "name": "stdout",
     "output_type": "stream",
     "text": [
      "Requirement already satisfied: moviepy in /opt/conda/lib/python3.10/site-packages (2.1.2)\n",
      "Requirement already satisfied: decorator<6.0,>=4.0.2 in /opt/conda/lib/python3.10/site-packages (from moviepy) (5.1.1)\n",
      "Requirement already satisfied: imageio<3.0,>=2.5 in /opt/conda/lib/python3.10/site-packages (from moviepy) (2.36.1)\n",
      "Requirement already satisfied: imageio_ffmpeg>=0.2.0 in /opt/conda/lib/python3.10/site-packages (from moviepy) (0.6.0)\n",
      "Requirement already satisfied: numpy>=1.25.0 in /opt/conda/lib/python3.10/site-packages (from moviepy) (1.26.4)\n",
      "Requirement already satisfied: proglog<=1.0.0 in /opt/conda/lib/python3.10/site-packages (from moviepy) (0.1.10)\n",
      "Requirement already satisfied: python-dotenv>=0.10 in /opt/conda/lib/python3.10/site-packages (from moviepy) (1.0.1)\n",
      "Requirement already satisfied: pillow<11.0,>=9.2.0 in /opt/conda/lib/python3.10/site-packages (from moviepy) (10.4.0)\n",
      "Requirement already satisfied: tqdm in /opt/conda/lib/python3.10/site-packages (from proglog<=1.0.0->moviepy) (4.67.1)\n"
     ]
    }
   ],
   "source": [
    "!pip install moviepy"
   ]
  },
  {
   "cell_type": "code",
   "execution_count": 2,
   "id": "2f40e621-f21e-4207-9293-64ef216af86e",
   "metadata": {
    "tags": []
   },
   "outputs": [
    {
     "ename": "NameError",
     "evalue": "name 'os' is not defined",
     "output_type": "error",
     "traceback": [
      "\u001b[0;31m---------------------------------------------------------------------------\u001b[0m",
      "\u001b[0;31mNameError\u001b[0m                                 Traceback (most recent call last)",
      "Cell \u001b[0;32mIn[2], line 2\u001b[0m\n\u001b[1;32m      1\u001b[0m input_file \u001b[38;5;241m=\u001b[39m \u001b[38;5;124m\"\u001b[39m\u001b[38;5;124mvideo/hajjan/Hajjan_KSA.mp4\u001b[39m\u001b[38;5;124m\"\u001b[39m\n\u001b[0;32m----> 2\u001b[0m source_directory \u001b[38;5;241m=\u001b[39m \u001b[43mos\u001b[49m\u001b[38;5;241m.\u001b[39mpath\u001b[38;5;241m.\u001b[39mdirname(input_file)\n\u001b[1;32m      3\u001b[0m source_directory \u001b[38;5;241m=\u001b[39m os\u001b[38;5;241m.\u001b[39mpath\u001b[38;5;241m.\u001b[39mjoin(source_directory, \u001b[38;5;124m\"\u001b[39m\u001b[38;5;124moutput\u001b[39m\u001b[38;5;124m\"\u001b[39m)\n\u001b[1;32m      4\u001b[0m gcs_bucket_name \u001b[38;5;241m=\u001b[39m \u001b[38;5;124m\"\u001b[39m\u001b[38;5;124mfab_public_bucket\u001b[39m\u001b[38;5;124m\"\u001b[39m  \u001b[38;5;66;03m# Replace with your GCS bucket name\u001b[39;00m\n",
      "\u001b[0;31mNameError\u001b[0m: name 'os' is not defined"
     ]
    }
   ],
   "source": [
    "import os\n",
    "input_file = \"video/hajjan/Hajjan_KSA.mp4\"\n",
    "source_directory = os.path.dirname(input_file)\n",
    "source_directory = os.path.join(source_directory, \"output\")\n",
    "gcs_bucket_name = \"fab_public_bucket\"  # Replace with your GCS bucket name\n",
    "gcs_temp_working_dir = \"video/temp\"  # Replace with your desired GCS folder path (can be empty)\n"
   ]
  },
  {
   "cell_type": "code",
   "execution_count": null,
   "id": "27446bc1-bf4e-40d9-9039-5af739c64779",
   "metadata": {
    "tags": []
   },
   "outputs": [],
   "source": [
    "import subprocess\n",
    "\n",
    "def split_mkv(input_file, output_file, split_size):\n",
    "  \"\"\"Splits an MKV file into smaller chunks using mkvmerge.\n",
    "\n",
    "  Args:\n",
    "    input_file: Path to the input MKV file.\n",
    "    output_file: Base name for the output files.\n",
    "    split_size: Size of each output file in bytes (b), kilobytes (k), \n",
    "                megabytes (m), or gigabytes (g).\n",
    "  \"\"\"\n",
    "\n",
    "  try:\n",
    "    cmd = [\n",
    "        \"mkvmerge\",\n",
    "        \"--split\", f\"size:{split_size}\",\n",
    "        \"-o\", f\"{output_file}.mp4\",\n",
    "        input_file\n",
    "    ]\n",
    "    subprocess.run(cmd, check=True)\n",
    "    print(f\"Successfully split {input_file} into {split_size} chunks.\")\n",
    "  except subprocess.CalledProcessError as e:\n",
    "    print(f\"Error splitting the file: {e}\")\n",
    "\n",
    "# Example usage:\n",
    "\n",
    "parts = input_file.split('/')\n",
    "output_file = '/'.join(parts[:-1]) + \"/output/\" + parts[-1].split('.')[0]  # String manipulation\n",
    "split_size = \"500M\"  # Split into 2GB chunks\n",
    "\n",
    "split_mkv(input_file, output_file, split_size)"
   ]
  },
  {
   "cell_type": "code",
   "execution_count": null,
   "id": "52382f8e-8d6c-472a-b933-a45765f2ba34",
   "metadata": {
    "tags": []
   },
   "outputs": [],
   "source": [
    "import os\n",
    "\n",
    "def list_files_in_directory(directory):\n",
    "  \"\"\"Lists all files in a directory and returns them as a list.\n",
    "\n",
    "  Args:\n",
    "    directory: The path to the directory.\n",
    "\n",
    "  Returns:\n",
    "    A list of strings, where each string is the full path to a file \n",
    "    in the directory. Returns an empty list if the directory is empty \n",
    "    or if the directory does not exist.\n",
    "  \"\"\"\n",
    "  try:\n",
    "    file_list = []\n",
    "    for filename in os.listdir(directory):\n",
    "      full_path = os.path.join(directory, filename)\n",
    "      if os.path.isfile(full_path):  # Only add files, not subdirectories\n",
    "        file_list.append(full_path)\n",
    "    return file_list\n",
    "  except FileNotFoundError:\n",
    "    print(f\"Directory '{directory}' not found.\")\n",
    "    return []\n"
   ]
  },
  {
   "cell_type": "code",
   "execution_count": null,
   "id": "ccbe2d64-60ce-4051-9fad-012b3ade0a79",
   "metadata": {
    "tags": []
   },
   "outputs": [],
   "source": [
    "# Example usage (replace with your desired directory)\n",
    "from moviepy import *\n",
    "\n",
    "\n",
    "video_directory = \"video/hajjan/output\" \n",
    "files = list_files_in_directory(video_directory)\n",
    "\n",
    "file_duration_dict = {}\n",
    "\n",
    "for file in files:\n",
    "    clip = VideoFileClip(file)\n",
    "    file_duration_dict[file] = clip.duration\n",
    "    clip.close()  # Close the clip after getting the duration\n"
   ]
  },
  {
   "cell_type": "code",
   "execution_count": null,
   "id": "23bf3efc-54c1-4505-8cb9-0d5eb2440b7c",
   "metadata": {
    "tags": []
   },
   "outputs": [],
   "source": [
    "from google.cloud import storage\n",
    "import os\n",
    "\n",
    "def copy_local_folder_to_gcs(local_folder, bucket_name, gcs_folder):\n",
    "    \"\"\"Copies all files from a local folder to a GCS bucket folder.\n",
    "\n",
    "    Args:\n",
    "        local_folder: The path to the local folder.\n",
    "        bucket_name: The name of the GCS bucket.\n",
    "        gcs_folder: The name of the folder within the GCS bucket (can be empty).\n",
    "    \"\"\"\n",
    "\n",
    "    # Initialize the GCS client\n",
    "    storage_client = storage.Client()\n",
    "\n",
    "    # Get the bucket\n",
    "    bucket = storage_client.bucket(bucket_name)\n",
    "\n",
    "    # Iterate through all files in the local folder\n",
    "    for local_file in os.listdir(local_folder):\n",
    "        local_file_path = os.path.join(local_folder, local_file)\n",
    "\n",
    "        # Ensure it's a file, not a subdirectory\n",
    "        if os.path.isfile(local_file_path):\n",
    "            # Construct the GCS object path\n",
    "            gcs_blob_name = os.path.join(gcs_folder, local_file) if gcs_folder else local_file\n",
    "\n",
    "            # Create a blob object\n",
    "            blob = bucket.blob(gcs_blob_name)\n",
    "\n",
    "            # Upload the file\n",
    "            try:\n",
    "                blob.upload_from_filename(local_file_path)\n",
    "                print(f\"File {local_file_path} uploaded to gs://{bucket_name}/{gcs_blob_name}\")\n",
    "            except Exception as e:\n",
    "                print(f\"Error uploading {local_file_path}: {e}\")\n",
    "\n",
    "copy_local_folder_to_gcs(source_directory, gcs_bucket_name, gcs_temp_working_dir)"
   ]
  },
  {
   "cell_type": "code",
   "execution_count": null,
   "id": "55d4d1e1-6724-49d7-a165-b7ad62ed206e",
   "metadata": {
    "tags": []
   },
   "outputs": [],
   "source": [
    "file_duration_dict"
   ]
  },
  {
   "cell_type": "code",
   "execution_count": null,
   "id": "76379c7e-5488-4cd1-926c-d1014a3afdee",
   "metadata": {},
   "outputs": [],
   "source": [
    "    # for response in responses:\n",
    "    #     final_response\n",
    "    #     print(response.text, end=\"\")\n",
    "\n",
    "\n",
    "# schema = \"\"\"{\"type\": \"array\",\"items\": {\"type\": \"object\",\"properties\": {\"start_timestamp\": {\"type\": \"string\", \"description\": \"Start timestamp of the event in the format MM:SS\"},\"end_timestamp\": {\"type\": \"string\",\"description\": \"End timestamp of the event in the format MM:SS\"},\"reasoning\": {\"type\": \"string\",\"description\": \"Description of the event or reason for the timestamp.\"}},\n",
    "# }\"\"\"\n",
    "\n",
    "# project_id = 'testfab-362608'\n",
    "\n",
    "# from vertexai.generative_models import GenerationConfig, GenerativeModel\n",
    "\n",
    "# vertexai.init(project=project_id, location=\"us-central1\")\n",
    "\n",
    "\n",
    "\n",
    "# prompt = f\"\"\"\n",
    "#     Concatenate Genre if they are different. Concatenate Description if they are different. \n",
    "#     Summarize Description while limiting repetion while making sure every element of the different original descriptions are included. \n",
    "#     {results}\n",
    "# \"\"\"\n",
    "\n",
    "# user_prompt = \"\"\"<INSTRUCTIONS> \n",
    "# Analyze the input video to identify all the key moments, themes, and emotional arcs. Recommend a list of top key relevant video frame clips timestamps from the given input video thoughout the complete video. Also make sure the audio is not truncated while suggesting the clips. Generate a response in a JSON format. Make sure the maximum total duration for all the key moments combined is within the time limit of 60 seconds , If needed feel free to drop few the key moments which are the less representative to adhere to the timelimit of 60 seconds while making sure the timestamps are evenly distributed throughout the entire video, not just the beginning..\n",
    "# </INSTRUCTIONS> \n",
    "\n",
    "# <OUTPUT Format> \n",
    "# JSON\n",
    "# [\n",
    "# {\n",
    "# start_timestamp: \\\"mm:ss\\\",\n",
    "# end_timestamp: \\\"mm:ss\\\",\n",
    "# reasoning: \\\"\\\"\n",
    "# }\n",
    "# ]\n",
    "# </OUTPUT Format>\"\"\"\n"
   ]
  },
  {
   "cell_type": "code",
   "execution_count": null,
   "id": "e2c3bca0-6e1a-4014-b05a-d91390844c7b",
   "metadata": {},
   "outputs": [],
   "source": []
  },
  {
   "cell_type": "code",
   "execution_count": null,
   "id": "d3742e55-31b3-430a-a47f-7a1a0b86235c",
   "metadata": {},
   "outputs": [],
   "source": []
  },
  {
   "cell_type": "code",
   "execution_count": null,
   "id": "cc9dd644-b666-42aa-8e21-19d9aefec8a1",
   "metadata": {},
   "outputs": [],
   "source": []
  },
  {
   "cell_type": "code",
   "execution_count": null,
   "id": "161fb364-a32e-40c7-9076-ae00888b214b",
   "metadata": {},
   "outputs": [],
   "source": []
  },
  {
   "cell_type": "code",
   "execution_count": null,
   "id": "e03cd1b8-ecb7-484e-b3ae-a14a4425ccf4",
   "metadata": {},
   "outputs": [],
   "source": []
  },
  {
   "cell_type": "code",
   "execution_count": null,
   "id": "7f906aba-bfe1-4084-b843-0b585a042497",
   "metadata": {},
   "outputs": [],
   "source": []
  },
  {
   "cell_type": "code",
   "execution_count": 1,
   "id": "79d9e7b8-7aa0-4c81-adaa-3b2ecc357227",
   "metadata": {},
   "outputs": [],
   "source": [
    "import os\n",
    "input_file = \"video/hajjan/Hajjan_KSA.mp4\"\n",
    "\n",
    "video_directory = os.path.join(os.path.dirname(input_file), \"output\") #Local output directory for split files\n",
    "gcs_bucket_name = \"fab_public_bucket\"  # GCS Bucket to use for temp folder\n",
    "gcs_temp_working_dir = \"video/temp\"  # Path to temp folder in gcs bucket\n",
    "split_size = \"500M\""
   ]
  },
  {
   "cell_type": "code",
   "execution_count": 2,
   "id": "d48df7d8-3d7c-4c3f-b788-3a1418208b00",
   "metadata": {},
   "outputs": [
    {
     "name": "stdout",
     "output_type": "stream",
     "text": [
      "mkvmerge v52.0.0 ('Secret For The Mad') 64-bit\n",
      "'video/hajjan/Hajjan_KSA.mp4': Using the demultiplexer for the format 'QuickTime/MP4'.\n",
      "'video/hajjan/Hajjan_KSA.mp4' track 0: Using the output module for the format 'AVC/H.264'.\n",
      "'video/hajjan/Hajjan_KSA.mp4' track 1: Using the output module for the format 'AAC'.\n",
      "The file 'video/hajjan/output/Hajjan_KSA-001.mp4' has been opened for writing.\n",
      "'video/hajjan/Hajjan_KSA.mp4' track 0: Extracted the aspect ratio information from the MPEG-4 layer 10 (AVC) video data and set the display dimensions to 1920/1080.\n",
      "Progress: 23%\n",
      "The cue entries (the index) are being written...\n",
      "The file 'video/hajjan/output/Hajjan_KSA-002.mp4' has been opened for writing.\n",
      "Progress: 48%\n",
      "The cue entries (the index) are being written...\n",
      "The file 'video/hajjan/output/Hajjan_KSA-003.mp4' has been opened for writing.\n",
      "Progress: 72%\n",
      "The cue entries (the index) are being written...\n",
      "The file 'video/hajjan/output/Hajjan_KSA-004.mp4' has been opened for writing.\n",
      "Progress: 98%\n",
      "The cue entries (the index) are being written...\n",
      "The file 'video/hajjan/output/Hajjan_KSA-005.mp4' has been opened for writing.\n",
      "Progress: 100%\n",
      "The cue entries (the index) are being written...\n",
      "Multiplexing took 18 seconds.\n",
      "Successfully split video/hajjan/Hajjan_KSA.mp4 into 500M chunks.\n"
     ]
    }
   ],
   "source": [
    "import subprocess\n",
    "\n",
    "def split_mkv(input_file, output_file, split_size):\n",
    "  \"\"\"Splits an MKV file into smaller chunks using mkvmerge.\n",
    "\n",
    "  Args:\n",
    "    input_file: Path to the input MKV file.\n",
    "    output_file: Base name for the output files.\n",
    "    split_size: Size of each output file in bytes (b), kilobytes (k), \n",
    "                megabytes (m), or gigabytes (g).\n",
    "  \"\"\"\n",
    "\n",
    "  try:\n",
    "    cmd = [\n",
    "        \"mkvmerge\",\n",
    "        \"--split\", f\"size:{split_size}\",\n",
    "        \"-o\", f\"{output_file}.mp4\",\n",
    "        input_file\n",
    "    ]\n",
    "    subprocess.run(cmd, check=True)\n",
    "    print(f\"Successfully split {input_file} into {split_size} chunks.\")\n",
    "  except subprocess.CalledProcessError as e:\n",
    "    print(f\"Error splitting the file: {e}\")\n",
    "\n",
    "# Example usage:\n",
    "\n",
    "parts = input_file.split('/')\n",
    "output_file = '/'.join(parts[:-1]) + \"/output/\" + parts[-1].split('.')[0]  # String manipulation\n",
    "\n",
    "\n",
    "split_mkv(input_file, output_file, split_size)"
   ]
  },
  {
   "cell_type": "code",
   "execution_count": 3,
   "id": "767ee1d7-0582-4906-abc5-03edd5dbc1b0",
   "metadata": {},
   "outputs": [
    {
     "name": "stdout",
     "output_type": "stream",
     "text": [
      "File video/hajjan/output/Hajjan_KSA-005.mp4 uploaded to gs://fab_public_bucket/video/temp/Hajjan_KSA-005.mp4\n",
      "File video/hajjan/output/Hajjan_KSA-003.mp4 uploaded to gs://fab_public_bucket/video/temp/Hajjan_KSA-003.mp4\n",
      "File video/hajjan/output/Hajjan_KSA-002.mp4 uploaded to gs://fab_public_bucket/video/temp/Hajjan_KSA-002.mp4\n",
      "File video/hajjan/output/Hajjan_KSA-001.mp4 uploaded to gs://fab_public_bucket/video/temp/Hajjan_KSA-001.mp4\n",
      "File video/hajjan/output/Hajjan_KSA-004.mp4 uploaded to gs://fab_public_bucket/video/temp/Hajjan_KSA-004.mp4\n"
     ]
    }
   ],
   "source": [
    "from google.cloud import storage\n",
    "import os\n",
    "\n",
    "def copy_local_folder_to_gcs(local_folder, bucket_name, gcs_folder):\n",
    "    \"\"\"Copies all files from a local folder to a GCS bucket folder.\n",
    "\n",
    "    Args:\n",
    "        local_folder: The path to the local folder.\n",
    "        bucket_name: The name of the GCS bucket.\n",
    "        gcs_folder: The name of the folder within the GCS bucket (can be empty).\n",
    "    \"\"\"\n",
    "\n",
    "    # Initialize the GCS client\n",
    "    storage_client = storage.Client()\n",
    "\n",
    "    # Get the bucket\n",
    "    bucket = storage_client.bucket(bucket_name)\n",
    "\n",
    "    # Iterate through all files in the local folder\n",
    "    for local_file in os.listdir(local_folder):\n",
    "        local_file_path = os.path.join(local_folder, local_file)\n",
    "\n",
    "        # Ensure it's a file, not a subdirectory\n",
    "        if os.path.isfile(local_file_path):\n",
    "            # Construct the GCS object path\n",
    "            gcs_blob_name = os.path.join(gcs_folder, local_file) if gcs_folder else local_file\n",
    "\n",
    "            # Create a blob object\n",
    "            blob = bucket.blob(gcs_blob_name)\n",
    "\n",
    "            # Upload the file\n",
    "            try:\n",
    "                blob.upload_from_filename(local_file_path)\n",
    "                print(f\"File {local_file_path} uploaded to gs://{bucket_name}/{gcs_blob_name}\")\n",
    "            except Exception as e:\n",
    "                print(f\"Error uploading {local_file_path}: {e}\")\n",
    "\n",
    "copy_local_folder_to_gcs(video_directory, gcs_bucket_name, gcs_temp_working_dir)"
   ]
  },
  {
   "cell_type": "code",
   "execution_count": 5,
   "id": "e299ec91-92cb-4ff4-8b5d-6739764a3571",
   "metadata": {
    "tags": []
   },
   "outputs": [],
   "source": [
    "import os\n",
    "\n",
    "def list_files_in_directory(directory):\n",
    "  \"\"\"Lists all files in a directory and returns them as a list.\n",
    "\n",
    "  Args:\n",
    "    directory: The path to the directory.\n",
    "\n",
    "  Returns:\n",
    "    A list of strings, where each string is the full path to a file \n",
    "    in the directory. Returns an empty list if the directory is empty \n",
    "    or if the directory does not exist.\n",
    "  \"\"\"\n",
    "  try:\n",
    "    file_list = []\n",
    "    for filename in os.listdir(directory):\n",
    "      full_path = os.path.join(directory, filename)\n",
    "      if os.path.isfile(full_path):  # Only add files, not subdirectories\n",
    "        file_list.append(full_path)\n",
    "    return file_list\n",
    "  except FileNotFoundError:\n",
    "    print(f\"Directory '{directory}' not found.\")\n",
    "    return []\n"
   ]
  },
  {
   "cell_type": "code",
   "execution_count": 6,
   "id": "3e4d16e4-7f57-45e3-aece-c6bc32790e6f",
   "metadata": {
    "tags": []
   },
   "outputs": [
    {
     "name": "stdout",
     "output_type": "stream",
     "text": [
      "['video/hajjan/output/Hajjan_KSA-005.mp4', 'video/hajjan/output/Hajjan_KSA-003.mp4', 'video/hajjan/output/Hajjan_KSA-002.mp4', 'video/hajjan/output/Hajjan_KSA-001.mp4', 'video/hajjan/output/Hajjan_KSA-004.mp4']\n"
     ]
    }
   ],
   "source": [
    "import random\n",
    "\n",
    "\n",
    "def get_random_region():\n",
    "    \"\"\"Returns a random region from the provided list of regions.\n",
    "    Args:\n",
    "        regions_list: A list of strings, where each string is a region name.\n",
    "    Returns:\n",
    "        A randomly selected region string from the list.\n",
    "    \"\"\"\n",
    "    \n",
    "    regions_string = \"europe-west4, europe-west9, europe-west2, europe-west3, europe-west1, europe-west6, europe-southwest1, europe-west8, europe-north1, europe-central2, us-east5, us-south1, us-central1, us-west4, us-east1, us-east4, us-west1\"\n",
    "    regions_list = [region.strip() for region in regions_string.split(',')]\n",
    "\n",
    "    return random.choice(regions_list)\n",
    "\n",
    "print(list_files_in_directory(video_directory))\n",
    "# Example usage:\n",
    "# random_region = get_random_region(regions_list)\n",
    "# print(f\"Randomly selected region: {random_region}\")"
   ]
  },
  {
   "cell_type": "code",
   "execution_count": 7,
   "id": "33362ef8-d2b8-4f1f-947b-91a2fec8f821",
   "metadata": {
    "tags": []
   },
   "outputs": [
    {
     "name": "stdout",
     "output_type": "stream",
     "text": [
      "Region chosen: europe-southwest1\n",
      "Region chosen: europe-west8\n",
      "Region chosen: europe-west1\n",
      "Region chosen: us-east4\n",
      "Region chosen: us-east1\n",
      "final_res: {'Hajjan_KSA-005.mp4': '[\\n{\\n\"start_timestamp\": \"00:19\",\\n\"end_timestamp\": \"00:24\",\\n\"reasoning\": \"This is the title card of the film.\"\\n},\\n{\\n\"start_timestamp\": \"00:24\",\\n\"end_timestamp\": \"00:29\",\\n\"reasoning\": \"This is the title card of the production company.\"\\n}\\n]', 'Hajjan_KSA-003.mp4': '[{\"start_timestamp\": \"00:08\", \"end_timestamp\": \"00:14\", \"reasoning\": \"The man in the white headscarf gives the boy his racing number, 12.\"}, {\"start_timestamp\": \"01:40\", \"end_timestamp\": \"01:45\", \"reasoning\": \"The older gentleman in the blue headscarf is told that his camel, Hafeera, has won the race.\"}, {\"start_timestamp\": \"03:18\", \"end_timestamp\": \"03:23\", \"reasoning\": \"The older gentleman in the blue headscarf finds out that his son cheated to win the camel race, and he is furious.\"}, {\"start_timestamp\": \"27:53\", \"end_timestamp\": \"27:59\", \"reasoning\": \"The older gentleman gives his racing tool to the boy and tells him that it\\'s his turn to race now.\"}]', 'Hajjan_KSA-002.mp4': '[{\"start_timestamp\": \"00:54\", \"end_timestamp\": \"00:59\", \"reasoning\": \"A man gives a golden watch to a racer as a lucky charm before the race.\"}, {\"start_timestamp\": \"04:17\", \"end_timestamp\": \"04:22\", \"reasoning\": \" Camels are released at the start of the race.\"}, {\"start_timestamp\": \"07:09\", \"end_timestamp\": \"07:14\", \"reasoning\": \" The young jockey falls off his camel during the race.\"}, {\"start_timestamp\": \"11:55\", \"end_timestamp\": \"12:00\", \"reasoning\": \"After the race, the father tells Mutar that the maardah is the camel that will win the championship.\"}]', 'Hajjan_KSA-001.mp4': '[{\"start_timestamp\": \"00:00\", \"end_timestamp\": \"00:10\", \"reasoning\": \"The video starts with an exciting and intriguing animation of a monolith being uncovered in a desert environment. This captivating opening sequence sets the stage for a thrilling narrative.\"}, {\"start_timestamp\": \"00:44\", \"end_timestamp\": \"00:52\", \"reasoning\": \"A Bedouin man is walking through a snowy desert. It then transitions to him standing in front of rock formations as he starts to sing, setting the scene and introducing a key character.\"}, {\"start_timestamp\": \"01:31\", \"end_timestamp\": \"01:37\", \"reasoning\": \"The man finishes his song and we\\'re presented with a beautiful shot of camels huddled together in the snow. This shot adds visual interest and emphasizes the harsh environment.\"}, {\"start_timestamp\": \"12:55\", \"end_timestamp\": \"13:00\", \"reasoning\": \"The younger brother is determined to race the camel, \\'Hafira.\\'  His older brother objects but eventually gives in.  This scene concludes with a tender moment of affection as the older brother embraces his younger sibling. The scene marks a turning point in the narrative.\"}]', 'Hajjan_KSA-004.mp4': '[{\"start_timestamp\": \"00:23\", \"end_timestamp\": \"00:30\", \"reasoning\": \"The Safwa camel race, described as the biggest and greatest camel race in the world, is starting. \"}, {\"start_timestamp\": \"00:51\", \"end_timestamp\": \"01:02\", \"reasoning\": \" A heated conversation between a man and the race official, who questions the man\\'s participation eligibility and threatens to disqualify him.\"}, {\"start_timestamp\": \"03:25\", \"end_timestamp\": \"03:38\", \"reasoning\": \" The race is underway, showcasing the camels running and the crowd cheering.\"}, {\"start_timestamp\": \"10:09\", \"end_timestamp\": \"10:17\", \"reasoning\": \" This clip showcases the ending of the video as it shows the young girl walking with her camel, and the scene cuts to a man staring at her.\"}]'}\n"
     ]
    }
   ],
   "source": [
    "# import base64\n",
    "import vertexai\n",
    "from vertexai.generative_models import GenerativeModel, Part, SafetySetting\n",
    "\n",
    "\n",
    "def generate(user_prompt, system_prompt, random_region, video_uri):\n",
    "    vertexai.init(project=\"testfab-362608\", location=random_region)\n",
    "\n",
    "    final_response = ''\n",
    "    model = GenerativeModel(\n",
    "        \"gemini-1.5-pro-001\",\n",
    "        system_instruction=[system_prompt]\n",
    "    )\n",
    "    \n",
    "    video1 = Part.from_uri(\n",
    "    mime_type=\"video/mp4\",\n",
    "    uri=video_uri,)\n",
    "    \n",
    "    generation_config = {\n",
    "        \"max_output_tokens\": 8192,\n",
    "        \"temperature\": 1,\n",
    "        \"top_p\": 0.95,\n",
    "        \"response_mime_type\": \"application/json\"\n",
    "    }\n",
    "    \n",
    "    safety_settings = [\n",
    "    SafetySetting(\n",
    "        category=SafetySetting.HarmCategory.HARM_CATEGORY_HATE_SPEECH,\n",
    "        threshold=SafetySetting.HarmBlockThreshold.OFF\n",
    "        ),\n",
    "        SafetySetting(\n",
    "            category=SafetySetting.HarmCategory.HARM_CATEGORY_DANGEROUS_CONTENT,\n",
    "            threshold=SafetySetting.HarmBlockThreshold.OFF\n",
    "        ),\n",
    "        SafetySetting(\n",
    "            category=SafetySetting.HarmCategory.HARM_CATEGORY_SEXUALLY_EXPLICIT,\n",
    "            threshold=SafetySetting.HarmBlockThreshold.OFF\n",
    "        ),\n",
    "        SafetySetting(\n",
    "            category=SafetySetting.HarmCategory.HARM_CATEGORY_HARASSMENT,\n",
    "            threshold=SafetySetting.HarmBlockThreshold.OFF\n",
    "        ),\n",
    "    ]\n",
    "    \n",
    "    response = model.generate_content(\n",
    "        [video1, user_prompt],\n",
    "        generation_config=generation_config,\n",
    "        safety_settings=safety_settings,\n",
    "        stream=False,\n",
    "    )\n",
    "\n",
    "    return response.text\n",
    "\n",
    "user_prompt = \"\"\"<INSTRUCTIONS> \n",
    "Analyze the input video to identify all the key moments, themes, and emotional arcs. \n",
    "Recommend a list of 4 top key relevant video frame clips timestamps from the given input video thoughout the complete video. \n",
    "The maximum duration (end_timestamp - start_timestamp) of video frame clip will always be below 5 seconds.\n",
    "The last recommendation should be at the very end of the video.\n",
    "</INSTRUCTIONS> \n",
    "\n",
    "<OUTPUT Format> \n",
    "JSON\n",
    "[\n",
    "{\n",
    "start_timestamp: \\\"mm:ss\\\",\n",
    "end_timestamp: \\\"mm:ss\\\",\n",
    "reasoning: \\\"\\\"\n",
    "}\n",
    "]\n",
    "</OUTPUT Format>\"\"\"\n",
    "system_prompt = \"\"\"You are a expert in content creation and generation. You never miss any key frames in the video which can be used for youtube shorts video generation. You possess a deep understanding of visual storytelling, pacing, and audience engagement techniques. Your goal is to distill the essence of a video into a concise and captivating highlight reel.\"\"\"\n",
    "\n",
    "\n",
    "files = list_files_in_directory(video_directory)\n",
    "final_res = {}\n",
    "\n",
    "for file in files:\n",
    "    region = get_random_region()\n",
    "    filename = file.split(\"/\")[-1]\n",
    "    video_uri = f\"gs://{gcs_bucket_name}/{gcs_temp_working_dir}/{filename}\"\n",
    "    print(f\"Region chosen: {region}\")\n",
    "    res=generate(user_prompt, system_prompt, region,video_uri)\n",
    "    final_res[filename] = res\n",
    "print(f\"\"\"final_res: {final_res}\"\"\")"
   ]
  },
  {
   "cell_type": "code",
   "execution_count": 9,
   "id": "7b6cbfe8-45ac-4462-810c-967ee42f77a8",
   "metadata": {
    "tags": []
   },
   "outputs": [
    {
     "name": "stdout",
     "output_type": "stream",
     "text": [
      "Region chosen: europe-north1\n",
      "{'Hajjan_KSA-001.mp4': '[{\"start_timestamp\": \"00:00\", \"end_timestamp\": \"00:13\", \"reasoning\": \"Opening scene. Sets the tone and introduces the title.\"}, {\"start_timestamp\": \"00:39\", \"end_timestamp\": \"00:58\", \"reasoning\": \"Introduces the main character and the snowy, desolate setting, creating intrigue.\"}, {\"start_timestamp\": \"01:32\", \"end_timestamp\": \"01:43\", \"reasoning\": \"A visually striking scene with the camels covered in snow and the protagonist singing. Adds cultural flavour and emotion.\"}, {\"start_timestamp\": \"03:08\", \"end_timestamp\": \"03:25\", \"reasoning\": \"A tense and emotional scene revealing a tragic event. This is a key plot point and will hook the viewer.\"}, {\"start_timestamp\": \"05:09\", \"end_timestamp\": \"05:17\", \"reasoning\": \"Transition to a new setting and time. Introduces new characters and a sense of hope.\"}, {\"start_timestamp\": \"06:36\", \"end_timestamp\": \"06:49\", \"reasoning\": \"Suspenseful scene with dramatic lighting and a sense of urgency.\"}, {\"start_timestamp\": \"07:14\", \"end_timestamp\": \"07:28\", \"reasoning\": \"Action-packed camel race scene with fast cuts and dynamic visuals. This will excite the audience.\"}, {\"start_timestamp\": \"07:56\", \"end_timestamp\": \"08:00\", \"reasoning\": \"A beautiful wide shot of the desert landscape at night, providing a visual contrast and a moment of calm.\"}, {\"start_timestamp\": \"10:40\", \"end_timestamp\": \"10:51\", \"reasoning\": \"Celebration scene with music and dancing. Showcases the cultural traditions and adds vibrancy.\"}, {\"start_timestamp\": \"13:02\", \"end_timestamp\": \"13:24\", \"reasoning\": \"Fast-paced and energetic camel race sequence with lots of excitement and tension.\"}, {\"start_timestamp\": \"17:50\", \"end_timestamp\": \"18:08\", \"reasoning\": \"Another thrilling race scene with close-ups and a sense of anticipation.\"}, {\"start_timestamp\": \"18:45\", \"end_timestamp\": \"18:57\", \"reasoning\": \"High-stakes moments in the race, building to a climax. Keeps the audience on the edge of their seats.\"}, {\"start_timestamp\": \"21:16\", \"end_timestamp\": \"21:24\", \"reasoning\": \"A dramatic fall during the race. Creates a sense of shock and concern.\"}, {\"start_timestamp\": \"23:51\", \"end_timestamp\": \"24:49\", \"reasoning\": \"Final scene. Emotional and impactful, leaving the viewer with a sense of loss and reflection.\"}]'}\n"
     ]
    }
   ],
   "source": [
    "# ################\n",
    "# # Trailer ONLY #\n",
    "# ################\n",
    "\n",
    "# # import base64\n",
    "# import vertexai\n",
    "# from vertexai.generative_models import GenerativeModel, Part, SafetySetting\n",
    "\n",
    "\n",
    "# def generate(user_prompt, system_prompt, random_region, video_uri):\n",
    "#     vertexai.init(project=\"testfab-362608\", location=random_region)\n",
    "\n",
    "#     final_response = ''\n",
    "#     model = GenerativeModel(\n",
    "#         \"gemini-1.5-pro-001\",\n",
    "#         system_instruction=[system_prompt]\n",
    "#     )\n",
    "    \n",
    "#     video1 = Part.from_uri(\n",
    "#     mime_type=\"video/mp4\",\n",
    "#     uri=video_uri,)\n",
    "    \n",
    "#     generation_config = {\n",
    "#         \"max_output_tokens\": 8192,\n",
    "#         \"temperature\": 1,\n",
    "#         \"top_p\": 0.95,\n",
    "#         \"response_mime_type\": \"application/json\"\n",
    "#     }\n",
    "    \n",
    "#     safety_settings = [\n",
    "#     SafetySetting(\n",
    "#         category=SafetySetting.HarmCategory.HARM_CATEGORY_HATE_SPEECH,\n",
    "#         threshold=SafetySetting.HarmBlockThreshold.OFF\n",
    "#         ),\n",
    "#         SafetySetting(\n",
    "#             category=SafetySetting.HarmCategory.HARM_CATEGORY_DANGEROUS_CONTENT,\n",
    "#             threshold=SafetySetting.HarmBlockThreshold.OFF\n",
    "#         ),\n",
    "#         SafetySetting(\n",
    "#             category=SafetySetting.HarmCategory.HARM_CATEGORY_SEXUALLY_EXPLICIT,\n",
    "#             threshold=SafetySetting.HarmBlockThreshold.OFF\n",
    "#         ),\n",
    "#         SafetySetting(\n",
    "#             category=SafetySetting.HarmCategory.HARM_CATEGORY_HARASSMENT,\n",
    "#             threshold=SafetySetting.HarmBlockThreshold.OFF\n",
    "#         ),\n",
    "#     ]\n",
    "    \n",
    "#     response = model.generate_content(\n",
    "#         [video1, user_prompt],\n",
    "#         generation_config=generation_config,\n",
    "#         safety_settings=safety_settings,\n",
    "#         stream=False,\n",
    "#     )\n",
    "\n",
    "#     return response.text\n",
    "# # Analyze the input video to identify all the key moments, themes, and emotional arcs. \n",
    "# # Recommend a list of top key relevant video frame clips timestamps to create a maximum 60 seconds trailer. Each timestamp should last for 5 seconds.\n",
    "\n",
    "# user_prompt = \"\"\"<INSTRUCTIONS> \n",
    "# </INSTRUCTIONS> \n",
    "# Recommend 60 seconds worth of video extract to build an very exciting trailer.\n",
    "# One extract duration will be maximum 5 seconds\n",
    "# <OUTPUT Format> \n",
    "# JSON\n",
    "# [\n",
    "# {\n",
    "# start_timestamp: \\\"mm:ss\\\",\n",
    "# end_timestamp: \\\"mm:ss\\\",\n",
    "# reasoning: \\\"\\\"\n",
    "# }\n",
    "# ]\n",
    "# </OUTPUT Format>\"\"\"\n",
    "# system_prompt = \"\"\"You are a expert in content creation and generation. You never miss any key frames in the video which can be used for youtube shorts video generation. You possess a deep understanding of visual storytelling, pacing, and audience engagement techniques. Your goal is to distill the essence of a video into a concise and captivating highlight reel.\"\"\"\n",
    "\n",
    "\n",
    "# files = list_files_in_directory(video_directory)\n",
    "# final_res = {}\n",
    "\n",
    "# for file in files:\n",
    "#     region = get_random_region()\n",
    "#     filename = file.split(\"/\")[-1]\n",
    "#     video_uri = f\"gs://{gcs_bucket_name}/{gcs_temp_working_dir}/{filename}\"\n",
    "#     print(f\"Region chosen: {region}\")\n",
    "#     res=generate(user_prompt, system_prompt, region,video_uri)\n",
    "#     final_res[filename] = res\n",
    "# print(final_res)"
   ]
  },
  {
   "cell_type": "code",
   "execution_count": 45,
   "id": "45011b37-8b12-4e57-9861-6fb0c4c4903b",
   "metadata": {
    "tags": []
   },
   "outputs": [
    {
     "name": "stdout",
     "output_type": "stream",
     "text": [
      "Region chosen: us-east5\n"
     ]
    }
   ],
   "source": [
    "# import vertexai\n",
    "# from vertexai.generative_models import GenerativeModel, Part, SafetySetting\n",
    "\n",
    "\n",
    "# def generate(user_prompt, random_region):\n",
    "#     vertexai.init(project=\"testfab-362608\", location=random_region)\n",
    "\n",
    "#     model = GenerativeModel(\n",
    "#         \"gemini-1.5-pro-002\"\n",
    "#     )\n",
    "\n",
    "#     safety_settings = [\n",
    "#         SafetySetting(\n",
    "#             category=SafetySetting.HarmCategory.HARM_CATEGORY_HATE_SPEECH,\n",
    "#             threshold=SafetySetting.HarmBlockThreshold.OFF\n",
    "#         ),\n",
    "#         SafetySetting(\n",
    "#             category=SafetySetting.HarmCategory.HARM_CATEGORY_DANGEROUS_CONTENT,\n",
    "#             threshold=SafetySetting.HarmBlockThreshold.OFF\n",
    "#         ),\n",
    "#         SafetySetting(\n",
    "#             category=SafetySetting.HarmCategory.HARM_CATEGORY_SEXUALLY_EXPLICIT,\n",
    "#             threshold=SafetySetting.HarmBlockThreshold.OFF\n",
    "#         ),\n",
    "#         SafetySetting(\n",
    "#             category=SafetySetting.HarmCategory.HARM_CATEGORY_HARASSMENT,\n",
    "#             threshold=SafetySetting.HarmBlockThreshold.OFF\n",
    "#         ),\n",
    "#     ]\n",
    "\n",
    "#     generation_config = {\n",
    "#         \"max_output_tokens\": 8192,\n",
    "#         \"temperature\": 1,\n",
    "#         \"top_p\": 0.95,\n",
    "#         \"response_mime_type\": \"application/json\",\n",
    "#     }    \n",
    "    \n",
    "#     response = model.generate_content(\n",
    "#         [user_prompt],\n",
    "#         generation_config=generation_config,\n",
    "#         safety_settings=safety_settings,\n",
    "#         stream=False,\n",
    "#     )\n",
    "\n",
    "#     return response.text\n",
    "\n",
    "# # Output a JSON in which you choose from these highlights a cumulated total of 60 seconds worth of content with at least one highlight per video (you can choose several highlights per video though). Make sure to choose highlights which are as spectacular as possible. The total sum of the different highlight duration (duration per highlight is calculated: end_timestamp - start_timestamp for the highloght) for the chosen highlights have to be exactly 60s.\n",
    "\n",
    "# # - The timestamps are evenly distributed throughout the different videos, not just the beginning.\n",
    "# # - Duration of an highlight must be less than 15 seconds (duration per highlight is calculated: end_timestamp - start_timestamp).\n",
    "\n",
    "\n",
    "\n",
    "# user_prompt = \"\"\"<Instruction>\n",
    "# You have a JSON content that presents timestamp for highlights from multiple videos which are the results of the split of one large video. \n",
    "# Choose the best, most spectacular highlight from the JSON contenat while following this constraint:\n",
    "# - At minimum one highlight per file\n",
    "# - Total cumulated duration (duration per highlight is calculated: end_timestamp - start_timestamp) for all the highlights is 60 seconds.\n",
    "# - Respect the output format\n",
    "# </Instruction>\n",
    "\n",
    "# <JSON_Content>\n",
    "# \"\"\"+str(final_res)+\"\"\"\n",
    "# </JSON_Content>\n",
    "\n",
    "# <Output_Format>\n",
    "# [\n",
    "# {'filename':'',\n",
    "# 'start_timestamp': \"mm:ss\",\n",
    "# 'end_timestamp': \"mm:ss\"},\n",
    "# {'filename':'',\n",
    "# 'start_timestamp': 'mm:ss',\n",
    "# 'end_timestamp': 'mm:ss'},\n",
    "# ...]\n",
    "# </Output_Format>\"\"\"\n",
    "\n",
    "\n",
    "\n",
    "# region = get_random_region()\n",
    "# print(f\"Region chosen: {region}\")\n",
    "# final_highlight=generate(user_prompt,region)\n",
    "\n",
    "\n"
   ]
  },
  {
   "cell_type": "code",
   "execution_count": 57,
   "id": "d18c7815-e966-4599-a4fd-a540288af7b3",
   "metadata": {
    "tags": []
   },
   "outputs": [
    {
     "name": "stdout",
     "output_type": "stream",
     "text": [
      "[\n",
      "  {\n",
      "    \"filename\": \"Hajjan_KSA-001.mp4\",\n",
      "    \"start_timestamp\": \"00:00\",\n",
      "    \"end_timestamp\": \"00:10\"\n",
      "  },\n",
      "  {\n",
      "    \"filename\": \"Hajjan_KSA-002.mp4\",\n",
      "    \"start_timestamp\": \"07:09\",\n",
      "    \"end_timestamp\": \"07:14\"\n",
      "  },\n",
      "  {\n",
      "    \"filename\": \"Hajjan_KSA-003.mp4\",\n",
      "    \"start_timestamp\": \"01:40\",\n",
      "    \"end_timestamp\": \"01:45\"\n",
      "  },\n",
      "  {\n",
      "    \"filename\": \"Hajjan_KSA-003.mp4\",\n",
      "    \"start_timestamp\": \"27:53\",\n",
      "    \"end_timestamp\": \"27:59\"\n",
      "  },\n",
      "  {\n",
      "    \"filename\": \"Hajjan_KSA-004.mp4\",\n",
      "    \"start_timestamp\": \"03:25\",\n",
      "    \"end_timestamp\": \"03:38\"\n",
      "  },\n",
      "  {\n",
      "    \"filename\": \"Hajjan_KSA-005.mp4\",\n",
      "    \"start_timestamp\": \"00:19\",\n",
      "    \"end_timestamp\": \"00:24\"\n",
      "  },\n",
      "  {\n",
      "    \"filename\": \"Hajjan_KSA-005.mp4\",\n",
      "    \"start_timestamp\": \"00:24\",\n",
      "    \"end_timestamp\": \"00:29\"\n",
      "  }\n",
      "]\n"
     ]
    }
   ],
   "source": [
    "from google import genai\n",
    "from google.genai import types\n",
    "import base64\n",
    "\n",
    "def generate(user_prompt):\n",
    "  client = genai.Client(\n",
    "      vertexai=True,\n",
    "      project=\"testfab-362608\",\n",
    "      location=\"us-central1\"\n",
    "  )\n",
    "\n",
    "  res=[]\n",
    "\n",
    "  text1 = types.Part.from_text(user_prompt)\n",
    "\n",
    "  model = \"gemini-exp-1206\"\n",
    "  contents = [\n",
    "    types.Content(\n",
    "      role=\"user\",\n",
    "      parts=[\n",
    "        text1\n",
    "      ]\n",
    "    )\n",
    "  ]\n",
    "  generate_content_config = types.GenerateContentConfig(\n",
    "    temperature = 1,\n",
    "    top_p = 1,\n",
    "    seed = 0,\n",
    "    max_output_tokens = 8192,\n",
    "    response_modalities = [\"TEXT\"],\n",
    "    safety_settings = [types.SafetySetting(\n",
    "      category=\"HARM_CATEGORY_HATE_SPEECH\",\n",
    "      threshold=\"BLOCK_MEDIUM_AND_ABOVE\"\n",
    "    ),types.SafetySetting(\n",
    "      category=\"HARM_CATEGORY_DANGEROUS_CONTENT\",\n",
    "      threshold=\"BLOCK_MEDIUM_AND_ABOVE\"\n",
    "    ),types.SafetySetting(\n",
    "      category=\"HARM_CATEGORY_SEXUALLY_EXPLICIT\",\n",
    "      threshold=\"BLOCK_MEDIUM_AND_ABOVE\"\n",
    "    ),types.SafetySetting(\n",
    "      category=\"HARM_CATEGORY_HARASSMENT\",\n",
    "      threshold=\"BLOCK_MEDIUM_AND_ABOVE\"\n",
    "    )],\n",
    "    response_mime_type = \"application/json\",\n",
    "  )\n",
    "\n",
    "  answer=''\n",
    "  for chunk in client.models.generate_content_stream(\n",
    "    model = model,\n",
    "    contents = contents,\n",
    "    config = generate_content_config,\n",
    "    ):\n",
    "    res.append(chunk)\n",
    "    \n",
    "  return res\n",
    "\n",
    "user_prompt = \"\"\"<Instruction>\n",
    "You have a JSON content that presents timestamp for highlights from multiple videos which are the results of the split of one large video. \n",
    "Choose the best, most spectacular highlight from the JSON contenat while following this constraint:\n",
    "- At minimum one highlight per file\n",
    "- Total cumulated duration (duration per highlight is calculated: end_timestamp - start_timestamp) for all the highlights is exactly 60 seconds.\n",
    "- Respect the output format\n",
    "</Instruction>\n",
    "\n",
    "<JSON_Content>\n",
    "\"\"\"+str(final_res)+\"\"\"\n",
    "</JSON_Content>\n",
    "\n",
    "<Output_Format>\n",
    "[\n",
    "{'filename':'',\n",
    "'start_timestamp': \"mm:ss\",\n",
    "'end_timestamp': \"mm:ss\"},\n",
    "{'filename':'',\n",
    "'start_timestamp': 'mm:ss',\n",
    "'end_timestamp': 'mm:ss'},\n",
    "...]\n",
    "</Output_Format>\"\"\"\n",
    "\n",
    "results = generate(user_prompt)\n",
    "final_highlight=''\n",
    "for res in results:\n",
    " final_highlight = final_highlight + res.candidates[0].content.parts[0].text\n",
    "\n",
    "\n",
    "print(final_highlight)\n",
    "# res[0].candidates[0].content.parts[0].text"
   ]
  },
  {
   "cell_type": "code",
   "execution_count": 46,
   "id": "d1dbec53-6d44-4f8b-8db0-3c07469efdfe",
   "metadata": {
    "tags": []
   },
   "outputs": [
    {
     "data": {
      "text/plain": [
       "'[{\"filename\": \"Hajjan_KSA-001.mp4\", \"start_timestamp\": \"00:00\", \"end_timestamp\": \"00:14\"}, {\"filename\": \"Hajjan_KSA-001.mp4\", \"start_timestamp\": \"01:08\", \"end_timestamp\": \"01:32\"}, {\"filename\": \"Hajjan_KSA-001.mp4\", \"start_timestamp\": \"03:18\", \"end_timestamp\": \"03:44\"}, {\"filename\": \"Hajjan_KSA-001.mp4\", \"start_timestamp\": \"05:57\", \"end_timestamp\": \"06:35\"}, {\"filename\": \"Hajjan_KSA-001.mp4\", \"start_timestamp\": \"07:29\", \"end_timestamp\": \"07:59\"}, {\"filename\": \"Hajjan_KSA-001.mp4\", \"start_timestamp\": \"18:18\", \"end_timestamp\": \"18:33\"}, {\"filename\": \"Hajjan_KSA-002.mp4\", \"start_timestamp\": \"04:27\", \"end_timestamp\": \"04:53\"}, {\"filename\": \"Hajjan_KSA-002.mp4\", \"start_timestamp\": \"14:01\", \"end_timestamp\": \"14:19\"}, {\"filename\": \"Hajjan_KSA-002.mp4\", \"start_timestamp\": \"28:19\", \"end_timestamp\": \"29:05\"}, {\"filename\": \"Hajjan_KSA-003.mp4\", \"start_timestamp\": \"00:44\", \"end_timestamp\": \"00:53\"}, {\"filename\": \"Hajjan_KSA-003.mp4\", \"start_timestamp\": \"03:15\", \"end_timestamp\": \"03:36\"}, {\"filename\": \"Hajjan_KSA-003.mp4\", \"start_timestamp\": \"11:49\", \"end_timestamp\": \"11:59\"}, {\"filename\": \"Hajjan_KSA-003.mp4\", \"start_timestamp\": \"13:51\", \"end_timestamp\": \"14:11\"}, {\"filename\": \"Hajjan_KSA-003.mp4\", \"start_timestamp\": \"20:51\", \"end_timestamp\": \"21:10\"}, {\"filename\": \"Hajjan_KSA-004.mp4\", \"start_timestamp\": \"00:22\", \"end_timestamp\": \"00:39\"}, {\"filename\": \"Hajjan_KSA-004.mp4\", \"start_timestamp\": \"02:29\", \"end_timestamp\": \"03:05\"}, {\"filename\": \"Hajjan_KSA-005.mp4\", \"start_timestamp\": \"00:00\", \"end_timestamp\": \"00:08\"}, {\"filename\": \"Hajjan_KSA-005.mp4\", \"start_timestamp\": \"00:23\", \"end_timestamp\": \"00:28\"}]'"
      ]
     },
     "execution_count": 46,
     "metadata": {},
     "output_type": "execute_result"
    }
   ],
   "source": [
    "final_highlight"
   ]
  },
  {
   "cell_type": "code",
   "execution_count": 45,
   "id": "8d35c4fe-8dbb-4cda-bc55-2667d353df2e",
   "metadata": {
    "tags": []
   },
   "outputs": [
    {
     "name": "stdout",
     "output_type": "stream",
     "text": [
      "[('Hajjan_KSA-001.mp4', '00:00', '00:10'), ('Hajjan_KSA-002.mp4', '07:09', '07:14'), ('Hajjan_KSA-003.mp4', '01:40', '01:45'), ('Hajjan_KSA-003.mp4', '03:18', '03:23'), ('Hajjan_KSA-004.mp4', '03:25', '03:38'), ('Hajjan_KSA-005.mp4', '00:19', '00:24'), ('Hajjan_KSA-001.mp4', '12:55', '13:00')]\n"
     ]
    }
   ],
   "source": [
    "import json\n",
    "\n",
    "def extract_tuples(json_string):\n",
    "  \"\"\"\n",
    "  Extracts tuples from a JSON string and appends them to a list.\n",
    "\n",
    "  Args:\n",
    "    json_string: A string in JSON format containing highlight data.\n",
    "\n",
    "  Returns:\n",
    "    A list of tuples, where each tuple represents a highlight \n",
    "    with (filename, start_timestamp, end_timestamp).\n",
    "  \"\"\"\n",
    "  data = json.loads(json_string)\n",
    "  highlights_list = []\n",
    "\n",
    "  for highlight in data:  # No need to use .get(\"highlights\", []) here since the list is at the top level\n",
    "    filename = highlight.get(\"filename\")\n",
    "    start_timestamp = highlight.get(\"start_timestamp\")\n",
    "    end_timestamp = highlight.get(\"end_timestamp\")\n",
    "\n",
    "    if filename and start_timestamp and end_timestamp:\n",
    "      highlights_list.append((filename, start_timestamp, end_timestamp))\n",
    "\n",
    "  return highlights_list\n",
    "\n",
    "# Example Usage:\n",
    "json_string = final_highlight\n",
    "split_for_video = extract_tuples(json_string)\n",
    "print(split_for_video)"
   ]
  },
  {
   "cell_type": "code",
   "execution_count": 46,
   "id": "5c8f4579-772f-468c-b3e2-2315eb04f384",
   "metadata": {
    "tags": []
   },
   "outputs": [
    {
     "name": "stdout",
     "output_type": "stream",
     "text": [
      "Directory 'video/hajjan/output/chunk' created successfully.\n",
      "{'video_found': True, 'audio_found': True, 'metadata': {'encoder': 'libebml v1.4.2 + libmatroska v1.6.2', 'creation_time': '2025-01-22T07:10:53.000000Z'}, 'inputs': [{'streams': [{'input_number': 0, 'stream_number': 0, 'stream_type': 'video', 'language': None, 'default': True, 'size': [1920, 1080], 'bitrate': None, 'fps': 25.0, 'codec_name': 'h264', 'profile': '(High 4:2:2)', 'metadata': {'Metadata': '', 'BPS-eng': '2264595', 'DURATION-eng': '00:29:17.000000000', 'NUMBER_OF_FRAMES-eng': '43925', 'NUMBER_OF_BYTES-eng': '497361702', '_STATISTICS_WRITING_APP-eng': \"mkvmerge v52.0.0 ('Secret For The Mad') 64-bit\", '_STATISTICS_WRITING_DATE_UTC-eng': '2025-01-22 07:10:53', '_STATISTICS_TAGS-eng': 'BPS DURATION NUMBER_OF_FRAMES NUMBER_OF_BYTES'}}, {'input_number': 0, 'stream_number': 1, 'stream_type': 'audio', 'language': None, 'default': True, 'fps': 48000, 'bitrate': None, 'metadata': {'Metadata': '', 'BPS-eng': '127804', 'DURATION-eng': '00:29:17.034000000', 'NUMBER_OF_FRAMES-eng': '82361', 'NUMBER_OF_BYTES-eng': '28069585', '_STATISTICS_WRITING_APP-eng': \"mkvmerge v52.0.0 ('Secret For The Mad') 64-bit\", '_STATISTICS_WRITING_DATE_UTC-eng': '2025-01-22 07:10:53', '_STATISTICS_TAGS-eng': 'BPS DURATION NUMBER_OF_FRAMES NUMBER_OF_BYTES'}}], 'input_number': 0}], 'duration': 1757.03, 'bitrate': 2394, 'start': 0.0, 'default_video_input_number': 0, 'default_video_stream_number': 0, 'video_codec_name': 'h264', 'video_profile': '(High 4:2:2)', 'video_size': [1920, 1080], 'video_bitrate': None, 'video_fps': 25.0, 'default_audio_input_number': 0, 'default_audio_stream_number': 1, 'audio_fps': 48000, 'audio_bitrate': None, 'video_duration': 1757.03, 'video_n_frames': 43925}\n",
      "/opt/conda/lib/python3.10/site-packages/imageio_ffmpeg/binaries/ffmpeg-linux-x86_64-v7.0.2 -i video/hajjan/output/Hajjan_KSA-001.mp4 -loglevel error -f image2pipe -vf scale=1920:1080 -sws_flags bicubic -pix_fmt rgb24 -vcodec rawvideo -\n",
      "MoviePy - Building video video/hajjan/output/chunk/Hajjan_KSA-001-00:00_00:10.mp4.\n",
      "MoviePy - Writing audio in Hajjan_KSA-001-00:00_00:10TEMP_MPY_wvf_snd.mp3\n"
     ]
    },
    {
     "name": "stderr",
     "output_type": "stream",
     "text": [
      "                                                                   \r"
     ]
    },
    {
     "name": "stdout",
     "output_type": "stream",
     "text": [
      "MoviePy - Done.\n",
      "MoviePy - Writing video video/hajjan/output/chunk/Hajjan_KSA-001-00:00_00:10.mp4\n",
      "\n"
     ]
    },
    {
     "name": "stderr",
     "output_type": "stream",
     "text": [
      "                                                                        \r"
     ]
    },
    {
     "name": "stdout",
     "output_type": "stream",
     "text": [
      "MoviePy - Done !\n",
      "MoviePy - video ready video/hajjan/output/chunk/Hajjan_KSA-001-00:00_00:10.mp4\n",
      "{'video_found': True, 'audio_found': True, 'metadata': {'encoder': 'libebml v1.4.2 + libmatroska v1.6.2', 'creation_time': '2025-01-22T07:10:53.000000Z'}, 'inputs': [{'streams': [{'input_number': 0, 'stream_number': 0, 'stream_type': 'video', 'language': None, 'default': True, 'size': [1920, 1080], 'bitrate': None, 'fps': 25.0, 'codec_name': 'h264', 'profile': '(High 4:2:2)', 'metadata': {'Metadata': '', 'BPS-eng': '1984315', 'DURATION-eng': '00:33:03.960000000', 'NUMBER_OF_FRAMES-eng': '49599', 'NUMBER_OF_BYTES-eng': '492100284', '_STATISTICS_WRITING_APP-eng': \"mkvmerge v52.0.0 ('Secret For The Mad') 64-bit\", '_STATISTICS_WRITING_DATE_UTC-eng': '2025-01-22 07:10:53', '_STATISTICS_TAGS-eng': 'BPS DURATION NUMBER_OF_FRAMES NUMBER_OF_BYTES'}}, {'input_number': 0, 'stream_number': 1, 'stream_type': 'audio', 'language': None, 'default': True, 'fps': 48000, 'bitrate': None, 'metadata': {'Metadata': '', 'BPS-eng': '127822', 'DURATION-eng': '00:33:03.957000000', 'NUMBER_OF_FRAMES-eng': '92998', 'NUMBER_OF_BYTES-eng': '31699218', '_STATISTICS_WRITING_APP-eng': \"mkvmerge v52.0.0 ('Secret For The Mad') 64-bit\", '_STATISTICS_WRITING_DATE_UTC-eng': '2025-01-22 07:10:53', '_STATISTICS_TAGS-eng': 'BPS DURATION NUMBER_OF_FRAMES NUMBER_OF_BYTES'}}], 'input_number': 0}], 'duration': 1983.97, 'bitrate': 2114, 'start': 0.0, 'default_video_input_number': 0, 'default_video_stream_number': 0, 'video_codec_name': 'h264', 'video_profile': '(High 4:2:2)', 'video_size': [1920, 1080], 'video_bitrate': None, 'video_fps': 25.0, 'default_audio_input_number': 0, 'default_audio_stream_number': 1, 'audio_fps': 48000, 'audio_bitrate': None, 'video_duration': 1983.97, 'video_n_frames': 49599}\n",
      "/opt/conda/lib/python3.10/site-packages/imageio_ffmpeg/binaries/ffmpeg-linux-x86_64-v7.0.2 -i video/hajjan/output/Hajjan_KSA-002.mp4 -loglevel error -f image2pipe -vf scale=1920:1080 -sws_flags bicubic -pix_fmt rgb24 -vcodec rawvideo -\n",
      "{'video_found': True, 'audio_found': True, 'metadata': {'encoder': 'libebml v1.4.2 + libmatroska v1.6.2', 'creation_time': '2025-01-22T07:10:53.000000Z'}, 'inputs': [{'streams': [{'input_number': 0, 'stream_number': 0, 'stream_type': 'video', 'language': None, 'default': True, 'size': [1920, 1080], 'bitrate': None, 'fps': 25.0, 'codec_name': 'h264', 'profile': '(High 4:2:2)', 'metadata': {'Metadata': '', 'BPS-eng': '1984315', 'DURATION-eng': '00:33:03.960000000', 'NUMBER_OF_FRAMES-eng': '49599', 'NUMBER_OF_BYTES-eng': '492100284', '_STATISTICS_WRITING_APP-eng': \"mkvmerge v52.0.0 ('Secret For The Mad') 64-bit\", '_STATISTICS_WRITING_DATE_UTC-eng': '2025-01-22 07:10:53', '_STATISTICS_TAGS-eng': 'BPS DURATION NUMBER_OF_FRAMES NUMBER_OF_BYTES'}}, {'input_number': 0, 'stream_number': 1, 'stream_type': 'audio', 'language': None, 'default': True, 'fps': 48000, 'bitrate': None, 'metadata': {'Metadata': '', 'BPS-eng': '127822', 'DURATION-eng': '00:33:03.957000000', 'NUMBER_OF_FRAMES-eng': '92998', 'NUMBER_OF_BYTES-eng': '31699218', '_STATISTICS_WRITING_APP-eng': \"mkvmerge v52.0.0 ('Secret For The Mad') 64-bit\", '_STATISTICS_WRITING_DATE_UTC-eng': '2025-01-22 07:10:53', '_STATISTICS_TAGS-eng': 'BPS DURATION NUMBER_OF_FRAMES NUMBER_OF_BYTES'}}], 'input_number': 0}], 'duration': 1983.97, 'bitrate': 2114, 'start': 0.0, 'default_video_input_number': 0, 'default_video_stream_number': 0, 'video_codec_name': 'h264', 'video_profile': '(High 4:2:2)', 'video_size': [1920, 1080], 'video_bitrate': None, 'video_fps': 25.0, 'default_audio_input_number': 0, 'default_audio_stream_number': 1, 'audio_fps': 48000, 'audio_bitrate': None, 'video_duration': 1983.97, 'video_n_frames': 49599}\n",
      "/opt/conda/lib/python3.10/site-packages/imageio_ffmpeg/binaries/ffmpeg-linux-x86_64-v7.0.2 -ss 428.000000 -i video/hajjan/output/Hajjan_KSA-002.mp4 -ss 1.000000 -loglevel error -f image2pipe -vf scale=1920:1080 -sws_flags bicubic -pix_fmt rgb24 -vcodec rawvideo -\n",
      "MoviePy - Building video video/hajjan/output/chunk/Hajjan_KSA-002-07:09_07:14.mp4.\n",
      "MoviePy - Writing audio in Hajjan_KSA-002-07:09_07:14TEMP_MPY_wvf_snd.mp3\n"
     ]
    },
    {
     "name": "stderr",
     "output_type": "stream",
     "text": [
      "                                                                   \r"
     ]
    },
    {
     "name": "stdout",
     "output_type": "stream",
     "text": [
      "MoviePy - Done.\n",
      "MoviePy - Writing video video/hajjan/output/chunk/Hajjan_KSA-002-07:09_07:14.mp4\n",
      "\n"
     ]
    },
    {
     "name": "stderr",
     "output_type": "stream",
     "text": [
      "                                                                        \r"
     ]
    },
    {
     "name": "stdout",
     "output_type": "stream",
     "text": [
      "MoviePy - Done !\n",
      "MoviePy - video ready video/hajjan/output/chunk/Hajjan_KSA-002-07:09_07:14.mp4\n",
      "{'video_found': True, 'audio_found': True, 'metadata': {'encoder': 'libebml v1.4.2 + libmatroska v1.6.2', 'creation_time': '2025-01-22T07:10:53.000000Z'}, 'inputs': [{'streams': [{'input_number': 0, 'stream_number': 0, 'stream_type': 'video', 'language': None, 'default': True, 'size': [1920, 1080], 'bitrate': None, 'fps': 25.0, 'codec_name': 'h264', 'profile': '(High 4:2:2)', 'metadata': {'Metadata': '', 'BPS-eng': '1754786', 'DURATION-eng': '00:37:06.120000000', 'NUMBER_OF_FRAMES-eng': '55653', 'NUMBER_OF_BYTES-eng': '488295644', '_STATISTICS_WRITING_APP-eng': \"mkvmerge v52.0.0 ('Secret For The Mad') 64-bit\", '_STATISTICS_WRITING_DATE_UTC-eng': '2025-01-22 07:10:53', '_STATISTICS_TAGS-eng': 'BPS DURATION NUMBER_OF_FRAMES NUMBER_OF_BYTES'}}, {'input_number': 0, 'stream_number': 1, 'stream_type': 'audio', 'language': None, 'default': True, 'fps': 48000, 'bitrate': None, 'metadata': {'Metadata': '', 'BPS-eng': '127854', 'DURATION-eng': '00:37:06.112000000', 'NUMBER_OF_FRAMES-eng': '104349', 'NUMBER_OF_BYTES-eng': '35577284', '_STATISTICS_WRITING_APP-eng': \"mkvmerge v52.0.0 ('Secret For The Mad') 64-bit\", '_STATISTICS_WRITING_DATE_UTC-eng': '2025-01-22 07:10:53', '_STATISTICS_TAGS-eng': 'BPS DURATION NUMBER_OF_FRAMES NUMBER_OF_BYTES'}}], 'input_number': 0}], 'duration': 2226.12, 'bitrate': 1884, 'start': 0.0, 'default_video_input_number': 0, 'default_video_stream_number': 0, 'video_codec_name': 'h264', 'video_profile': '(High 4:2:2)', 'video_size': [1920, 1080], 'video_bitrate': None, 'video_fps': 25.0, 'default_audio_input_number': 0, 'default_audio_stream_number': 1, 'audio_fps': 48000, 'audio_bitrate': None, 'video_duration': 2226.12, 'video_n_frames': 55653}\n",
      "/opt/conda/lib/python3.10/site-packages/imageio_ffmpeg/binaries/ffmpeg-linux-x86_64-v7.0.2 -i video/hajjan/output/Hajjan_KSA-003.mp4 -loglevel error -f image2pipe -vf scale=1920:1080 -sws_flags bicubic -pix_fmt rgb24 -vcodec rawvideo -\n",
      "{'video_found': True, 'audio_found': True, 'metadata': {'encoder': 'libebml v1.4.2 + libmatroska v1.6.2', 'creation_time': '2025-01-22T07:10:53.000000Z'}, 'inputs': [{'streams': [{'input_number': 0, 'stream_number': 0, 'stream_type': 'video', 'language': None, 'default': True, 'size': [1920, 1080], 'bitrate': None, 'fps': 25.0, 'codec_name': 'h264', 'profile': '(High 4:2:2)', 'metadata': {'Metadata': '', 'BPS-eng': '1754786', 'DURATION-eng': '00:37:06.120000000', 'NUMBER_OF_FRAMES-eng': '55653', 'NUMBER_OF_BYTES-eng': '488295644', '_STATISTICS_WRITING_APP-eng': \"mkvmerge v52.0.0 ('Secret For The Mad') 64-bit\", '_STATISTICS_WRITING_DATE_UTC-eng': '2025-01-22 07:10:53', '_STATISTICS_TAGS-eng': 'BPS DURATION NUMBER_OF_FRAMES NUMBER_OF_BYTES'}}, {'input_number': 0, 'stream_number': 1, 'stream_type': 'audio', 'language': None, 'default': True, 'fps': 48000, 'bitrate': None, 'metadata': {'Metadata': '', 'BPS-eng': '127854', 'DURATION-eng': '00:37:06.112000000', 'NUMBER_OF_FRAMES-eng': '104349', 'NUMBER_OF_BYTES-eng': '35577284', '_STATISTICS_WRITING_APP-eng': \"mkvmerge v52.0.0 ('Secret For The Mad') 64-bit\", '_STATISTICS_WRITING_DATE_UTC-eng': '2025-01-22 07:10:53', '_STATISTICS_TAGS-eng': 'BPS DURATION NUMBER_OF_FRAMES NUMBER_OF_BYTES'}}], 'input_number': 0}], 'duration': 2226.12, 'bitrate': 1884, 'start': 0.0, 'default_video_input_number': 0, 'default_video_stream_number': 0, 'video_codec_name': 'h264', 'video_profile': '(High 4:2:2)', 'video_size': [1920, 1080], 'video_bitrate': None, 'video_fps': 25.0, 'default_audio_input_number': 0, 'default_audio_stream_number': 1, 'audio_fps': 48000, 'audio_bitrate': None, 'video_duration': 2226.12, 'video_n_frames': 55653}\n",
      "/opt/conda/lib/python3.10/site-packages/imageio_ffmpeg/binaries/ffmpeg-linux-x86_64-v7.0.2 -ss 99.000000 -i video/hajjan/output/Hajjan_KSA-003.mp4 -ss 1.000000 -loglevel error -f image2pipe -vf scale=1920:1080 -sws_flags bicubic -pix_fmt rgb24 -vcodec rawvideo -\n",
      "MoviePy - Building video video/hajjan/output/chunk/Hajjan_KSA-003-01:40_01:45.mp4.\n",
      "MoviePy - Writing audio in Hajjan_KSA-003-01:40_01:45TEMP_MPY_wvf_snd.mp3\n"
     ]
    },
    {
     "name": "stderr",
     "output_type": "stream",
     "text": [
      "                                                                  \r"
     ]
    },
    {
     "name": "stdout",
     "output_type": "stream",
     "text": [
      "MoviePy - Done.\n",
      "MoviePy - Writing video video/hajjan/output/chunk/Hajjan_KSA-003-01:40_01:45.mp4\n",
      "\n"
     ]
    },
    {
     "name": "stderr",
     "output_type": "stream",
     "text": [
      "                                                                        \r"
     ]
    },
    {
     "name": "stdout",
     "output_type": "stream",
     "text": [
      "MoviePy - Done !\n",
      "MoviePy - video ready video/hajjan/output/chunk/Hajjan_KSA-003-01:40_01:45.mp4\n",
      "{'video_found': True, 'audio_found': True, 'metadata': {'encoder': 'libebml v1.4.2 + libmatroska v1.6.2', 'creation_time': '2025-01-22T07:10:53.000000Z'}, 'inputs': [{'streams': [{'input_number': 0, 'stream_number': 0, 'stream_type': 'video', 'language': None, 'default': True, 'size': [1920, 1080], 'bitrate': None, 'fps': 25.0, 'codec_name': 'h264', 'profile': '(High 4:2:2)', 'metadata': {'Metadata': '', 'BPS-eng': '1754786', 'DURATION-eng': '00:37:06.120000000', 'NUMBER_OF_FRAMES-eng': '55653', 'NUMBER_OF_BYTES-eng': '488295644', '_STATISTICS_WRITING_APP-eng': \"mkvmerge v52.0.0 ('Secret For The Mad') 64-bit\", '_STATISTICS_WRITING_DATE_UTC-eng': '2025-01-22 07:10:53', '_STATISTICS_TAGS-eng': 'BPS DURATION NUMBER_OF_FRAMES NUMBER_OF_BYTES'}}, {'input_number': 0, 'stream_number': 1, 'stream_type': 'audio', 'language': None, 'default': True, 'fps': 48000, 'bitrate': None, 'metadata': {'Metadata': '', 'BPS-eng': '127854', 'DURATION-eng': '00:37:06.112000000', 'NUMBER_OF_FRAMES-eng': '104349', 'NUMBER_OF_BYTES-eng': '35577284', '_STATISTICS_WRITING_APP-eng': \"mkvmerge v52.0.0 ('Secret For The Mad') 64-bit\", '_STATISTICS_WRITING_DATE_UTC-eng': '2025-01-22 07:10:53', '_STATISTICS_TAGS-eng': 'BPS DURATION NUMBER_OF_FRAMES NUMBER_OF_BYTES'}}], 'input_number': 0}], 'duration': 2226.12, 'bitrate': 1884, 'start': 0.0, 'default_video_input_number': 0, 'default_video_stream_number': 0, 'video_codec_name': 'h264', 'video_profile': '(High 4:2:2)', 'video_size': [1920, 1080], 'video_bitrate': None, 'video_fps': 25.0, 'default_audio_input_number': 0, 'default_audio_stream_number': 1, 'audio_fps': 48000, 'audio_bitrate': None, 'video_duration': 2226.12, 'video_n_frames': 55653}\n",
      "/opt/conda/lib/python3.10/site-packages/imageio_ffmpeg/binaries/ffmpeg-linux-x86_64-v7.0.2 -i video/hajjan/output/Hajjan_KSA-003.mp4 -loglevel error -f image2pipe -vf scale=1920:1080 -sws_flags bicubic -pix_fmt rgb24 -vcodec rawvideo -\n",
      "{'video_found': True, 'audio_found': True, 'metadata': {'encoder': 'libebml v1.4.2 + libmatroska v1.6.2', 'creation_time': '2025-01-22T07:10:53.000000Z'}, 'inputs': [{'streams': [{'input_number': 0, 'stream_number': 0, 'stream_type': 'video', 'language': None, 'default': True, 'size': [1920, 1080], 'bitrate': None, 'fps': 25.0, 'codec_name': 'h264', 'profile': '(High 4:2:2)', 'metadata': {'Metadata': '', 'BPS-eng': '1754786', 'DURATION-eng': '00:37:06.120000000', 'NUMBER_OF_FRAMES-eng': '55653', 'NUMBER_OF_BYTES-eng': '488295644', '_STATISTICS_WRITING_APP-eng': \"mkvmerge v52.0.0 ('Secret For The Mad') 64-bit\", '_STATISTICS_WRITING_DATE_UTC-eng': '2025-01-22 07:10:53', '_STATISTICS_TAGS-eng': 'BPS DURATION NUMBER_OF_FRAMES NUMBER_OF_BYTES'}}, {'input_number': 0, 'stream_number': 1, 'stream_type': 'audio', 'language': None, 'default': True, 'fps': 48000, 'bitrate': None, 'metadata': {'Metadata': '', 'BPS-eng': '127854', 'DURATION-eng': '00:37:06.112000000', 'NUMBER_OF_FRAMES-eng': '104349', 'NUMBER_OF_BYTES-eng': '35577284', '_STATISTICS_WRITING_APP-eng': \"mkvmerge v52.0.0 ('Secret For The Mad') 64-bit\", '_STATISTICS_WRITING_DATE_UTC-eng': '2025-01-22 07:10:53', '_STATISTICS_TAGS-eng': 'BPS DURATION NUMBER_OF_FRAMES NUMBER_OF_BYTES'}}], 'input_number': 0}], 'duration': 2226.12, 'bitrate': 1884, 'start': 0.0, 'default_video_input_number': 0, 'default_video_stream_number': 0, 'video_codec_name': 'h264', 'video_profile': '(High 4:2:2)', 'video_size': [1920, 1080], 'video_bitrate': None, 'video_fps': 25.0, 'default_audio_input_number': 0, 'default_audio_stream_number': 1, 'audio_fps': 48000, 'audio_bitrate': None, 'video_duration': 2226.12, 'video_n_frames': 55653}\n",
      "/opt/conda/lib/python3.10/site-packages/imageio_ffmpeg/binaries/ffmpeg-linux-x86_64-v7.0.2 -ss 197.000000 -i video/hajjan/output/Hajjan_KSA-003.mp4 -ss 1.000000 -loglevel error -f image2pipe -vf scale=1920:1080 -sws_flags bicubic -pix_fmt rgb24 -vcodec rawvideo -\n",
      "MoviePy - Building video video/hajjan/output/chunk/Hajjan_KSA-003-03:18_03:23.mp4.\n",
      "MoviePy - Writing audio in Hajjan_KSA-003-03:18_03:23TEMP_MPY_wvf_snd.mp3\n"
     ]
    },
    {
     "name": "stderr",
     "output_type": "stream",
     "text": [
      "                                                                   \r"
     ]
    },
    {
     "name": "stdout",
     "output_type": "stream",
     "text": [
      "MoviePy - Done.\n",
      "MoviePy - Writing video video/hajjan/output/chunk/Hajjan_KSA-003-03:18_03:23.mp4\n",
      "\n"
     ]
    },
    {
     "name": "stderr",
     "output_type": "stream",
     "text": [
      "                                                                        \r"
     ]
    },
    {
     "name": "stdout",
     "output_type": "stream",
     "text": [
      "MoviePy - Done !\n",
      "MoviePy - video ready video/hajjan/output/chunk/Hajjan_KSA-003-03:18_03:23.mp4\n",
      "{'video_found': True, 'audio_found': True, 'metadata': {'encoder': 'libebml v1.4.2 + libmatroska v1.6.2', 'creation_time': '2025-01-22T07:10:53.000000Z'}, 'inputs': [{'streams': [{'input_number': 0, 'stream_number': 0, 'stream_type': 'video', 'language': None, 'default': True, 'size': [1920, 1080], 'bitrate': None, 'fps': 25.0, 'codec_name': 'h264', 'profile': '(High 4:2:2)', 'metadata': {'Metadata': '', 'BPS-eng': '2424551', 'DURATION-eng': '00:27:25.320000000', 'NUMBER_OF_FRAMES-eng': '41133', 'NUMBER_OF_BYTES-eng': '498645294', '_STATISTICS_WRITING_APP-eng': \"mkvmerge v52.0.0 ('Secret For The Mad') 64-bit\", '_STATISTICS_WRITING_DATE_UTC-eng': '2025-01-22 07:10:53', '_STATISTICS_TAGS-eng': 'BPS DURATION NUMBER_OF_FRAMES NUMBER_OF_BYTES'}}, {'input_number': 0, 'stream_number': 1, 'stream_type': 'audio', 'language': None, 'default': True, 'fps': 48000, 'bitrate': None, 'metadata': {'Metadata': '', 'BPS-eng': '128219', 'DURATION-eng': '00:27:25.333000000', 'NUMBER_OF_FRAMES-eng': '77125', 'NUMBER_OF_BYTES-eng': '26370370', '_STATISTICS_WRITING_APP-eng': \"mkvmerge v52.0.0 ('Secret For The Mad') 64-bit\", '_STATISTICS_WRITING_DATE_UTC-eng': '2025-01-22 07:10:53', '_STATISTICS_TAGS-eng': 'BPS DURATION NUMBER_OF_FRAMES NUMBER_OF_BYTES'}}], 'input_number': 0}], 'duration': 1645.34, 'bitrate': 2555, 'start': 0.0, 'default_video_input_number': 0, 'default_video_stream_number': 0, 'video_codec_name': 'h264', 'video_profile': '(High 4:2:2)', 'video_size': [1920, 1080], 'video_bitrate': None, 'video_fps': 25.0, 'default_audio_input_number': 0, 'default_audio_stream_number': 1, 'audio_fps': 48000, 'audio_bitrate': None, 'video_duration': 1645.34, 'video_n_frames': 41133}\n",
      "/opt/conda/lib/python3.10/site-packages/imageio_ffmpeg/binaries/ffmpeg-linux-x86_64-v7.0.2 -i video/hajjan/output/Hajjan_KSA-004.mp4 -loglevel error -f image2pipe -vf scale=1920:1080 -sws_flags bicubic -pix_fmt rgb24 -vcodec rawvideo -\n",
      "{'video_found': True, 'audio_found': True, 'metadata': {'encoder': 'libebml v1.4.2 + libmatroska v1.6.2', 'creation_time': '2025-01-22T07:10:53.000000Z'}, 'inputs': [{'streams': [{'input_number': 0, 'stream_number': 0, 'stream_type': 'video', 'language': None, 'default': True, 'size': [1920, 1080], 'bitrate': None, 'fps': 25.0, 'codec_name': 'h264', 'profile': '(High 4:2:2)', 'metadata': {'Metadata': '', 'BPS-eng': '2424551', 'DURATION-eng': '00:27:25.320000000', 'NUMBER_OF_FRAMES-eng': '41133', 'NUMBER_OF_BYTES-eng': '498645294', '_STATISTICS_WRITING_APP-eng': \"mkvmerge v52.0.0 ('Secret For The Mad') 64-bit\", '_STATISTICS_WRITING_DATE_UTC-eng': '2025-01-22 07:10:53', '_STATISTICS_TAGS-eng': 'BPS DURATION NUMBER_OF_FRAMES NUMBER_OF_BYTES'}}, {'input_number': 0, 'stream_number': 1, 'stream_type': 'audio', 'language': None, 'default': True, 'fps': 48000, 'bitrate': None, 'metadata': {'Metadata': '', 'BPS-eng': '128219', 'DURATION-eng': '00:27:25.333000000', 'NUMBER_OF_FRAMES-eng': '77125', 'NUMBER_OF_BYTES-eng': '26370370', '_STATISTICS_WRITING_APP-eng': \"mkvmerge v52.0.0 ('Secret For The Mad') 64-bit\", '_STATISTICS_WRITING_DATE_UTC-eng': '2025-01-22 07:10:53', '_STATISTICS_TAGS-eng': 'BPS DURATION NUMBER_OF_FRAMES NUMBER_OF_BYTES'}}], 'input_number': 0}], 'duration': 1645.34, 'bitrate': 2555, 'start': 0.0, 'default_video_input_number': 0, 'default_video_stream_number': 0, 'video_codec_name': 'h264', 'video_profile': '(High 4:2:2)', 'video_size': [1920, 1080], 'video_bitrate': None, 'video_fps': 25.0, 'default_audio_input_number': 0, 'default_audio_stream_number': 1, 'audio_fps': 48000, 'audio_bitrate': None, 'video_duration': 1645.34, 'video_n_frames': 41133}\n",
      "/opt/conda/lib/python3.10/site-packages/imageio_ffmpeg/binaries/ffmpeg-linux-x86_64-v7.0.2 -ss 204.000000 -i video/hajjan/output/Hajjan_KSA-004.mp4 -ss 1.000000 -loglevel error -f image2pipe -vf scale=1920:1080 -sws_flags bicubic -pix_fmt rgb24 -vcodec rawvideo -\n",
      "MoviePy - Building video video/hajjan/output/chunk/Hajjan_KSA-004-03:25_03:38.mp4.\n",
      "MoviePy - Writing audio in Hajjan_KSA-004-03:25_03:38TEMP_MPY_wvf_snd.mp3\n"
     ]
    },
    {
     "name": "stderr",
     "output_type": "stream",
     "text": [
      "                                                                   \r"
     ]
    },
    {
     "name": "stdout",
     "output_type": "stream",
     "text": [
      "MoviePy - Done.\n",
      "MoviePy - Writing video video/hajjan/output/chunk/Hajjan_KSA-004-03:25_03:38.mp4\n",
      "\n"
     ]
    },
    {
     "name": "stderr",
     "output_type": "stream",
     "text": [
      "                                                                        \r"
     ]
    },
    {
     "name": "stdout",
     "output_type": "stream",
     "text": [
      "MoviePy - Done !\n",
      "MoviePy - video ready video/hajjan/output/chunk/Hajjan_KSA-004-03:25_03:38.mp4\n",
      "{'video_found': True, 'audio_found': True, 'metadata': {'encoder': 'libebml v1.4.2 + libmatroska v1.6.2', 'creation_time': '2025-01-22T07:10:53.000000Z'}, 'inputs': [{'streams': [{'input_number': 0, 'stream_number': 0, 'stream_type': 'video', 'language': None, 'default': True, 'size': [1920, 1080], 'bitrate': None, 'fps': 25.0, 'codec_name': 'h264', 'profile': '(High 4:2:2)', 'metadata': {'Metadata': '', 'BPS-eng': '805017', 'DURATION-eng': '00:00:28.760000000', 'NUMBER_OF_FRAMES-eng': '719', 'NUMBER_OF_BYTES-eng': '2894038', '_STATISTICS_WRITING_APP-eng': \"mkvmerge v52.0.0 ('Secret For The Mad') 64-bit\", '_STATISTICS_WRITING_DATE_UTC-eng': '2025-01-22 07:10:53', '_STATISTICS_TAGS-eng': 'BPS DURATION NUMBER_OF_FRAMES NUMBER_OF_BYTES'}}, {'input_number': 0, 'stream_number': 1, 'stream_type': 'audio', 'language': None, 'default': True, 'fps': 48000, 'bitrate': None, 'metadata': {'Metadata': '', 'BPS-eng': '127572', 'DURATION-eng': '00:00:28.757000000', 'NUMBER_OF_FRAMES-eng': '1348', 'NUMBER_OF_BYTES-eng': '458574', '_STATISTICS_WRITING_APP-eng': \"mkvmerge v52.0.0 ('Secret For The Mad') 64-bit\", '_STATISTICS_WRITING_DATE_UTC-eng': '2025-01-22 07:10:53', '_STATISTICS_TAGS-eng': 'BPS DURATION NUMBER_OF_FRAMES NUMBER_OF_BYTES'}}], 'input_number': 0}], 'duration': 28.77, 'bitrate': 936, 'start': 0.0, 'default_video_input_number': 0, 'default_video_stream_number': 0, 'video_codec_name': 'h264', 'video_profile': '(High 4:2:2)', 'video_size': [1920, 1080], 'video_bitrate': None, 'video_fps': 25.0, 'default_audio_input_number': 0, 'default_audio_stream_number': 1, 'audio_fps': 48000, 'audio_bitrate': None, 'video_duration': 28.77, 'video_n_frames': 719}\n",
      "/opt/conda/lib/python3.10/site-packages/imageio_ffmpeg/binaries/ffmpeg-linux-x86_64-v7.0.2 -i video/hajjan/output/Hajjan_KSA-005.mp4 -loglevel error -f image2pipe -vf scale=1920:1080 -sws_flags bicubic -pix_fmt rgb24 -vcodec rawvideo -\n",
      "{'video_found': True, 'audio_found': True, 'metadata': {'encoder': 'libebml v1.4.2 + libmatroska v1.6.2', 'creation_time': '2025-01-22T07:10:53.000000Z'}, 'inputs': [{'streams': [{'input_number': 0, 'stream_number': 0, 'stream_type': 'video', 'language': None, 'default': True, 'size': [1920, 1080], 'bitrate': None, 'fps': 25.0, 'codec_name': 'h264', 'profile': '(High 4:2:2)', 'metadata': {'Metadata': '', 'BPS-eng': '805017', 'DURATION-eng': '00:00:28.760000000', 'NUMBER_OF_FRAMES-eng': '719', 'NUMBER_OF_BYTES-eng': '2894038', '_STATISTICS_WRITING_APP-eng': \"mkvmerge v52.0.0 ('Secret For The Mad') 64-bit\", '_STATISTICS_WRITING_DATE_UTC-eng': '2025-01-22 07:10:53', '_STATISTICS_TAGS-eng': 'BPS DURATION NUMBER_OF_FRAMES NUMBER_OF_BYTES'}}, {'input_number': 0, 'stream_number': 1, 'stream_type': 'audio', 'language': None, 'default': True, 'fps': 48000, 'bitrate': None, 'metadata': {'Metadata': '', 'BPS-eng': '127572', 'DURATION-eng': '00:00:28.757000000', 'NUMBER_OF_FRAMES-eng': '1348', 'NUMBER_OF_BYTES-eng': '458574', '_STATISTICS_WRITING_APP-eng': \"mkvmerge v52.0.0 ('Secret For The Mad') 64-bit\", '_STATISTICS_WRITING_DATE_UTC-eng': '2025-01-22 07:10:53', '_STATISTICS_TAGS-eng': 'BPS DURATION NUMBER_OF_FRAMES NUMBER_OF_BYTES'}}], 'input_number': 0}], 'duration': 28.77, 'bitrate': 936, 'start': 0.0, 'default_video_input_number': 0, 'default_video_stream_number': 0, 'video_codec_name': 'h264', 'video_profile': '(High 4:2:2)', 'video_size': [1920, 1080], 'video_bitrate': None, 'video_fps': 25.0, 'default_audio_input_number': 0, 'default_audio_stream_number': 1, 'audio_fps': 48000, 'audio_bitrate': None, 'video_duration': 28.77, 'video_n_frames': 719}\n",
      "/opt/conda/lib/python3.10/site-packages/imageio_ffmpeg/binaries/ffmpeg-linux-x86_64-v7.0.2 -ss 18.000000 -i video/hajjan/output/Hajjan_KSA-005.mp4 -ss 1.000000 -loglevel error -f image2pipe -vf scale=1920:1080 -sws_flags bicubic -pix_fmt rgb24 -vcodec rawvideo -\n",
      "MoviePy - Building video video/hajjan/output/chunk/Hajjan_KSA-005-00:19_00:24.mp4.\n",
      "MoviePy - Writing audio in Hajjan_KSA-005-00:19_00:24TEMP_MPY_wvf_snd.mp3\n"
     ]
    },
    {
     "name": "stderr",
     "output_type": "stream",
     "text": [
      "                                                                   \r"
     ]
    },
    {
     "name": "stdout",
     "output_type": "stream",
     "text": [
      "MoviePy - Done.\n",
      "MoviePy - Writing video video/hajjan/output/chunk/Hajjan_KSA-005-00:19_00:24.mp4\n",
      "\n"
     ]
    },
    {
     "name": "stderr",
     "output_type": "stream",
     "text": [
      "                                                                        \r"
     ]
    },
    {
     "name": "stdout",
     "output_type": "stream",
     "text": [
      "MoviePy - Done !\n",
      "MoviePy - video ready video/hajjan/output/chunk/Hajjan_KSA-005-00:19_00:24.mp4\n",
      "{'video_found': True, 'audio_found': True, 'metadata': {'encoder': 'libebml v1.4.2 + libmatroska v1.6.2', 'creation_time': '2025-01-22T07:10:53.000000Z'}, 'inputs': [{'streams': [{'input_number': 0, 'stream_number': 0, 'stream_type': 'video', 'language': None, 'default': True, 'size': [1920, 1080], 'bitrate': None, 'fps': 25.0, 'codec_name': 'h264', 'profile': '(High 4:2:2)', 'metadata': {'Metadata': '', 'BPS-eng': '2264595', 'DURATION-eng': '00:29:17.000000000', 'NUMBER_OF_FRAMES-eng': '43925', 'NUMBER_OF_BYTES-eng': '497361702', '_STATISTICS_WRITING_APP-eng': \"mkvmerge v52.0.0 ('Secret For The Mad') 64-bit\", '_STATISTICS_WRITING_DATE_UTC-eng': '2025-01-22 07:10:53', '_STATISTICS_TAGS-eng': 'BPS DURATION NUMBER_OF_FRAMES NUMBER_OF_BYTES'}}, {'input_number': 0, 'stream_number': 1, 'stream_type': 'audio', 'language': None, 'default': True, 'fps': 48000, 'bitrate': None, 'metadata': {'Metadata': '', 'BPS-eng': '127804', 'DURATION-eng': '00:29:17.034000000', 'NUMBER_OF_FRAMES-eng': '82361', 'NUMBER_OF_BYTES-eng': '28069585', '_STATISTICS_WRITING_APP-eng': \"mkvmerge v52.0.0 ('Secret For The Mad') 64-bit\", '_STATISTICS_WRITING_DATE_UTC-eng': '2025-01-22 07:10:53', '_STATISTICS_TAGS-eng': 'BPS DURATION NUMBER_OF_FRAMES NUMBER_OF_BYTES'}}], 'input_number': 0}], 'duration': 1757.03, 'bitrate': 2394, 'start': 0.0, 'default_video_input_number': 0, 'default_video_stream_number': 0, 'video_codec_name': 'h264', 'video_profile': '(High 4:2:2)', 'video_size': [1920, 1080], 'video_bitrate': None, 'video_fps': 25.0, 'default_audio_input_number': 0, 'default_audio_stream_number': 1, 'audio_fps': 48000, 'audio_bitrate': None, 'video_duration': 1757.03, 'video_n_frames': 43925}\n",
      "/opt/conda/lib/python3.10/site-packages/imageio_ffmpeg/binaries/ffmpeg-linux-x86_64-v7.0.2 -i video/hajjan/output/Hajjan_KSA-001.mp4 -loglevel error -f image2pipe -vf scale=1920:1080 -sws_flags bicubic -pix_fmt rgb24 -vcodec rawvideo -\n",
      "{'video_found': True, 'audio_found': True, 'metadata': {'encoder': 'libebml v1.4.2 + libmatroska v1.6.2', 'creation_time': '2025-01-22T07:10:53.000000Z'}, 'inputs': [{'streams': [{'input_number': 0, 'stream_number': 0, 'stream_type': 'video', 'language': None, 'default': True, 'size': [1920, 1080], 'bitrate': None, 'fps': 25.0, 'codec_name': 'h264', 'profile': '(High 4:2:2)', 'metadata': {'Metadata': '', 'BPS-eng': '2264595', 'DURATION-eng': '00:29:17.000000000', 'NUMBER_OF_FRAMES-eng': '43925', 'NUMBER_OF_BYTES-eng': '497361702', '_STATISTICS_WRITING_APP-eng': \"mkvmerge v52.0.0 ('Secret For The Mad') 64-bit\", '_STATISTICS_WRITING_DATE_UTC-eng': '2025-01-22 07:10:53', '_STATISTICS_TAGS-eng': 'BPS DURATION NUMBER_OF_FRAMES NUMBER_OF_BYTES'}}, {'input_number': 0, 'stream_number': 1, 'stream_type': 'audio', 'language': None, 'default': True, 'fps': 48000, 'bitrate': None, 'metadata': {'Metadata': '', 'BPS-eng': '127804', 'DURATION-eng': '00:29:17.034000000', 'NUMBER_OF_FRAMES-eng': '82361', 'NUMBER_OF_BYTES-eng': '28069585', '_STATISTICS_WRITING_APP-eng': \"mkvmerge v52.0.0 ('Secret For The Mad') 64-bit\", '_STATISTICS_WRITING_DATE_UTC-eng': '2025-01-22 07:10:53', '_STATISTICS_TAGS-eng': 'BPS DURATION NUMBER_OF_FRAMES NUMBER_OF_BYTES'}}], 'input_number': 0}], 'duration': 1757.03, 'bitrate': 2394, 'start': 0.0, 'default_video_input_number': 0, 'default_video_stream_number': 0, 'video_codec_name': 'h264', 'video_profile': '(High 4:2:2)', 'video_size': [1920, 1080], 'video_bitrate': None, 'video_fps': 25.0, 'default_audio_input_number': 0, 'default_audio_stream_number': 1, 'audio_fps': 48000, 'audio_bitrate': None, 'video_duration': 1757.03, 'video_n_frames': 43925}\n",
      "/opt/conda/lib/python3.10/site-packages/imageio_ffmpeg/binaries/ffmpeg-linux-x86_64-v7.0.2 -ss 774.000000 -i video/hajjan/output/Hajjan_KSA-001.mp4 -ss 1.000000 -loglevel error -f image2pipe -vf scale=1920:1080 -sws_flags bicubic -pix_fmt rgb24 -vcodec rawvideo -\n",
      "MoviePy - Building video video/hajjan/output/chunk/Hajjan_KSA-001-12:55_13:00.mp4.\n",
      "MoviePy - Writing audio in Hajjan_KSA-001-12:55_13:00TEMP_MPY_wvf_snd.mp3\n"
     ]
    },
    {
     "name": "stderr",
     "output_type": "stream",
     "text": [
      "                                                                   \r"
     ]
    },
    {
     "name": "stdout",
     "output_type": "stream",
     "text": [
      "MoviePy - Done.\n",
      "MoviePy - Writing video video/hajjan/output/chunk/Hajjan_KSA-001-12:55_13:00.mp4\n",
      "\n"
     ]
    },
    {
     "name": "stderr",
     "output_type": "stream",
     "text": [
      "                                                                        \r"
     ]
    },
    {
     "name": "stdout",
     "output_type": "stream",
     "text": [
      "MoviePy - Done !\n",
      "MoviePy - video ready video/hajjan/output/chunk/Hajjan_KSA-001-12:55_13:00.mp4\n"
     ]
    }
   ],
   "source": [
    "from moviepy.video.io.ffmpeg_tools import ffmpeg_extract_subclip\n",
    "from moviepy import VideoFileClip\n",
    "import os\n",
    "\n",
    "def cut_video(input_file, output_file, start_time, end_time):\n",
    "  \"\"\"\n",
    "  Cuts a video file from start_time to end_time using moviepy.\n",
    "\n",
    "  Args:\n",
    "    input_file: Path to the input video file.\n",
    "    output_file: Path to save the output (cut) video file.\n",
    "    start_time: Start time in \"mm:ss\" format (e.g., \"01:30\").\n",
    "    end_time: End time in \"mm:ss\" format (e.g., \"02:15\").\n",
    "  \"\"\"\n",
    "\n",
    "  def time_to_seconds(time_str):\n",
    "      \"\"\"Converts a time string in mm:ss format to seconds.\"\"\"\n",
    "      minutes, seconds = map(int, time_str.split(':'))\n",
    "      return minutes * 60 + seconds\n",
    "\n",
    "  start_seconds = time_to_seconds(start_time)\n",
    "  print(start_seconds)\n",
    "  end_seconds = time_to_seconds(end_time)\n",
    "  print(end_seconds)\n",
    "  \n",
    "  # Method 1 (More Precise, but can be slower for large files or many cuts)\n",
    "  # Uses VideoFileClip for loading, which allows for frame-accurate cutting\n",
    "  # More suitable for editing workflows where you might be doing other\n",
    "  # manipulations with the clip beyond just cutting.\n",
    "  try:\n",
    "      with VideoFileClip(input_file) as video:\n",
    "          subclip = video.subclip(start_seconds, end_seconds)\n",
    "          subclip.write_videofile(output_file)\n",
    "  except Exception as e:\n",
    "      print(f\"Error using VideoFileClip: {e}\")\n",
    "      print(\"Falling back to ffmpeg_extract_subclip\")\n",
    "  \n",
    "      # Method 2 (Faster, but may not be frame-accurate)\n",
    "      # Uses ffmpeg_extract_subclip which is a direct call to ffmpeg\n",
    "      # Much faster for simple cutting, especially with large files.\n",
    "      # Precision depends on keyframe placement in the original video.\n",
    "      try:\n",
    "          ffmpeg_extract_subclip(input_file, start_seconds, end_seconds, targetname=output_file)\n",
    "      except Exception as e:\n",
    "          print(f\"Error using ffmpeg_extract_subclip: {e}\")\n",
    "          \n",
    "\n",
    "# Example Usage:\n",
    "# input_video = \"input.mp4\"\n",
    "# output_video = \"output.mp4\"\n",
    "# start_time = \"00:10\"\n",
    "# end_time = \"00:30\"\n",
    "\n",
    "# cut_video(input_video, output_video, start_time, end_time)\n",
    "\n",
    "\n",
    "\n",
    "# video clips\n",
    "# from moviepy import *\n",
    " \n",
    "# # loading video dsa gfg intro video\n",
    "# clip = VideoFileClip(\"video/hajjan/output/Hajjan_KSA-001.mp4\")\n",
    " \n",
    "# # getting subclip as video is large\n",
    "# chunk = clip.subclipped(55, 100)\n",
    "# chunk.write_videofile(\"video/hajjan/output/chunk/Hajjan_KSA-001_1.mp4\")\n",
    "# clip.close()\n",
    "# showing clip\n",
    "# clip.ipython_display(width = 480)\n",
    "\n",
    "chunk_directory = os.path.join(video_directory, 'chunk')\n",
    "try:\n",
    "    os.makedirs(chunk_directory)\n",
    "    print(f\"Directory '{chunk_directory}' created successfully.\")\n",
    "except FileExistsError:\n",
    "    print(f\"Directory '{chunk_directory}' already exists.\")\n",
    "\n",
    "for split in split_for_video:\n",
    "    video_source = video_directory+\"/\"+split[0]\n",
    "    video_destination = chunk_directory+\"/\"+split[0].split(\".\")[0]+\"-\"+split[1]+\"_\"+split[2]+\".mp4\"\n",
    "    clip = VideoFileClip(video_source)\n",
    "    chunk = clip.subclipped(split[1], split[2])\n",
    "    chunk.write_videofile(video_destination)\n",
    "    chunk.close()\n",
    "    clip.close()\n",
    "\n",
    "    \n",
    "    \n",
    "    # cut_video(video_source ,video_destination,split[1],split[2])\n",
    "    \n"
   ]
  },
  {
   "cell_type": "code",
   "execution_count": 55,
   "id": "1fa0ae5f-28c3-4bea-a872-55d1ce19f4a4",
   "metadata": {
    "tags": []
   },
   "outputs": [
    {
     "data": {
      "text/plain": [
       "['video/hajjan/output/chunk/Hajjan_KSA-001-00:00_00:10.mp4',\n",
       " 'video/hajjan/output/chunk/Hajjan_KSA-001-12:55_13:00.mp4',\n",
       " 'video/hajjan/output/chunk/Hajjan_KSA-002-07:09_07:14.mp4',\n",
       " 'video/hajjan/output/chunk/Hajjan_KSA-003-01:40_01:45.mp4',\n",
       " 'video/hajjan/output/chunk/Hajjan_KSA-003-03:18_03:23.mp4',\n",
       " 'video/hajjan/output/chunk/Hajjan_KSA-004-03:25_03:38.mp4',\n",
       " 'video/hajjan/output/chunk/Hajjan_KSA-005-00:19_00:24.mp4']"
      ]
     },
     "execution_count": 55,
     "metadata": {},
     "output_type": "execute_result"
    }
   ],
   "source": [
    "import re\n",
    "import os\n",
    "import datetime\n",
    "\n",
    "def get_sorted_files(folder_path):\n",
    "    \"\"\"\n",
    "    Returns a list of .mp4 files in the given folder, sorted by their index and start time.\n",
    "    The index is assumed to be in the middle of the filename, e.g., 001 for Hajjan_KSA-001-07:43_07:55.mp4.\n",
    "    The start time is extracted from the filename in the format MM:SS.\n",
    "    \"\"\"\n",
    "    files = [f for f in os.listdir(folder_path) if f.endswith('.mp4')]\n",
    "\n",
    "    # Sort files by index and then start time (using MM:SS format)\n",
    "    files.sort(key=lambda f: (int(re.search(r'-(\\d{3})-', f).group(1)),\n",
    "                              datetime.datetime.strptime(re.search(r'-(\\d{2}:\\d{2})_', f).group(1), '%M:%S')))\n",
    "\n",
    "    # Join the folder path and file name to get the full path\n",
    "    full_paths = [os.path.join(folder_path, file) for file in files]\n",
    "    return full_paths\n",
    "\n",
    "order_file_list = get_sorted_files(chunk_directory)\n",
    "order_file_list"
   ]
  },
  {
   "cell_type": "code",
   "execution_count": 52,
   "id": "25fedacd-15dd-410f-87d3-e0d703e7fe1c",
   "metadata": {
    "tags": []
   },
   "outputs": [
    {
     "data": {
      "text/plain": [
       "'video/hajjan/output/chunk'"
      ]
     },
     "execution_count": 52,
     "metadata": {},
     "output_type": "execute_result"
    }
   ],
   "source": [
    "chunk_directory"
   ]
  },
  {
   "cell_type": "code",
   "execution_count": 56,
   "id": "806d6137-078e-4bd6-aaed-853b452cce08",
   "metadata": {
    "tags": []
   },
   "outputs": [
    {
     "name": "stdout",
     "output_type": "stream",
     "text": [
      "temp_fullpath_outputfile: video/hajjan/Hajjan_KSA_trailer.mp4\n",
      "fullpath_outputdir:video/hajjan/output/chunk\n",
      "video/hajjan/output/chunk/Hajjan_KSA_trailer.mp4\n",
      "Successfully merged files into: video/hajjan/output/chunk/Hajjan_KSA_trailer.mp4.mkv\n"
     ]
    }
   ],
   "source": [
    "import subprocess\n",
    "import os\n",
    "\n",
    "def merge_mp4_files(input_files, output_file):\n",
    "  \"\"\"\n",
    "  Merges multiple MP4 files into a single MKV file using mkvmerge.\n",
    "\n",
    "  Args:\n",
    "    input_files: A list of paths to the MP4 files to merge, in the desired order.\n",
    "    output_file: The path to save the output MKV file.\n",
    "  \"\"\"\n",
    "\n",
    "  if not input_files:\n",
    "      raise ValueError(\"Input file list cannot be empty.\")\n",
    "\n",
    "  if not all(os.path.exists(file) for file in input_files):\n",
    "      raise FileNotFoundError(\"One or more input files do not exist.\")\n",
    "\n",
    "  if not output_file.endswith(\".mkv\"):\n",
    "      output_file += \".mkv\"\n",
    "\n",
    "  # Build the mkvmerge command\n",
    "  command = [\"mkvmerge\", \"-o\", output_file]\n",
    "\n",
    "  # Add the first input file\n",
    "  command.append(input_files[0])\n",
    "\n",
    "  # Add the rest of the input files with +\n",
    "  for file in input_files[1:]:\n",
    "      command.append(\"+\")\n",
    "      command.append(file)\n",
    "  \n",
    "  try:\n",
    "      # Run mkvmerge\n",
    "      subprocess.run(command, check=True, capture_output=True, text=True)\n",
    "      print(f\"Successfully merged files into: {output_file}\")\n",
    "  \n",
    "  except subprocess.CalledProcessError as e:\n",
    "      print(f\"Error during merging:\")\n",
    "      print(f\"  Return code: {e.returncode}\")\n",
    "      print(f\"  Stdout: {e.stdout}\")\n",
    "      print(f\"  Stderr: {e.stderr}\")\n",
    "      raise\n",
    "\n",
    "# Example Usage:\n",
    "\n",
    "# input_file = \"video/hajjan/Hajjan_KSA.mp4\"\n",
    "\n",
    "base_name, ext = os.path.splitext(input_file)\n",
    "temp_fullpath_outputfile = base_name + \"_trailer\" + ext\n",
    "print(f\"temp_fullpath_outputfile: {temp_fullpath_outputfile}\")\n",
    "# merge_mp4_files(order_file_list, \n",
    "fullpath_outputdir = chunk_directory\n",
    "print(f\"fullpath_outputdir:{fullpath_outputdir}\")\n",
    "# output_file = \"merged_video.mkv\"\n",
    "fullpath_outputfile = fullpath_outputdir+\"/\"+os.path.basename(temp_fullpath_outputfile)\n",
    "print(fullpath_outputfile)\n",
    "merge_mp4_files(order_file_list, fullpath_outputfile)"
   ]
  },
  {
   "cell_type": "code",
   "execution_count": null,
   "id": "8ccd4166-62c7-4a2a-8ad9-7bf972b129fc",
   "metadata": {},
   "outputs": [],
   "source": []
  },
  {
   "cell_type": "code",
   "execution_count": null,
   "id": "b742aeed-35a9-4971-99e6-7b301f68e827",
   "metadata": {},
   "outputs": [],
   "source": []
  }
 ],
 "metadata": {
  "environment": {
   "kernel": "conda-base-py",
   "name": "workbench-notebooks.m127",
   "type": "gcloud",
   "uri": "us-docker.pkg.dev/deeplearning-platform-release/gcr.io/workbench-notebooks:m127"
  },
  "kernelspec": {
   "display_name": "Python 3 (ipykernel)",
   "language": "python",
   "name": "conda-base-py"
  },
  "language_info": {
   "codemirror_mode": {
    "name": "ipython",
    "version": 3
   },
   "file_extension": ".py",
   "mimetype": "text/x-python",
   "name": "python",
   "nbconvert_exporter": "python",
   "pygments_lexer": "ipython3",
   "version": "3.10.16"
  }
 },
 "nbformat": 4,
 "nbformat_minor": 5
}
