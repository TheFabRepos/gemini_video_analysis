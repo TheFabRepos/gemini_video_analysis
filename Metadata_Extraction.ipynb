{
 "cells": [
  {
   "cell_type": "code",
   "execution_count": 8,
   "id": "c7248525-1978-4e20-9927-f3a863929fc2",
   "metadata": {},
   "outputs": [],
   "source": [
    "# !pip install --upgrade google-genai\n",
    "# !pip install asyncio\n",
    "# gcloud auth application-default login"
   ]
  },
  {
   "cell_type": "code",
   "execution_count": 9,
   "id": "e5080978-0bb5-4a94-89e7-7a6f53ef9e73",
   "metadata": {
    "tags": []
   },
   "outputs": [],
   "source": [
    "# Example usage:\n",
    "bucket_name = \"fab_public_bucket\"\n",
    "folder_path = \"video/thanawyat_al_nasim\""
   ]
  },
  {
   "cell_type": "code",
   "execution_count": 10,
   "id": "f10ceaf9-939e-4cef-b48c-7c0a660f8a17",
   "metadata": {
    "tags": []
   },
   "outputs": [],
   "source": [
    "import random\n",
    "\n",
    "\n",
    "def get_random_region():\n",
    "    \"\"\"Returns a random region from the provided list of regions.\n",
    "    Args:\n",
    "        regions_list: A list of strings, where each string is a region name.\n",
    "    Returns:\n",
    "        A randomly selected region string from the list.\n",
    "    \"\"\"\n",
    "    \n",
    "    regions_string = \"europe-west4, europe-west9, europe-west2, europe-west3, europe-west1, europe-west6, europe-southwest1, europe-west8, europe-north1, europe-central2, us-east5, us-south1, us-central1, us-west4, us-east1, us-east4, us-west1\"\n",
    "    regions_list = [region.strip() for region in regions_string.split(',')]\n",
    "\n",
    "    return random.choice(regions_list)"
   ]
  },
  {
   "cell_type": "code",
   "execution_count": 11,
   "id": "d2c92bb5-e590-4a13-a44f-bd1d2e1b44a7",
   "metadata": {
    "tags": []
   },
   "outputs": [
    {
     "name": "stdout",
     "output_type": "stream",
     "text": [
      "['gs://fab_public_bucket/video/thanawyat_al_nasim/Thanawyat_Al_Nasim_1_KSA-001.mp4', 'gs://fab_public_bucket/video/thanawyat_al_nasim/Thanawyat_Al_Nasim_1_KSA-002.mp4', 'gs://fab_public_bucket/video/thanawyat_al_nasim/Thanawyat_Al_Nasim_1_KSA-003.mp4', 'gs://fab_public_bucket/video/thanawyat_al_nasim/Thanawyat_Al_Nasim_1_KSA-004.mp4', 'gs://fab_public_bucket/video/thanawyat_al_nasim/Thanawyat_Al_Nasim_1_KSA-005.mp4', 'gs://fab_public_bucket/video/thanawyat_al_nasim/Thanawyat_Al_Nasim_1_KSA-006.mp4', 'gs://fab_public_bucket/video/thanawyat_al_nasim/Thanawyat_Al_Nasim_1_KSA-007.mp4']\n"
     ]
    }
   ],
   "source": [
    "from google.cloud import storage\n",
    "\n",
    "def list_files_in_gcs_folder(bucket_name, folder_path):\n",
    "    \"\"\"\n",
    "    Lists all files (with full path) in a Google Cloud Storage folder.\n",
    "\n",
    "    Args:\n",
    "        bucket_name: The name of the GCS bucket.\n",
    "        folder_path: The path to the folder within the bucket.\n",
    "\n",
    "    Returns:\n",
    "        A list of file paths (with full path) in the folder.\n",
    "    \"\"\"\n",
    "\n",
    "    storage_client = storage.Client()\n",
    "    bucket = storage_client.bucket(bucket_name)\n",
    "    blobs = bucket.list_blobs(prefix=folder_path)\n",
    "\n",
    "    file_list = []\n",
    "    for blob in blobs:\n",
    "        if blob.name.endswith(\".mp4\") and \"00\" in blob.name:\n",
    "            file_list.append(f\"gs://{bucket_name}/{blob.name}\")\n",
    "\n",
    "    return file_list\n",
    "\n",
    "print(list_files_in_gcs_folder(bucket_name, folder_path))"
   ]
  },
  {
   "cell_type": "code",
   "execution_count": 12,
   "id": "d3f59ef4-757b-43f8-b324-5f5f45815685",
   "metadata": {
    "tags": []
   },
   "outputs": [
    {
     "name": "stdout",
     "output_type": "stream",
     "text": [
      "Region chosen: europe-west1\n",
      "Region chosen: europe-west2\n",
      "Region chosen: us-east5\n",
      "Region chosen: europe-west8\n",
      "Region chosen: europe-west6\n"
     ]
    }
   ],
   "source": [
    "# import base64\n",
    "import vertexai\n",
    "from vertexai.generative_models import GenerativeModel, Part, SafetySetting\n",
    "\n",
    "def generate(user_prompt, system_prompt, random_region, video_uri):\n",
    "    vertexai.init(project=\"testfab-362608\", location=random_region)\n",
    "\n",
    "    final_response = ''\n",
    "    model = GenerativeModel(\n",
    "        \"gemini-1.5-pro-002\",\n",
    "        system_instruction=[system_prompt]\n",
    "    )\n",
    "    \n",
    "    video1 = Part.from_uri(\n",
    "    mime_type=\"video/mp4\",\n",
    "    uri=video_uri,)\n",
    "    \n",
    "    generation_config = {\n",
    "        \"max_output_tokens\": 8192,\n",
    "        \"temperature\": 1,\n",
    "        \"top_p\": 0.95,\n",
    "        \"response_mime_type\": \"application/json\"\n",
    "    }\n",
    "    safety_settings = [\n",
    "    SafetySetting(\n",
    "        category=SafetySetting.HarmCategory.HARM_CATEGORY_HATE_SPEECH,\n",
    "        threshold=SafetySetting.HarmBlockThreshold.OFF\n",
    "        ),\n",
    "        SafetySetting(\n",
    "            category=SafetySetting.HarmCategory.HARM_CATEGORY_DANGEROUS_CONTENT,\n",
    "            threshold=SafetySetting.HarmBlockThreshold.OFF\n",
    "        ),\n",
    "        SafetySetting(\n",
    "            category=SafetySetting.HarmCategory.HARM_CATEGORY_SEXUALLY_EXPLICIT,\n",
    "            threshold=SafetySetting.HarmBlockThreshold.OFF\n",
    "        ),\n",
    "        SafetySetting(\n",
    "            category=SafetySetting.HarmCategory.HARM_CATEGORY_HARASSMENT,\n",
    "            threshold=SafetySetting.HarmBlockThreshold.OFF\n",
    "        ),\n",
    "    ]\n",
    "    \n",
    "    response = model.generate_content(\n",
    "        [video1, user_prompt],\n",
    "        generation_config=generation_config,\n",
    "        safety_settings=safety_settings,\n",
    "        stream=False,\n",
    "    )\n",
    "\n",
    "    return response.text\n",
    "\n",
    "user_prompt = \"\"\"<INSTRUCTIONS> \n",
    "                    Provide: Genre, Categorie and Description (as detailed as possible) for the video. Srictly adhere to the following JSON format and just output data based on teh schema:\n",
    "                            {'Genre': '(options: Action, Adventure, Comedy, Drama, Fantasy, Horror, Musicals, Mystery, Romance, Science Fiction, Sports, Thriller, Western)',\n",
    "                             'Categories': '(options: movie, serie, live sport)','\n",
    "                             'Keywords': '(Identify relevant keywords that are present in the video or closely related to its content. Integrate these keywords naturally within the description if possible.)\n",
    "                             'Actors_name': '(Identify name of the main actors from the title sequence opeing credits)'\n",
    "                             'Director_name': '(Identify name of the director from the title sequence opeing credits)'\n",
    "                             'Current_Language': '(Identify the current - spoken - language of the content)',\n",
    "                             'Original_Language': '(Identify the original language of the content)',                             \n",
    "                             'Transcription_availability': '(Language of Subtitles availability if any.)',                             \n",
    "                             'Description': '(Very detail description of media content)'\n",
    "                             }\n",
    "                </INSTRUCTIONS> \n",
    "\n",
    "                <OUTPUT Format> \n",
    "                JSON\n",
    "                [\n",
    "                {\n",
    "                'Genre': '',\n",
    "                'Categories': '',\n",
    "                'Keywords': '',\n",
    "                'Actors_name': ''\n",
    "                'Director_name': ''\n",
    "                'Current_Language': '',\n",
    "                'Original_Language': '',                             \n",
    "                'Transcription_availability': '',                             \n",
    "                'Description':''\n",
    "                }\n",
    "                ]\n",
    "                </OUTPUT Format>\"\"\"\n",
    "\n",
    "# system_prompt = \"\"\"You are an SEO expert, skilled in optimizing text for search engines. You excel at understanding video content and aligning text with it for maximum searchability.\"\"\"\n",
    "system_prompt = \"\"\"You are  a movie and serie buff passionate and knowledgeable about mvoies and series. You exactly know what is needed to find specific content.\"\"\"\n",
    "# system_prompt = \"\"\"You are an SEO expert, skilled in optimizing text for search engines. You excel at understanding video content and aligning text with it for maximum searchability.\"\"\"\n",
    "\n",
    "\n",
    "files = list_files_in_gcs_folder(bucket_name, folder_path)\n",
    "final_res = {}\n",
    "\n",
    "for file in files:\n",
    "    region = get_random_region()\n",
    "    filename = file.split(\"/\")[-1]\n",
    "    print(f\"Region chosen: {region}\")\n",
    "    res=generate(user_prompt, system_prompt, region,file)\n",
    "    final_res[filename] = res"
   ]
  },
  {
   "cell_type": "code",
   "execution_count": 13,
   "id": "f43ec620-5178-4875-aed4-074346003c62",
   "metadata": {
    "tags": []
   },
   "outputs": [
    {
     "data": {
      "text/plain": [
       "{'Thanawyat_Al_Nasim_1_KSA-001.mp4': '{\"Genre\": \"Drama\", \"Categories\": \"serie\", \"Keywords\": \"Saudi Arabia, family, drama, social issues\", \"Actors_name\": [\"Ali\", \"Amir\", \"Khalid\", \"Saad\",\"Haya\",\"Layla\"], \"Director_name\": \"Tarig\", \"Current_Language\": \"Arabic\", \"Original_Language\": \"Arabic\", \"Transcription_availability\": [\"Arabic\", \"English\", \"French\"], \"Description\": \"This dramatic series, set in Saudi Arabia, delves into the complexities of family life and tackles pertinent social issues. The opening sequence introduces us to several key characters. We see a man waking up in his bedroom, followed by a young woman praying in her room, and another woman getting ready for the day. The scenes shift to a man buying bread from a bakery and engaging in a conversation with another man on the street. Later, two men are shown sitting on traditional floor cushions, eating and talking. The dialogue hints at financial difficulties and mentions a debt of 300 riyals. The overall tone suggests a narrative that explores relationships, daily struggles, and the challenges faced by individuals within a specific cultural context.\"}',\n",
       " 'Thanawyat_Al_Nasim_1_KSA-002.mp4': '{\"Genre\": \"Drama\", \"Categories\": \"serie\", \"Keywords\": \"family, relationships, conflicts, school, work, money, marriage, social issues\", \"Actors_name\": null, \"Director_name\": null, \"Current_Language\": \"Arabic\", \"Original_Language\": \"Arabic\", \"Transcription_availability\": null, \"Description\": \"This dramatic series portrays the daily life of a family in Saudi Arabia, exploring the complexities of their relationships, social dynamics, and financial struggles. The clip shows interactions between different members of the family, revealing the difficulties they face. A young man requests money from his father, a scene that highlights the existing tension and disagreements between them regarding financial matters and personal conduct. The mother\\'s distress over their financial situation, after having been married at a young age and enduring years of hardship from the father adds another layer to the family\\'s drama. Another character, the young man\\'s sister, discusses her desire to marry, which is met with criticism. The clip ends with the brother taking his sister to school while drifting, creating a dangerous situation that adds suspense to the story and raises questions about their future.\"}',\n",
       " 'Thanawyat_Al_Nasim_1_KSA-003.mp4': '{\"Genre\": \"Comedy\", \"Categories\": \"serie\", \"Keywords\": \"School, Teacher, Students, Education, Saudi Arabia, comedy, school life, culture, pranks, students, teachers, misbehavior, disruptive students, classroom antics\", \"Actors_name\": \"null\", \"Director_name\": \"null\", \"Current_Language\": \"Arabic\", \"Original_Language\": \"Arabic\", \"Transcription_availability\": \"Arabic\", \"Description\": \"This comedic series, set in Saudi Arabia, follows the experiences of a new teacher, Abdullah, as he navigates the chaotic world of a high school. Fresh from completing his master\\'s degree in Educational Reform in the UK, Abdullah is eager to make a difference. However, he quickly discovers that his students, including the notorious troublemaker Mishal and his gang, are more interested in pranks and disrupting class than learning. The series portrays the clash of cultures between Abdullah\\'s modern, Western-influenced approach to teaching and the students\\' traditional, sometimes rebellious attitudes. With humorous situations and relatable characters, the series offers a glimpse into the dynamics of Saudi Arabian school life, highlighting the challenges and rewards of educating a generation on the cusp of change.\"}',\n",
       " 'Thanawyat_Al_Nasim_1_KSA-004.mp4': '{\"Genre\": \"Comedy\",\\n\"Categories\": \"serie\",\\n\"Keywords\": \"School, Classroom, Teacher, Students, Education, Culture, Saudi Arabia, Jokes, Social commentary\",\\n\"Actors_name\": \"null\",\\n\"Director_name\": \"null\",\\n\"Current_Language\": \"Arabic\",\\n\"Original_Language\": \"Arabic\",\\n\"Transcription_availability\": \"null\",\\n\"Description\": \"This comedic series portrays scenes from a Saudi Arabian high school classroom, focusing on interactions between a new literature teacher, Mr. Abdullah, and his students. The humor comes from cultural references, student antics, and the teacher\\'s attempts to connect with his class while maintaining authority and respect. In this episode, Mr. Abdullah starts his first class by suggesting a friendly outing as a way to bond with the students outside the academic setting. However, things take a comical turn during the introductory session when students engage in lighthearted banter, teasing, and probing the teacher with personal questions.  The teacher uses the classroom setting to introduce himself and to establish a friendly environment with his students. The students, on the other hand, make jokes among themselves while challenging their new teacher, creating a humorous atmosphere that underscores various cultural nuances and the dynamics of teacher-student relationships in Saudi society.\"\\n}',\n",
       " 'Thanawyat_Al_Nasim_1_KSA-005.mp4': '{\"Genre\": \"Drama\", \"Categories\": \"serie\", \"Keywords\": \"School, education, family, high school, student, teacher, principal, football, social issues, Saudi Arabia, culture, conflict, relationships\", \"Actors_name\": \"Unknown\", \"Director_name\": \"Unknown\", \"Current_Language\": \"Arabic\", \"Original_Language\": \"Arabic\", \"Transcription_availability\": \"no\", \"Description\": \"The series revolves around the lives of students, teachers, and families within a Saudi Arabian high school setting. It likely explores various social issues, cultural nuances, and interpersonal conflicts, highlighting the challenges and complexities of education and family relationships in this context. The clip portrays interactions between teachers and students, as well as dynamics among students, suggesting themes of authority, discipline, and peer pressure. It also touches on aspects of daily life and personal struggles, adding depth to the characters and their stories. The presence of female students indicates an inclusive portrayal of the school environment. The ending sequence hints at underlying family dynamics, suggesting further layers of complexity in the series\\' narrative.\"}',\n",
       " 'Thanawyat_Al_Nasim_1_KSA-006.mp4': '{\"Genre\": \"Drama\", \"Categories\": \"serie\", \"Keywords\": \"family, marriage, school, fighting, love, work, relationships, family drama\", \"Actors_name\": null, \"Director_name\": null, \"Current_Language\": \"Arabic\", \"Original_Language\": \"Arabic\", \"Transcription_availability\": null, \"Description\": \"The series portrays the complexities of family relationships, societal expectations, and personal choices within a traditional setting.  A young man, Mishal, faces challenges at school and struggles to meet his family\\'s expectations regarding his education and career.  His sister, who uses a wheelchair, offers him support and understanding.  Mishal seeks his mother\\'s intervention to speak to his aunt about marrying his cousin, Haya. Meanwhile, another family discusses their son, Abdallah, and his career prospects, urging him to join the family business despite his passion for teaching. The conversation shifts to Abdallah\\'s marriage prospects, with his mother suggesting his cousin, Malfi.  Two families express their desire to unite their children through marriage, setting the stage for potential conflict and emotional tension. The clip ends with two of Mishal’s friends coming to his house at night, carrying weapons, setting up a conflict situation. \"}',\n",
       " 'Thanawyat_Al_Nasim_1_KSA-007.mp4': '{\"Genre\": \"Thriller\", \"Categories\": \"serie\", \"Keywords\": \"Saudi Arabia, crime, investigation, police\", \"Actors_name\": null, \"Director_name\": null, \"Current_Language\": \"Arabic\", \"Original_Language\": \"Arabic\", \"Transcription_availability\": null, \"Description\": \"The opening sequence of a Saudi Arabian crime series sets a thrilling tone.  A group of men, dressed in traditional white thobes and red-and-white shemaghs, walk with an air of determination. Close-ups highlight their faces, conveying a sense of purpose and perhaps a hint of menace. One man smokes a cigarette, adding to the suspense. The scene transitions to them entering a building, maintaining the aura of purpose.  Arabic text appears on screen, identifying the title as \\\\\"Patrol of the Seven.\\\\\" Additional credits highlight various production companies and sponsors involved, suggesting a high-quality, well-supported production. This opening suggests the series will delve into the criminal underworld of Saudi Arabia, showcasing the work of an investigative team or police force.\"}'}"
      ]
     },
     "execution_count": 13,
     "metadata": {},
     "output_type": "execute_result"
    }
   ],
   "source": [
    "final_res"
   ]
  },
  {
   "cell_type": "code",
   "execution_count": 14,
   "id": "5263c6cc-4add-4413-be8f-04a36749188f",
   "metadata": {
    "tags": []
   },
   "outputs": [
    {
     "name": "stdout",
     "output_type": "stream",
     "text": [
      "Region chosen: us-west1\n",
      "{\"Genre\": \"Drama, Comedy, Thriller\", \"Categories\": \"serie\", \"Current_Language\": \"Arabic\", \"Original_Language\": \"Arabic\", \"Keywords\": \"Saudi Arabia, family, drama, social issues, relationships, conflicts, school, work, money, marriage\", \"Actors_name\": \"Ali, Amir, Khalid, Saad, Haya, Layla, Unknown, null\", \"Director_name\": \"Tarig, Unknown, null\", \"Transcription_availability\": \"Arabic, English, French, no\", \"Description\": \"Saudi Arabian series exploring family life, social issues, school life, and cultural nuances through comedic and dramatic storylines. \"}\n"
     ]
    }
   ],
   "source": [
    "project_id = 'testfab-362608'\n",
    "\n",
    "from vertexai.generative_models import GenerationConfig, GenerativeModel\n",
    "\n",
    "region = get_random_region()\n",
    "print(f\"Region chosen: {region}\")\n",
    "\n",
    "vertexai.init(project=project_id, location=region)\n",
    "\n",
    "response_schema = {\n",
    "        \"type\": \"OBJECT\",\n",
    "        \"properties\": {\n",
    "            \"Genre\": {\"type\": \"STRING\"},\n",
    "            \"Categories\": {\"type\": \"STRING\"},\n",
    "            \"Current_Language\": {\"type\": \"STRING\"},            \n",
    "            \"Original_Language\": {\"type\": \"STRING\"},            \n",
    "            \"Keywords\": {\"type\": \"STRING\"},            \n",
    "            \"Actors_name\": {\"type\": \"STRING\"},\n",
    "            \"Director_name\": {\"type\": \"STRING\"},\n",
    "            \"Transcription_availability\": {\"type\": \"STRING\"},                             \n",
    "            \"Description\": {\"type\": \"STRING\"},\n",
    "    },\n",
    "    \"required\": [\n",
    "            \"Genre\",\n",
    "            \"Categories\",\n",
    "            \"Current_Language\",            \n",
    "            \"Original_Language\",            \n",
    "            \"Keywords\",            \n",
    "            \"Actors_name\",\n",
    "            \"Director_name\",\n",
    "            \"Transcription_availability\",                             \n",
    "            \"Description\"\n",
    "  ]\n",
    "}\n",
    "\n",
    "\n",
    "    # Concatenate Current_Language if they are different. \n",
    "    # Concatenate Original_Language if they are different. \n",
    "\n",
    "\n",
    "prompt = f\"\"\"\n",
    "    Concatenate Genre if they are different. \n",
    "    Concatenate Categories if they are different. \n",
    "    Concatenate Keywords if they are different (limits to 10 keywords maximum).\n",
    "    Concatenate Actors_name if they are different.\n",
    "    Concatenate Director_name if they are different.\n",
    "    Concatenate Transcription_availability if they are different.\n",
    "    Summarize the Description for all the files in 20 words maximum. \n",
    "    {str(final_res)}\n",
    "\"\"\"\n",
    "\n",
    "model = GenerativeModel(\"gemini-1.5-flash-002\")\n",
    "\n",
    "response = model.generate_content(\n",
    "    prompt,\n",
    "    generation_config=GenerationConfig(\n",
    "        response_mime_type=\"application/json\", response_schema=response_schema\n",
    "    ),\n",
    ")\n",
    "\n",
    "print(response.text)"
   ]
  }
 ],
 "metadata": {
  "environment": {
   "kernel": "conda-base-py",
   "name": "workbench-notebooks.m127",
   "type": "gcloud",
   "uri": "us-docker.pkg.dev/deeplearning-platform-release/gcr.io/workbench-notebooks:m127"
  },
  "kernelspec": {
   "display_name": "Python 3 (ipykernel)",
   "language": "python",
   "name": "conda-base-py"
  },
  "language_info": {
   "codemirror_mode": {
    "name": "ipython",
    "version": 3
   },
   "file_extension": ".py",
   "mimetype": "text/x-python",
   "name": "python",
   "nbconvert_exporter": "python",
   "pygments_lexer": "ipython3",
   "version": "3.10.16"
  }
 },
 "nbformat": 4,
 "nbformat_minor": 5
}
