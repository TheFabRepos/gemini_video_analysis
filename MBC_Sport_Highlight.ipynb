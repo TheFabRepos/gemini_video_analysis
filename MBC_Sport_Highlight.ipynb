{
 "cells": [
  {
   "cell_type": "code",
   "execution_count": 13,
   "id": "67cedb41-532f-4fe7-888d-3d48f53a30a1",
   "metadata": {
    "tags": []
   },
   "outputs": [],
   "source": [
    "# !pip install moviepy"
   ]
  },
  {
   "cell_type": "code",
   "execution_count": null,
   "id": "d3742e55-31b3-430a-a47f-7a1a0b86235c",
   "metadata": {},
   "outputs": [],
   "source": []
  },
  {
   "cell_type": "code",
   "execution_count": null,
   "id": "cc9dd644-b666-42aa-8e21-19d9aefec8a1",
   "metadata": {},
   "outputs": [],
   "source": []
  },
  {
   "cell_type": "code",
   "execution_count": null,
   "id": "161fb364-a32e-40c7-9076-ae00888b214b",
   "metadata": {},
   "outputs": [],
   "source": []
  },
  {
   "cell_type": "code",
   "execution_count": null,
   "id": "e03cd1b8-ecb7-484e-b3ae-a14a4425ccf4",
   "metadata": {},
   "outputs": [],
   "source": []
  },
  {
   "cell_type": "code",
   "execution_count": null,
   "id": "7f906aba-bfe1-4084-b843-0b585a042497",
   "metadata": {},
   "outputs": [],
   "source": []
  },
  {
   "cell_type": "code",
   "execution_count": 14,
   "id": "79d9e7b8-7aa0-4c81-adaa-3b2ecc357227",
   "metadata": {},
   "outputs": [],
   "source": [
    "import os\n",
    "input_file = \"video/rsl/RSL1_GCC.mp4\"\n",
    "\n",
    "video_directory = os.path.join(os.path.dirname(input_file), \"output\") #Local output directory for split files\n",
    "gcs_bucket_name = \"fab_public_bucket\"  # GCS Bucket to use for temp folder\n",
    "gcs_temp_working_dir = \"video/temp_sport\"  # Path to temp folder in gcs bucket\n",
    "split_size = \"500M\""
   ]
  },
  {
   "cell_type": "code",
   "execution_count": 15,
   "id": "d48df7d8-3d7c-4c3f-b788-3a1418208b00",
   "metadata": {},
   "outputs": [
    {
     "name": "stdout",
     "output_type": "stream",
     "text": [
      "mkvmerge v52.0.0 ('Secret For The Mad') 64-bit\n",
      "'video/rsl/RSL1_GCC.mp4': Using the demultiplexer for the format 'QuickTime/MP4'.\n",
      "'video/rsl/RSL1_GCC.mp4' track 0: Using the output module for the format 'AVC/H.264'.\n",
      "'video/rsl/RSL1_GCC.mp4' track 1: Using the output module for the format 'AAC'.\n",
      "The file 'video/rsl/output/RSL1_GCC-001.mp4' has been opened for writing.\n",
      "'video/rsl/RSL1_GCC.mp4' track 0: Extracted the aspect ratio information from the MPEG-4 layer 10 (AVC) video data and set the display dimensions to 1920/1080.\n",
      "Progress: 8%\n",
      "The cue entries (the index) are being written...\n",
      "The file 'video/rsl/output/RSL1_GCC-002.mp4' has been opened for writing.\n",
      "Progress: 16%\n",
      "The cue entries (the index) are being written...\n",
      "The file 'video/rsl/output/RSL1_GCC-003.mp4' has been opened for writing.\n",
      "Progress: 24%\n",
      "The cue entries (the index) are being written...\n",
      "The file 'video/rsl/output/RSL1_GCC-004.mp4' has been opened for writing.\n",
      "Progress: 32%\n",
      "The cue entries (the index) are being written...\n",
      "The file 'video/rsl/output/RSL1_GCC-005.mp4' has been opened for writing.\n",
      "Progress: 40%\n",
      "The cue entries (the index) are being written...\n",
      "The file 'video/rsl/output/RSL1_GCC-006.mp4' has been opened for writing.\n",
      "Progress: 49%\n",
      "The cue entries (the index) are being written...\n",
      "The file 'video/rsl/output/RSL1_GCC-007.mp4' has been opened for writing.\n",
      "Progress: 57%\n",
      "The cue entries (the index) are being written...\n",
      "The file 'video/rsl/output/RSL1_GCC-008.mp4' has been opened for writing.\n",
      "Progress: 65%\n",
      "The cue entries (the index) are being written...\n",
      "The file 'video/rsl/output/RSL1_GCC-009.mp4' has been opened for writing.\n",
      "Progress: 73%\n",
      "The cue entries (the index) are being written...\n",
      "The file 'video/rsl/output/RSL1_GCC-010.mp4' has been opened for writing.\n",
      "Progress: 81%\n",
      "The cue entries (the index) are being written...\n",
      "The file 'video/rsl/output/RSL1_GCC-011.mp4' has been opened for writing.\n",
      "Progress: 90%\n",
      "The cue entries (the index) are being written...\n",
      "The file 'video/rsl/output/RSL1_GCC-012.mp4' has been opened for writing.\n",
      "Progress: 98%\n",
      "The cue entries (the index) are being written...\n",
      "The file 'video/rsl/output/RSL1_GCC-013.mp4' has been opened for writing.\n",
      "Progress: 100%\n",
      "The cue entries (the index) are being written...\n",
      "Multiplexing took 1 minute 44 seconds.\n",
      "Successfully split video/rsl/RSL1_GCC.mp4 into 500M chunks.\n"
     ]
    }
   ],
   "source": [
    "import subprocess\n",
    "\n",
    "def split_mkv(input_file, output_file, split_size):\n",
    "  \"\"\"Splits an MKV file into smaller chunks using mkvmerge.\n",
    "\n",
    "  Args:\n",
    "    input_file: Path to the input MKV file.\n",
    "    output_file: Base name for the output files.\n",
    "    split_size: Size of each output file in bytes (b), kilobytes (k), \n",
    "                megabytes (m), or gigabytes (g).\n",
    "  \"\"\"\n",
    "\n",
    "  try:\n",
    "    cmd = [\n",
    "        \"mkvmerge\",\n",
    "        \"--split\", f\"size:{split_size}\",\n",
    "        \"-o\", f\"{output_file}.mp4\",\n",
    "        input_file\n",
    "    ]\n",
    "    subprocess.run(cmd, check=True)\n",
    "    print(f\"Successfully split {input_file} into {split_size} chunks.\")\n",
    "  except subprocess.CalledProcessError as e:\n",
    "    print(f\"Error splitting the file: {e}\")\n",
    "\n",
    "# Example usage:\n",
    "\n",
    "parts = input_file.split('/')\n",
    "output_file = '/'.join(parts[:-1]) + \"/output/\" + parts[-1].split('.')[0]  # String manipulation\n",
    "\n",
    "\n",
    "split_mkv(input_file, output_file, split_size)"
   ]
  },
  {
   "cell_type": "code",
   "execution_count": 16,
   "id": "767ee1d7-0582-4906-abc5-03edd5dbc1b0",
   "metadata": {},
   "outputs": [
    {
     "name": "stdout",
     "output_type": "stream",
     "text": [
      "File video/rsl/output/RSL1_GCC-002.mp4 uploaded to gs://fab_public_bucket/video/temp_sport/RSL1_GCC-002.mp4\n",
      "File video/rsl/output/RSL1_GCC-011.mp4 uploaded to gs://fab_public_bucket/video/temp_sport/RSL1_GCC-011.mp4\n",
      "File video/rsl/output/RSL1_GCC-006.mp4 uploaded to gs://fab_public_bucket/video/temp_sport/RSL1_GCC-006.mp4\n",
      "File video/rsl/output/RSL1_GCC-009.mp4 uploaded to gs://fab_public_bucket/video/temp_sport/RSL1_GCC-009.mp4\n",
      "File video/rsl/output/RSL1_GCC-008.mp4 uploaded to gs://fab_public_bucket/video/temp_sport/RSL1_GCC-008.mp4\n",
      "File video/rsl/output/RSL1_GCC-004.mp4 uploaded to gs://fab_public_bucket/video/temp_sport/RSL1_GCC-004.mp4\n",
      "File video/rsl/output/RSL1_GCC-001.mp4 uploaded to gs://fab_public_bucket/video/temp_sport/RSL1_GCC-001.mp4\n",
      "File video/rsl/output/RSL1_GCC-013.mp4 uploaded to gs://fab_public_bucket/video/temp_sport/RSL1_GCC-013.mp4\n",
      "File video/rsl/output/RSL1_GCC-010.mp4 uploaded to gs://fab_public_bucket/video/temp_sport/RSL1_GCC-010.mp4\n",
      "File video/rsl/output/RSL1_GCC-012.mp4 uploaded to gs://fab_public_bucket/video/temp_sport/RSL1_GCC-012.mp4\n"
     ]
    }
   ],
   "source": [
    "from google.cloud import storage\n",
    "import os\n",
    "\n",
    "def copy_local_folder_to_gcs(local_folder, bucket_name, gcs_folder):\n",
    "    \"\"\"Copies all files from a local folder to a GCS bucket folder.\n",
    "\n",
    "    Args:\n",
    "        local_folder: The path to the local folder.\n",
    "        bucket_name: The name of the GCS bucket.\n",
    "        gcs_folder: The name of the folder within the GCS bucket (can be empty).\n",
    "    \"\"\"\n",
    "\n",
    "    # Initialize the GCS client\n",
    "    storage_client = storage.Client()\n",
    "\n",
    "    # Get the bucket\n",
    "    bucket = storage_client.bucket(bucket_name)\n",
    "\n",
    "    blobs = bucket.list_blobs(prefix=gcs_folder)\n",
    "    for blob in blobs:\n",
    "        blob.delete()\n",
    "        \n",
    "    # Iterate through all files in the local folder\n",
    "    for local_file in os.listdir(local_folder):\n",
    "        local_file_path = os.path.join(local_folder, local_file)\n",
    "\n",
    "        # Ensure it's a file, not a subdirectory\n",
    "        if os.path.isfile(local_file_path):\n",
    "            # Construct the GCS object path\n",
    "            gcs_blob_name = os.path.join(gcs_folder, local_file) if gcs_folder else local_file\n",
    "\n",
    "            # Create a blob object\n",
    "            blob = bucket.blob(gcs_blob_name)\n",
    "\n",
    "            # Upload the file\n",
    "            try:\n",
    "                blob.upload_from_filename(local_file_path)\n",
    "                print(f\"File {local_file_path} uploaded to gs://{bucket_name}/{gcs_blob_name}\")\n",
    "            except Exception as e:\n",
    "                print(f\"Error uploading {local_file_path}: {e}\")\n",
    "\n",
    "copy_local_folder_to_gcs(video_directory, gcs_bucket_name, gcs_temp_working_dir)"
   ]
  },
  {
   "cell_type": "code",
   "execution_count": 17,
   "id": "e299ec91-92cb-4ff4-8b5d-6739764a3571",
   "metadata": {
    "tags": []
   },
   "outputs": [
    {
     "name": "stdout",
     "output_type": "stream",
     "text": [
      "['video/rsl/output/RSL1_GCC-002.mp4', 'video/rsl/output/RSL1_GCC-011.mp4', 'video/rsl/output/RSL1_GCC-006.mp4', 'video/rsl/output/RSL1_GCC-003.mp4', 'video/rsl/output/RSL1_GCC-005.mp4', 'video/rsl/output/RSL1_GCC-007.mp4', 'video/rsl/output/RSL1_GCC-009.mp4', 'video/rsl/output/RSL1_GCC-008.mp4', 'video/rsl/output/RSL1_GCC-004.mp4', 'video/rsl/output/RSL1_GCC-001.mp4', 'video/rsl/output/RSL1_GCC-013.mp4', 'video/rsl/output/RSL1_GCC-010.mp4', 'video/rsl/output/RSL1_GCC-012.mp4']\n"
     ]
    }
   ],
   "source": [
    "import os\n",
    "\n",
    "def list_files_in_directory(directory):\n",
    "  \"\"\"Lists all files in a directory and returns them as a list.\n",
    "\n",
    "  Args:\n",
    "    directory: The path to the directory.\n",
    "\n",
    "  Returns:\n",
    "    A list of strings, where each string is the full path to a file \n",
    "    in the directory. Returns an empty list if the directory is empty \n",
    "    or if the directory does not exist.\n",
    "  \"\"\"\n",
    "  try:\n",
    "    file_list = []\n",
    "    for filename in os.listdir(directory):\n",
    "      full_path = os.path.join(directory, filename)\n",
    "      if os.path.isfile(full_path):  # Only add files, not subdirectories\n",
    "        file_list.append(full_path)\n",
    "    return file_list\n",
    "  except FileNotFoundError:\n",
    "    print(f\"Directory '{directory}' not found.\")\n",
    "    return []\n",
    "print(list_files_in_directory(video_directory))"
   ]
  },
  {
   "cell_type": "code",
   "execution_count": 18,
   "id": "3e4d16e4-7f57-45e3-aece-c6bc32790e6f",
   "metadata": {
    "tags": []
   },
   "outputs": [],
   "source": [
    "import random\n",
    "\n",
    "\n",
    "def get_random_region():\n",
    "    \"\"\"Returns a random region from the provided list of regions.\n",
    "    Args:\n",
    "        regions_list: A list of strings, where each string is a region name.\n",
    "    Returns:\n",
    "        A randomly selected region string from the list.\n",
    "    \"\"\"\n",
    "    \n",
    "    regions_string = \"europe-west4, europe-west9, europe-west2, europe-west3, europe-west1, europe-west6, europe-southwest1, europe-west8, europe-north1, europe-central2, us-east5, us-south1, us-central1, us-west4, us-east1, us-east4, us-west1\"\n",
    "    regions_list = [region.strip() for region in regions_string.split(',')]\n",
    "\n",
    "    return random.choice(regions_list)\n",
    "\n",
    "\n",
    "# Example usage:\n",
    "# random_region = get_random_region(regions_list)\n",
    "# print(f\"Randomly selected region: {random_region}\")"
   ]
  },
  {
   "cell_type": "code",
   "execution_count": 19,
   "id": "33362ef8-d2b8-4f1f-947b-91a2fec8f821",
   "metadata": {
    "tags": []
   },
   "outputs": [
    {
     "name": "stdout",
     "output_type": "stream",
     "text": [
      "Region chosen: europe-central2\n",
      "Region chosen: us-west4\n",
      "Region chosen: europe-west1\n",
      "Region chosen: us-west1\n",
      "Region chosen: us-east4\n",
      "Region chosen: europe-central2\n",
      "Region chosen: us-east1\n",
      "Region chosen: europe-west3\n",
      "Region chosen: europe-central2\n",
      "Region chosen: us-west1\n",
      "Region chosen: europe-west3\n",
      "Region chosen: us-east5\n",
      "Region chosen: europe-west9\n"
     ]
    }
   ],
   "source": [
    "# import base64\n",
    "import vertexai\n",
    "from vertexai.generative_models import GenerativeModel, Part, SafetySetting\n",
    "\n",
    "def generate(user_prompt, system_prompt, random_region, video_uri):\n",
    "    vertexai.init(project=\"testfab-362608\", location=random_region)\n",
    "\n",
    "    final_response = ''\n",
    "    model = GenerativeModel(\n",
    "        \"gemini-1.5-pro-001\",\n",
    "        system_instruction=[system_prompt]\n",
    "    )\n",
    "    \n",
    "    video1 = Part.from_uri(\n",
    "    mime_type=\"video/mp4\",\n",
    "    uri=video_uri,)\n",
    "    \n",
    "    generation_config = {\n",
    "        \"max_output_tokens\": 8192,\n",
    "        \"temperature\": 1,\n",
    "        \"top_p\": 0.95,\n",
    "        \"response_mime_type\": \"application/json\"\n",
    "    }\n",
    "    \n",
    "    safety_settings = [\n",
    "    SafetySetting(\n",
    "        category=SafetySetting.HarmCategory.HARM_CATEGORY_HATE_SPEECH,\n",
    "        threshold=SafetySetting.HarmBlockThreshold.OFF\n",
    "        ),\n",
    "        SafetySetting(\n",
    "            category=SafetySetting.HarmCategory.HARM_CATEGORY_DANGEROUS_CONTENT,\n",
    "            threshold=SafetySetting.HarmBlockThreshold.OFF\n",
    "        ),\n",
    "        SafetySetting(\n",
    "            category=SafetySetting.HarmCategory.HARM_CATEGORY_SEXUALLY_EXPLICIT,\n",
    "            threshold=SafetySetting.HarmBlockThreshold.OFF\n",
    "        ),\n",
    "        SafetySetting(\n",
    "            category=SafetySetting.HarmCategory.HARM_CATEGORY_HARASSMENT,\n",
    "            threshold=SafetySetting.HarmBlockThreshold.OFF\n",
    "        ),\n",
    "    ]\n",
    "    \n",
    "    response = model.generate_content(\n",
    "        [video1, user_prompt],\n",
    "        generation_config=generation_config,\n",
    "        safety_settings=safety_settings,\n",
    "        stream=False,\n",
    "    )\n",
    "\n",
    "    return response.text\n",
    "\n",
    "user_prompt = \"\"\"<INSTRUCTION>\n",
    "Analyze the provided football (soccer) game video and identify the single most impactful and engaging moment. This moment should be characterized by a combination of factors, including but not limited to:\n",
    "\n",
    "High-stakes plays: Identify moments with a significant potential impact on the game's outcome (e.g., goal-scoring opportunities, crucial defensive stops).\n",
    "\n",
    "Exciting action: Look for sequences involving rapid player movements, skillful dribbling, inventive passes, or intense physical battles for possession.\n",
    "\n",
    "Goal scoring events: Highlight any goals scored, analyzing the build-up, the execution of the shot, and the immediate reaction of players and fans. Goal scoring events are from far the most important enven and have to apear in the highlight.\n",
    "\n",
    "Near misses: Identify moments when a goal almost occurred, such as shots hitting the post, spectacular saves by the goalkeeper, or last-second defensive clearances.\n",
    "\n",
    "Controversial incidents: Focus on any controversial plays, big fouls, potential penalties, or referee decisions that significantly impacted the flow or outcome of the game, even if they did not result in a goal.\n",
    "\n",
    "Game-Changing Moments: Consider events that altered the momentum of the game or dramatically shifted the probability of either team winning.\n",
    "\n",
    "From your analysis, provide the exact start and end timestamps (in the format MM:SS) of the most outstanding moment, and briefly (1-2 sentences) explain why you chose that specific moment based on the criteria listed above. Justify the inclusion of the chosen incident.\n",
    "\n",
    "A sequence will be minimum 10 seconds.\n",
    "</INSTRUCTION>\n",
    "\n",
    "\n",
    "<OUTPUT Format> \n",
    "JSON\n",
    "[\n",
    "{\n",
    "start_timestamp: \\\"mm:ss\\\",\n",
    "end_timestamp: \\\"mm:ss\\\",\n",
    "reasoning: \\\"\\\"\n",
    "}\n",
    "]\n",
    "</OUTPUT Format>\"\"\"\n",
    "\n",
    "\n",
    "\n",
    "# user_prompt = \"\"\"<INSTRUCTION>\n",
    "# Analyze the attached football video and identify the precise timestamps of successful goals. For each goal, provide:\n",
    "\n",
    "# Goal Timestamp: The exact moment the ball crosses the goal line, resulting in a score.\n",
    "# Start of Action: The timestamp approximately 8 seconds before the Goal Timestamp. This is the start of the goal scoring sequence.\n",
    "# End of Action: The timestamp approximately 1 second after the Goal Timestamp.\n",
    "# Focus specifically on goals where the ball definitively enters the net and the score is officially updated. Ignore near misses, shots on target that are saved, fouls, and other in-game actions.\n",
    "# It may happen there are no goals, the return \"no goals\" in \"reasoning\".\n",
    "# </INSTRUCTION>\n",
    "\n",
    "\n",
    "# <OUTPUT Format> \n",
    "# JSON\n",
    "# [\n",
    "# {\n",
    "# start_timestamp: \\\"mm:ss\\\",\n",
    "# end_timestamp: \\\"mm:ss\\\",\n",
    "# reasoning: \\\"\\\"\n",
    "# }\n",
    "# ]\n",
    "# </OUTPUT Format>\"\"\"\n",
    "\n",
    "\n",
    "\n",
    "system_prompt = \"\"\"You are a expert in content creation and generation. You never miss any key frames in the video which can be used for youtube shorts video generation. You possess a deep understanding of visual storytelling, pacing, and audience engagement techniques. Your goal is to distill the essence of a video into a concise and captivating highlight reel.\"\"\"\n",
    "\n",
    "\n",
    "files = list_files_in_directory(video_directory)\n",
    "final_res = {}\n",
    "\n",
    "for file in files:\n",
    "    region = get_random_region()\n",
    "    filename = file.split(\"/\")[-1]\n",
    "    video_uri = f\"gs://{gcs_bucket_name}/{gcs_temp_working_dir}/{filename}\"\n",
    "    print(f\"Region chosen: {region}\")\n",
    "    res=generate(user_prompt, system_prompt, region,video_uri)\n",
    "    final_res[filename] = res"
   ]
  },
  {
   "cell_type": "code",
   "execution_count": 20,
   "id": "45011b37-8b12-4e57-9861-6fb0c4c4903b",
   "metadata": {
    "tags": []
   },
   "outputs": [
    {
     "name": "stdout",
     "output_type": "stream",
     "text": [
      "[\n",
      "  {\n",
      "    \"filename\": \"RSL1_GCC-002.mp4\",\n",
      "    \"start_timestamp\": \"00:00\",\n",
      "    \"end_timestamp\": \"00:17\"\n",
      "  },\n",
      "  {\n",
      "    \"filename\": \"RSL1_GCC-011.mp4\",\n",
      "    \"start_timestamp\": \"05:22\",\n",
      "    \"end_timestamp\": \"06:16\"\n",
      "  },\n",
      "  {\n",
      "    \"filename\": \"RSL1_GCC-006.mp4\",\n",
      "    \"start_timestamp\": \"00:27\",\n",
      "    \"end_timestamp\": \"00:48\"\n",
      "  },\n",
      "  {\n",
      "    \"filename\": \"RSL1_GCC-003.mp4\",\n",
      "    \"start_timestamp\": \"06:39\",\n",
      "    \"end_timestamp\": \"06:50\"\n",
      "  },\n",
      "  {\n",
      "    \"filename\": \"RSL1_GCC-005.mp4\",\n",
      "    \"start_timestamp\": \"01:16\",\n",
      "    \"end_timestamp\": \"02:57\"\n",
      "  },\n",
      "  {\n",
      "    \"filename\": \"RSL1_GCC-007.mp4\",\n",
      "    \"start_timestamp\": \"00:07\",\n",
      "    \"end_timestamp\": \"00:18\"\n",
      "  },\n",
      "  {\n",
      "    \"filename\": \"RSL1_GCC-009.mp4\",\n",
      "    \"start_timestamp\": \"00:39\",\n",
      "    \"end_timestamp\": \"01:09\"\n",
      "  },\n",
      "  {\n",
      "    \"filename\": \"RSL1_GCC-008.mp4\",\n",
      "    \"start_timestamp\": \"00:00\",\n",
      "    \"end_timestamp\": \"00:12\"\n",
      "  },\n",
      "  {\n",
      "    \"filename\": \"RSL1_GCC-004.mp4\",\n",
      "    \"start_timestamp\": \"01:04\",\n",
      "    \"end_timestamp\": \"01:23\"\n",
      "  },\n",
      "  {\n",
      "    \"filename\": \"RSL1_GCC-001.mp4\",\n",
      "    \"start_timestamp\": \"00:28\",\n",
      "    \"end_timestamp\": \"01:10\"\n",
      "  },\n",
      "  {\n",
      "    \"filename\": \"RSL1_GCC-013.mp4\",\n",
      "    \"start_timestamp\": \"00:29\",\n",
      "    \"end_timestamp\": \"00:40\"\n",
      "  },\n",
      "  {\n",
      "    \"filename\": \"RSL1_GCC-010.mp4\",\n",
      "    \"start_timestamp\": \"00:57\",\n",
      "    \"end_timestamp\": \"01:19\"\n",
      "  },\n",
      "  {\n",
      "    \"filename\": \"RSL1_GCC-012.mp4\",\n",
      "    \"start_timestamp\": \"06:00\",\n",
      "    \"end_timestamp\": \"06:12\"\n",
      "  }\n",
      "]\n"
     ]
    }
   ],
   "source": [
    "from google import genai\n",
    "from google.genai import types\n",
    "import base64\n",
    "\n",
    "def generate(user_prompt):\n",
    "  client = genai.Client(\n",
    "      vertexai=True,\n",
    "      project=\"testfab-362608\",\n",
    "      location=\"us-central1\"\n",
    "  )\n",
    "\n",
    "  res=[]\n",
    "\n",
    "  text1 = types.Part.from_text(user_prompt)\n",
    "\n",
    "  model = \"gemini-exp-1206\"\n",
    "  contents = [\n",
    "    types.Content(\n",
    "      role=\"user\",\n",
    "      parts=[\n",
    "        text1\n",
    "      ]\n",
    "    )\n",
    "  ]\n",
    "  generate_content_config = types.GenerateContentConfig(\n",
    "    temperature = 1,\n",
    "    top_p = 1,\n",
    "    seed = 0,\n",
    "    max_output_tokens = 8192,\n",
    "    response_modalities = [\"TEXT\"],\n",
    "    safety_settings = [types.SafetySetting(\n",
    "      category=\"HARM_CATEGORY_HATE_SPEECH\",\n",
    "      threshold=\"BLOCK_MEDIUM_AND_ABOVE\"\n",
    "    ),types.SafetySetting(\n",
    "      category=\"HARM_CATEGORY_DANGEROUS_CONTENT\",\n",
    "      threshold=\"BLOCK_MEDIUM_AND_ABOVE\"\n",
    "    ),types.SafetySetting(\n",
    "      category=\"HARM_CATEGORY_SEXUALLY_EXPLICIT\",\n",
    "      threshold=\"BLOCK_MEDIUM_AND_ABOVE\"\n",
    "    ),types.SafetySetting(\n",
    "      category=\"HARM_CATEGORY_HARASSMENT\",\n",
    "      threshold=\"BLOCK_MEDIUM_AND_ABOVE\"\n",
    "    )],\n",
    "    response_mime_type = \"application/json\",\n",
    "  )\n",
    "\n",
    "  answer=''\n",
    "  for chunk in client.models.generate_content_stream(\n",
    "    model = model,\n",
    "    contents = contents,\n",
    "    config = generate_content_config,\n",
    "    ):\n",
    "    res.append(chunk)\n",
    "    \n",
    "  return res\n",
    "\n",
    "user_prompt = \"\"\"<Instruction>\n",
    "You have a JSON content that presents timestamp for goal found in multiple videos which are the results of the split of one large video. \n",
    "Output these different JSON docuements in one array following the provided format.\n",
    "</Instruction>\n",
    "\n",
    "<JSON_Content>\n",
    "\"\"\"+str(final_res)+\"\"\"\n",
    "</JSON_Content>\n",
    "\n",
    "<Output_Format>\n",
    "[\n",
    "{'filename':'',\n",
    "'start_timestamp': \"mm:ss\",\n",
    "'end_timestamp': \"mm:ss\"},\n",
    "{'filename':'',\n",
    "'start_timestamp': 'mm:ss',\n",
    "'end_timestamp': 'mm:ss'},\n",
    "...]\n",
    "</Output_Format>\"\"\"\n",
    "\n",
    "system_prompt = \"\"\"You are a expert in content creation and generation. You never miss any key frames in the video which can be used for youtube shorts video generation. You possess a deep understanding of visual storytelling, pacing, and audience engagement techniques. Your goal is to distill the essence of a video into a concise and captivating highlight reel.\"\"\"\n",
    "\n",
    "\n",
    "results = generate(user_prompt)\n",
    "final_highlight=''\n",
    "for res in results:\n",
    " final_highlight = final_highlight + res.candidates[0].content.parts[0].text\n",
    "\n",
    "\n",
    "print(final_highlight)\n",
    "# res[0].candidates[0].content.parts[0].text"
   ]
  },
  {
   "cell_type": "code",
   "execution_count": 21,
   "id": "8d35c4fe-8dbb-4cda-bc55-2667d353df2e",
   "metadata": {
    "tags": []
   },
   "outputs": [
    {
     "name": "stdout",
     "output_type": "stream",
     "text": [
      "[('RSL1_GCC-002.mp4', '00:00', '00:17'), ('RSL1_GCC-011.mp4', '05:22', '06:16'), ('RSL1_GCC-006.mp4', '00:27', '00:48'), ('RSL1_GCC-003.mp4', '06:39', '06:50'), ('RSL1_GCC-005.mp4', '01:16', '02:57'), ('RSL1_GCC-007.mp4', '00:07', '00:18'), ('RSL1_GCC-009.mp4', '00:39', '01:09'), ('RSL1_GCC-008.mp4', '00:00', '00:12'), ('RSL1_GCC-004.mp4', '01:04', '01:23'), ('RSL1_GCC-001.mp4', '00:28', '01:10'), ('RSL1_GCC-013.mp4', '00:29', '00:40'), ('RSL1_GCC-010.mp4', '00:57', '01:19'), ('RSL1_GCC-012.mp4', '06:00', '06:12')]\n"
     ]
    }
   ],
   "source": [
    "import json\n",
    "\n",
    "def extract_tuples(json_string):\n",
    "  \"\"\"\n",
    "  Extracts tuples from a JSON string and appends them to a list.\n",
    "\n",
    "  Args:\n",
    "    json_string: A string in JSON format containing highlight data.\n",
    "\n",
    "  Returns:\n",
    "    A list of tuples, where each tuple represents a highlight \n",
    "    with (filename, start_timestamp, end_timestamp).\n",
    "  \"\"\"\n",
    "  data = json.loads(json_string)\n",
    "  highlights_list = []\n",
    "\n",
    "  for highlight in data:  # No need to use .get(\"highlights\", []) here since the list is at the top level\n",
    "    filename = highlight.get(\"filename\")\n",
    "    start_timestamp = highlight.get(\"start_timestamp\")\n",
    "    end_timestamp = highlight.get(\"end_timestamp\")\n",
    "\n",
    "    if filename and start_timestamp and end_timestamp:\n",
    "      highlights_list.append((filename, start_timestamp, end_timestamp))\n",
    "\n",
    "  return highlights_list\n",
    "\n",
    "# Example Usage:\n",
    "json_string = final_highlight\n",
    "split_for_video = extract_tuples(json_string)\n",
    "print(split_for_video)"
   ]
  },
  {
   "cell_type": "code",
   "execution_count": 22,
   "id": "5c8f4579-772f-468c-b3e2-2315eb04f384",
   "metadata": {
    "tags": []
   },
   "outputs": [
    {
     "name": "stdout",
     "output_type": "stream",
     "text": [
      "Directory 'video/rsl/output/chunk' already exists.\n",
      "{'video_found': True, 'audio_found': True, 'metadata': {'encoder': 'libebml v1.4.2 + libmatroska v1.6.2', 'creation_time': '2025-01-24T09:47:09.000000Z'}, 'inputs': [{'streams': [{'input_number': 0, 'stream_number': 0, 'stream_type': 'video', 'language': None, 'default': True, 'size': [1920, 1080], 'bitrate': None, 'fps': 25.0, 'codec_name': 'h264', 'profile': '(High 4:2:2)', 'metadata': {'Metadata': '', 'BPS-eng': '8487780', 'DURATION-eng': '00:08:11.000000000', 'NUMBER_OF_FRAMES-eng': '12275', 'NUMBER_OF_BYTES-eng': '520937523', '_STATISTICS_WRITING_APP-eng': \"mkvmerge v52.0.0 ('Secret For The Mad') 64-bit\", '_STATISTICS_WRITING_DATE_UTC-eng': '2025-01-24 09:47:09', '_STATISTICS_TAGS-eng': 'BPS DURATION NUMBER_OF_FRAMES NUMBER_OF_BYTES'}}, {'input_number': 0, 'stream_number': 1, 'stream_type': 'audio', 'language': None, 'default': True, 'fps': 48000, 'bitrate': None, 'metadata': {'Metadata': '', 'BPS-eng': '128827', 'DURATION-eng': '00:08:11.008000000', 'NUMBER_OF_FRAMES-eng': '23016', 'NUMBER_OF_BYTES-eng': '7906928', '_STATISTICS_WRITING_APP-eng': \"mkvmerge v52.0.0 ('Secret For The Mad') 64-bit\", '_STATISTICS_WRITING_DATE_UTC-eng': '2025-01-24 09:47:09', '_STATISTICS_TAGS-eng': 'BPS DURATION NUMBER_OF_FRAMES NUMBER_OF_BYTES'}}], 'input_number': 0}], 'duration': 491.02, 'bitrate': 8618, 'start': 0.0, 'default_video_input_number': 0, 'default_video_stream_number': 0, 'video_codec_name': 'h264', 'video_profile': '(High 4:2:2)', 'video_size': [1920, 1080], 'video_bitrate': None, 'video_fps': 25.0, 'default_audio_input_number': 0, 'default_audio_stream_number': 1, 'audio_fps': 48000, 'audio_bitrate': None, 'video_duration': 491.02, 'video_n_frames': 12275}\n",
      "/opt/conda/lib/python3.10/site-packages/imageio_ffmpeg/binaries/ffmpeg-linux-x86_64-v7.0.2 -i video/rsl/output/RSL1_GCC-002.mp4 -loglevel error -f image2pipe -vf scale=1920:1080 -sws_flags bicubic -pix_fmt rgb24 -vcodec rawvideo -\n",
      "MoviePy - Building video video/rsl/output/chunk/RSL1_GCC-002-00:00_00:17.mp4.\n",
      "MoviePy - Writing audio in RSL1_GCC-002-00:00_00:17TEMP_MPY_wvf_snd.mp3\n"
     ]
    },
    {
     "name": "stderr",
     "output_type": "stream",
     "text": [
      "                                                                   \r"
     ]
    },
    {
     "name": "stdout",
     "output_type": "stream",
     "text": [
      "MoviePy - Done.\n",
      "MoviePy - Writing video video/rsl/output/chunk/RSL1_GCC-002-00:00_00:17.mp4\n",
      "\n"
     ]
    },
    {
     "name": "stderr",
     "output_type": "stream",
     "text": [
      "                                                                        \r"
     ]
    },
    {
     "name": "stdout",
     "output_type": "stream",
     "text": [
      "MoviePy - Done !\n",
      "MoviePy - video ready video/rsl/output/chunk/RSL1_GCC-002-00:00_00:17.mp4\n",
      "{'video_found': True, 'audio_found': True, 'metadata': {'encoder': 'libebml v1.4.2 + libmatroska v1.6.2', 'creation_time': '2025-01-24T09:47:09.000000Z'}, 'inputs': [{'streams': [{'input_number': 0, 'stream_number': 0, 'stream_type': 'video', 'language': None, 'default': True, 'size': [1920, 1080], 'bitrate': None, 'fps': 25.0, 'codec_name': 'h264', 'profile': '(High 4:2:2)', 'metadata': {'Metadata': '', 'BPS-eng': '8776412', 'DURATION-eng': '00:07:51.600000000', 'NUMBER_OF_FRAMES-eng': '11790', 'NUMBER_OF_BYTES-eng': '517369534', '_STATISTICS_WRITING_APP-eng': \"mkvmerge v52.0.0 ('Secret For The Mad') 64-bit\", '_STATISTICS_WRITING_DATE_UTC-eng': '2025-01-24 09:47:09', '_STATISTICS_TAGS-eng': 'BPS DURATION NUMBER_OF_FRAMES NUMBER_OF_BYTES'}}, {'input_number': 0, 'stream_number': 1, 'stream_type': 'audio', 'language': None, 'default': True, 'fps': 48000, 'bitrate': None, 'metadata': {'Metadata': '', 'BPS-eng': '128665', 'DURATION-eng': '00:07:51.594000000', 'NUMBER_OF_FRAMES-eng': '22106', 'NUMBER_OF_BYTES-eng': '7584746', '_STATISTICS_WRITING_APP-eng': \"mkvmerge v52.0.0 ('Secret For The Mad') 64-bit\", '_STATISTICS_WRITING_DATE_UTC-eng': '2025-01-24 09:47:09', '_STATISTICS_TAGS-eng': 'BPS DURATION NUMBER_OF_FRAMES NUMBER_OF_BYTES'}}], 'input_number': 0}], 'duration': 471.6, 'bitrate': 8907, 'start': 0.0, 'default_video_input_number': 0, 'default_video_stream_number': 0, 'video_codec_name': 'h264', 'video_profile': '(High 4:2:2)', 'video_size': [1920, 1080], 'video_bitrate': None, 'video_fps': 25.0, 'default_audio_input_number': 0, 'default_audio_stream_number': 1, 'audio_fps': 48000, 'audio_bitrate': None, 'video_duration': 471.6, 'video_n_frames': 11790}\n",
      "/opt/conda/lib/python3.10/site-packages/imageio_ffmpeg/binaries/ffmpeg-linux-x86_64-v7.0.2 -i video/rsl/output/RSL1_GCC-011.mp4 -loglevel error -f image2pipe -vf scale=1920:1080 -sws_flags bicubic -pix_fmt rgb24 -vcodec rawvideo -\n",
      "{'video_found': True, 'audio_found': True, 'metadata': {'encoder': 'libebml v1.4.2 + libmatroska v1.6.2', 'creation_time': '2025-01-24T09:47:09.000000Z'}, 'inputs': [{'streams': [{'input_number': 0, 'stream_number': 0, 'stream_type': 'video', 'language': None, 'default': True, 'size': [1920, 1080], 'bitrate': None, 'fps': 25.0, 'codec_name': 'h264', 'profile': '(High 4:2:2)', 'metadata': {'Metadata': '', 'BPS-eng': '8776412', 'DURATION-eng': '00:07:51.600000000', 'NUMBER_OF_FRAMES-eng': '11790', 'NUMBER_OF_BYTES-eng': '517369534', '_STATISTICS_WRITING_APP-eng': \"mkvmerge v52.0.0 ('Secret For The Mad') 64-bit\", '_STATISTICS_WRITING_DATE_UTC-eng': '2025-01-24 09:47:09', '_STATISTICS_TAGS-eng': 'BPS DURATION NUMBER_OF_FRAMES NUMBER_OF_BYTES'}}, {'input_number': 0, 'stream_number': 1, 'stream_type': 'audio', 'language': None, 'default': True, 'fps': 48000, 'bitrate': None, 'metadata': {'Metadata': '', 'BPS-eng': '128665', 'DURATION-eng': '00:07:51.594000000', 'NUMBER_OF_FRAMES-eng': '22106', 'NUMBER_OF_BYTES-eng': '7584746', '_STATISTICS_WRITING_APP-eng': \"mkvmerge v52.0.0 ('Secret For The Mad') 64-bit\", '_STATISTICS_WRITING_DATE_UTC-eng': '2025-01-24 09:47:09', '_STATISTICS_TAGS-eng': 'BPS DURATION NUMBER_OF_FRAMES NUMBER_OF_BYTES'}}], 'input_number': 0}], 'duration': 471.6, 'bitrate': 8907, 'start': 0.0, 'default_video_input_number': 0, 'default_video_stream_number': 0, 'video_codec_name': 'h264', 'video_profile': '(High 4:2:2)', 'video_size': [1920, 1080], 'video_bitrate': None, 'video_fps': 25.0, 'default_audio_input_number': 0, 'default_audio_stream_number': 1, 'audio_fps': 48000, 'audio_bitrate': None, 'video_duration': 471.6, 'video_n_frames': 11790}\n",
      "/opt/conda/lib/python3.10/site-packages/imageio_ffmpeg/binaries/ffmpeg-linux-x86_64-v7.0.2 -ss 321.000000 -i video/rsl/output/RSL1_GCC-011.mp4 -ss 1.000000 -loglevel error -f image2pipe -vf scale=1920:1080 -sws_flags bicubic -pix_fmt rgb24 -vcodec rawvideo -\n",
      "MoviePy - Building video video/rsl/output/chunk/RSL1_GCC-011-05:22_06:16.mp4.\n",
      "MoviePy - Writing audio in RSL1_GCC-011-05:22_06:16TEMP_MPY_wvf_snd.mp3\n"
     ]
    },
    {
     "name": "stderr",
     "output_type": "stream",
     "text": [
      "                                                                     \r"
     ]
    },
    {
     "name": "stdout",
     "output_type": "stream",
     "text": [
      "MoviePy - Done.\n",
      "MoviePy - Writing video video/rsl/output/chunk/RSL1_GCC-011-05:22_06:16.mp4\n",
      "\n"
     ]
    },
    {
     "name": "stderr",
     "output_type": "stream",
     "text": [
      "                                                                          \r"
     ]
    },
    {
     "name": "stdout",
     "output_type": "stream",
     "text": [
      "MoviePy - Done !\n",
      "MoviePy - video ready video/rsl/output/chunk/RSL1_GCC-011-05:22_06:16.mp4\n",
      "{'video_found': True, 'audio_found': True, 'metadata': {'encoder': 'libebml v1.4.2 + libmatroska v1.6.2', 'creation_time': '2025-01-24T09:47:09.000000Z'}, 'inputs': [{'streams': [{'input_number': 0, 'stream_number': 0, 'stream_type': 'video', 'language': None, 'default': True, 'size': [1920, 1080], 'bitrate': None, 'fps': 25.0, 'codec_name': 'h264', 'profile': '(High 4:2:2)', 'metadata': {'Metadata': '', 'BPS-eng': '7672195', 'DURATION-eng': '00:09:06.880000000', 'NUMBER_OF_FRAMES-eng': '13672', 'NUMBER_OF_BYTES-eng': '524471290', '_STATISTICS_WRITING_APP-eng': \"mkvmerge v52.0.0 ('Secret For The Mad') 64-bit\", '_STATISTICS_WRITING_DATE_UTC-eng': '2025-01-24 09:47:09', '_STATISTICS_TAGS-eng': 'BPS DURATION NUMBER_OF_FRAMES NUMBER_OF_BYTES'}}, {'input_number': 0, 'stream_number': 1, 'stream_type': 'audio', 'language': None, 'default': True, 'fps': 48000, 'bitrate': None, 'metadata': {'Metadata': '', 'BPS-eng': '128253', 'DURATION-eng': '00:09:06.880000000', 'NUMBER_OF_FRAMES-eng': '25635', 'NUMBER_OF_BYTES-eng': '8767387', '_STATISTICS_WRITING_APP-eng': \"mkvmerge v52.0.0 ('Secret For The Mad') 64-bit\", '_STATISTICS_WRITING_DATE_UTC-eng': '2025-01-24 09:47:09', '_STATISTICS_TAGS-eng': 'BPS DURATION NUMBER_OF_FRAMES NUMBER_OF_BYTES'}}], 'input_number': 0}], 'duration': 546.88, 'bitrate': 7802, 'start': 0.0, 'default_video_input_number': 0, 'default_video_stream_number': 0, 'video_codec_name': 'h264', 'video_profile': '(High 4:2:2)', 'video_size': [1920, 1080], 'video_bitrate': None, 'video_fps': 25.0, 'default_audio_input_number': 0, 'default_audio_stream_number': 1, 'audio_fps': 48000, 'audio_bitrate': None, 'video_duration': 546.88, 'video_n_frames': 13672}\n",
      "/opt/conda/lib/python3.10/site-packages/imageio_ffmpeg/binaries/ffmpeg-linux-x86_64-v7.0.2 -i video/rsl/output/RSL1_GCC-006.mp4 -loglevel error -f image2pipe -vf scale=1920:1080 -sws_flags bicubic -pix_fmt rgb24 -vcodec rawvideo -\n",
      "{'video_found': True, 'audio_found': True, 'metadata': {'encoder': 'libebml v1.4.2 + libmatroska v1.6.2', 'creation_time': '2025-01-24T09:47:09.000000Z'}, 'inputs': [{'streams': [{'input_number': 0, 'stream_number': 0, 'stream_type': 'video', 'language': None, 'default': True, 'size': [1920, 1080], 'bitrate': None, 'fps': 25.0, 'codec_name': 'h264', 'profile': '(High 4:2:2)', 'metadata': {'Metadata': '', 'BPS-eng': '7672195', 'DURATION-eng': '00:09:06.880000000', 'NUMBER_OF_FRAMES-eng': '13672', 'NUMBER_OF_BYTES-eng': '524471290', '_STATISTICS_WRITING_APP-eng': \"mkvmerge v52.0.0 ('Secret For The Mad') 64-bit\", '_STATISTICS_WRITING_DATE_UTC-eng': '2025-01-24 09:47:09', '_STATISTICS_TAGS-eng': 'BPS DURATION NUMBER_OF_FRAMES NUMBER_OF_BYTES'}}, {'input_number': 0, 'stream_number': 1, 'stream_type': 'audio', 'language': None, 'default': True, 'fps': 48000, 'bitrate': None, 'metadata': {'Metadata': '', 'BPS-eng': '128253', 'DURATION-eng': '00:09:06.880000000', 'NUMBER_OF_FRAMES-eng': '25635', 'NUMBER_OF_BYTES-eng': '8767387', '_STATISTICS_WRITING_APP-eng': \"mkvmerge v52.0.0 ('Secret For The Mad') 64-bit\", '_STATISTICS_WRITING_DATE_UTC-eng': '2025-01-24 09:47:09', '_STATISTICS_TAGS-eng': 'BPS DURATION NUMBER_OF_FRAMES NUMBER_OF_BYTES'}}], 'input_number': 0}], 'duration': 546.88, 'bitrate': 7802, 'start': 0.0, 'default_video_input_number': 0, 'default_video_stream_number': 0, 'video_codec_name': 'h264', 'video_profile': '(High 4:2:2)', 'video_size': [1920, 1080], 'video_bitrate': None, 'video_fps': 25.0, 'default_audio_input_number': 0, 'default_audio_stream_number': 1, 'audio_fps': 48000, 'audio_bitrate': None, 'video_duration': 546.88, 'video_n_frames': 13672}\n",
      "/opt/conda/lib/python3.10/site-packages/imageio_ffmpeg/binaries/ffmpeg-linux-x86_64-v7.0.2 -ss 26.000000 -i video/rsl/output/RSL1_GCC-006.mp4 -ss 1.000000 -loglevel error -f image2pipe -vf scale=1920:1080 -sws_flags bicubic -pix_fmt rgb24 -vcodec rawvideo -\n",
      "MoviePy - Building video video/rsl/output/chunk/RSL1_GCC-006-00:27_00:48.mp4.\n",
      "MoviePy - Writing audio in RSL1_GCC-006-00:27_00:48TEMP_MPY_wvf_snd.mp3\n"
     ]
    },
    {
     "name": "stderr",
     "output_type": "stream",
     "text": [
      "                                                                   \r"
     ]
    },
    {
     "name": "stdout",
     "output_type": "stream",
     "text": [
      "MoviePy - Done.\n",
      "MoviePy - Writing video video/rsl/output/chunk/RSL1_GCC-006-00:27_00:48.mp4\n",
      "\n"
     ]
    },
    {
     "name": "stderr",
     "output_type": "stream",
     "text": [
      "                                                                        \r"
     ]
    },
    {
     "name": "stdout",
     "output_type": "stream",
     "text": [
      "MoviePy - Done !\n",
      "MoviePy - video ready video/rsl/output/chunk/RSL1_GCC-006-00:27_00:48.mp4\n",
      "{'video_found': True, 'audio_found': True, 'metadata': {'encoder': 'libebml v1.4.2 + libmatroska v1.6.2', 'creation_time': '2025-01-24T09:47:09.000000Z'}, 'inputs': [{'streams': [{'input_number': 0, 'stream_number': 0, 'stream_type': 'video', 'language': None, 'default': True, 'size': [1920, 1080], 'bitrate': None, 'fps': 25.0, 'codec_name': 'h264', 'profile': '(High 4:2:2)', 'metadata': {'Metadata': '', 'BPS-eng': '8341140', 'DURATION-eng': '00:08:20.280000000', 'NUMBER_OF_FRAMES-eng': '12507', 'NUMBER_OF_BYTES-eng': '521613209', '_STATISTICS_WRITING_APP-eng': \"mkvmerge v52.0.0 ('Secret For The Mad') 64-bit\", '_STATISTICS_WRITING_DATE_UTC-eng': '2025-01-24 09:47:09', '_STATISTICS_TAGS-eng': 'BPS DURATION NUMBER_OF_FRAMES NUMBER_OF_BYTES'}}, {'input_number': 0, 'stream_number': 1, 'stream_type': 'audio', 'language': None, 'default': True, 'fps': 48000, 'bitrate': None, 'metadata': {'Metadata': '', 'BPS-eng': '128852', 'DURATION-eng': '00:08:20.267000000', 'NUMBER_OF_FRAMES-eng': '23450', 'NUMBER_OF_BYTES-eng': '8057559', '_STATISTICS_WRITING_APP-eng': \"mkvmerge v52.0.0 ('Secret For The Mad') 64-bit\", '_STATISTICS_WRITING_DATE_UTC-eng': '2025-01-24 09:47:09', '_STATISTICS_TAGS-eng': 'BPS DURATION NUMBER_OF_FRAMES NUMBER_OF_BYTES'}}], 'input_number': 0}], 'duration': 500.28, 'bitrate': 8472, 'start': 0.0, 'default_video_input_number': 0, 'default_video_stream_number': 0, 'video_codec_name': 'h264', 'video_profile': '(High 4:2:2)', 'video_size': [1920, 1080], 'video_bitrate': None, 'video_fps': 25.0, 'default_audio_input_number': 0, 'default_audio_stream_number': 1, 'audio_fps': 48000, 'audio_bitrate': None, 'video_duration': 500.28, 'video_n_frames': 12507}\n",
      "/opt/conda/lib/python3.10/site-packages/imageio_ffmpeg/binaries/ffmpeg-linux-x86_64-v7.0.2 -i video/rsl/output/RSL1_GCC-003.mp4 -loglevel error -f image2pipe -vf scale=1920:1080 -sws_flags bicubic -pix_fmt rgb24 -vcodec rawvideo -\n",
      "{'video_found': True, 'audio_found': True, 'metadata': {'encoder': 'libebml v1.4.2 + libmatroska v1.6.2', 'creation_time': '2025-01-24T09:47:09.000000Z'}, 'inputs': [{'streams': [{'input_number': 0, 'stream_number': 0, 'stream_type': 'video', 'language': None, 'default': True, 'size': [1920, 1080], 'bitrate': None, 'fps': 25.0, 'codec_name': 'h264', 'profile': '(High 4:2:2)', 'metadata': {'Metadata': '', 'BPS-eng': '8341140', 'DURATION-eng': '00:08:20.280000000', 'NUMBER_OF_FRAMES-eng': '12507', 'NUMBER_OF_BYTES-eng': '521613209', '_STATISTICS_WRITING_APP-eng': \"mkvmerge v52.0.0 ('Secret For The Mad') 64-bit\", '_STATISTICS_WRITING_DATE_UTC-eng': '2025-01-24 09:47:09', '_STATISTICS_TAGS-eng': 'BPS DURATION NUMBER_OF_FRAMES NUMBER_OF_BYTES'}}, {'input_number': 0, 'stream_number': 1, 'stream_type': 'audio', 'language': None, 'default': True, 'fps': 48000, 'bitrate': None, 'metadata': {'Metadata': '', 'BPS-eng': '128852', 'DURATION-eng': '00:08:20.267000000', 'NUMBER_OF_FRAMES-eng': '23450', 'NUMBER_OF_BYTES-eng': '8057559', '_STATISTICS_WRITING_APP-eng': \"mkvmerge v52.0.0 ('Secret For The Mad') 64-bit\", '_STATISTICS_WRITING_DATE_UTC-eng': '2025-01-24 09:47:09', '_STATISTICS_TAGS-eng': 'BPS DURATION NUMBER_OF_FRAMES NUMBER_OF_BYTES'}}], 'input_number': 0}], 'duration': 500.28, 'bitrate': 8472, 'start': 0.0, 'default_video_input_number': 0, 'default_video_stream_number': 0, 'video_codec_name': 'h264', 'video_profile': '(High 4:2:2)', 'video_size': [1920, 1080], 'video_bitrate': None, 'video_fps': 25.0, 'default_audio_input_number': 0, 'default_audio_stream_number': 1, 'audio_fps': 48000, 'audio_bitrate': None, 'video_duration': 500.28, 'video_n_frames': 12507}\n",
      "/opt/conda/lib/python3.10/site-packages/imageio_ffmpeg/binaries/ffmpeg-linux-x86_64-v7.0.2 -ss 398.000000 -i video/rsl/output/RSL1_GCC-003.mp4 -ss 1.000000 -loglevel error -f image2pipe -vf scale=1920:1080 -sws_flags bicubic -pix_fmt rgb24 -vcodec rawvideo -\n",
      "MoviePy - Building video video/rsl/output/chunk/RSL1_GCC-003-06:39_06:50.mp4.\n",
      "MoviePy - Writing audio in RSL1_GCC-003-06:39_06:50TEMP_MPY_wvf_snd.mp3\n"
     ]
    },
    {
     "name": "stderr",
     "output_type": "stream",
     "text": [
      "                                                                   \r"
     ]
    },
    {
     "name": "stdout",
     "output_type": "stream",
     "text": [
      "MoviePy - Done.\n",
      "MoviePy - Writing video video/rsl/output/chunk/RSL1_GCC-003-06:39_06:50.mp4\n",
      "\n"
     ]
    },
    {
     "name": "stderr",
     "output_type": "stream",
     "text": [
      "                                                                        \r"
     ]
    },
    {
     "name": "stdout",
     "output_type": "stream",
     "text": [
      "MoviePy - Done !\n",
      "MoviePy - video ready video/rsl/output/chunk/RSL1_GCC-003-06:39_06:50.mp4\n",
      "{'video_found': True, 'audio_found': True, 'metadata': {'encoder': 'libebml v1.4.2 + libmatroska v1.6.2', 'creation_time': '2025-01-24T09:47:09.000000Z'}, 'inputs': [{'streams': [{'input_number': 0, 'stream_number': 0, 'stream_type': 'video', 'language': None, 'default': True, 'size': [1920, 1080], 'bitrate': None, 'fps': 25.0, 'codec_name': 'h264', 'profile': '(High 4:2:2)', 'metadata': {'Metadata': '', 'BPS-eng': '8650441', 'DURATION-eng': '00:08:00.280000000', 'NUMBER_OF_FRAMES-eng': '12007', 'NUMBER_OF_BYTES-eng': '519329226', '_STATISTICS_WRITING_APP-eng': \"mkvmerge v52.0.0 ('Secret For The Mad') 64-bit\", '_STATISTICS_WRITING_DATE_UTC-eng': '2025-01-24 09:47:09', '_STATISTICS_TAGS-eng': 'BPS DURATION NUMBER_OF_FRAMES NUMBER_OF_BYTES'}}, {'input_number': 0, 'stream_number': 1, 'stream_type': 'audio', 'language': None, 'default': True, 'fps': 48000, 'bitrate': None, 'metadata': {'Metadata': '', 'BPS-eng': '128721', 'DURATION-eng': '00:08:00.277000000', 'NUMBER_OF_FRAMES-eng': '22513', 'NUMBER_OF_BYTES-eng': '7727721', '_STATISTICS_WRITING_APP-eng': \"mkvmerge v52.0.0 ('Secret For The Mad') 64-bit\", '_STATISTICS_WRITING_DATE_UTC-eng': '2025-01-24 09:47:09', '_STATISTICS_TAGS-eng': 'BPS DURATION NUMBER_OF_FRAMES NUMBER_OF_BYTES'}}], 'input_number': 0}], 'duration': 480.28, 'bitrate': 8781, 'start': 0.0, 'default_video_input_number': 0, 'default_video_stream_number': 0, 'video_codec_name': 'h264', 'video_profile': '(High 4:2:2)', 'video_size': [1920, 1080], 'video_bitrate': None, 'video_fps': 25.0, 'default_audio_input_number': 0, 'default_audio_stream_number': 1, 'audio_fps': 48000, 'audio_bitrate': None, 'video_duration': 480.28, 'video_n_frames': 12007}\n",
      "/opt/conda/lib/python3.10/site-packages/imageio_ffmpeg/binaries/ffmpeg-linux-x86_64-v7.0.2 -i video/rsl/output/RSL1_GCC-005.mp4 -loglevel error -f image2pipe -vf scale=1920:1080 -sws_flags bicubic -pix_fmt rgb24 -vcodec rawvideo -\n",
      "{'video_found': True, 'audio_found': True, 'metadata': {'encoder': 'libebml v1.4.2 + libmatroska v1.6.2', 'creation_time': '2025-01-24T09:47:09.000000Z'}, 'inputs': [{'streams': [{'input_number': 0, 'stream_number': 0, 'stream_type': 'video', 'language': None, 'default': True, 'size': [1920, 1080], 'bitrate': None, 'fps': 25.0, 'codec_name': 'h264', 'profile': '(High 4:2:2)', 'metadata': {'Metadata': '', 'BPS-eng': '8650441', 'DURATION-eng': '00:08:00.280000000', 'NUMBER_OF_FRAMES-eng': '12007', 'NUMBER_OF_BYTES-eng': '519329226', '_STATISTICS_WRITING_APP-eng': \"mkvmerge v52.0.0 ('Secret For The Mad') 64-bit\", '_STATISTICS_WRITING_DATE_UTC-eng': '2025-01-24 09:47:09', '_STATISTICS_TAGS-eng': 'BPS DURATION NUMBER_OF_FRAMES NUMBER_OF_BYTES'}}, {'input_number': 0, 'stream_number': 1, 'stream_type': 'audio', 'language': None, 'default': True, 'fps': 48000, 'bitrate': None, 'metadata': {'Metadata': '', 'BPS-eng': '128721', 'DURATION-eng': '00:08:00.277000000', 'NUMBER_OF_FRAMES-eng': '22513', 'NUMBER_OF_BYTES-eng': '7727721', '_STATISTICS_WRITING_APP-eng': \"mkvmerge v52.0.0 ('Secret For The Mad') 64-bit\", '_STATISTICS_WRITING_DATE_UTC-eng': '2025-01-24 09:47:09', '_STATISTICS_TAGS-eng': 'BPS DURATION NUMBER_OF_FRAMES NUMBER_OF_BYTES'}}], 'input_number': 0}], 'duration': 480.28, 'bitrate': 8781, 'start': 0.0, 'default_video_input_number': 0, 'default_video_stream_number': 0, 'video_codec_name': 'h264', 'video_profile': '(High 4:2:2)', 'video_size': [1920, 1080], 'video_bitrate': None, 'video_fps': 25.0, 'default_audio_input_number': 0, 'default_audio_stream_number': 1, 'audio_fps': 48000, 'audio_bitrate': None, 'video_duration': 480.28, 'video_n_frames': 12007}\n",
      "/opt/conda/lib/python3.10/site-packages/imageio_ffmpeg/binaries/ffmpeg-linux-x86_64-v7.0.2 -ss 75.000000 -i video/rsl/output/RSL1_GCC-005.mp4 -ss 1.000000 -loglevel error -f image2pipe -vf scale=1920:1080 -sws_flags bicubic -pix_fmt rgb24 -vcodec rawvideo -\n",
      "MoviePy - Building video video/rsl/output/chunk/RSL1_GCC-005-01:16_02:57.mp4.\n",
      "MoviePy - Writing audio in RSL1_GCC-005-01:16_02:57TEMP_MPY_wvf_snd.mp3\n"
     ]
    },
    {
     "name": "stderr",
     "output_type": "stream",
     "text": [
      "                                                                     \r"
     ]
    },
    {
     "name": "stdout",
     "output_type": "stream",
     "text": [
      "MoviePy - Done.\n",
      "MoviePy - Writing video video/rsl/output/chunk/RSL1_GCC-005-01:16_02:57.mp4\n",
      "\n"
     ]
    },
    {
     "name": "stderr",
     "output_type": "stream",
     "text": [
      "                                                                          \r"
     ]
    },
    {
     "name": "stdout",
     "output_type": "stream",
     "text": [
      "MoviePy - Done !\n",
      "MoviePy - video ready video/rsl/output/chunk/RSL1_GCC-005-01:16_02:57.mp4\n",
      "{'video_found': True, 'audio_found': True, 'metadata': {'encoder': 'libebml v1.4.2 + libmatroska v1.6.2', 'creation_time': '2025-01-24T09:47:09.000000Z'}, 'inputs': [{'streams': [{'input_number': 0, 'stream_number': 0, 'stream_type': 'video', 'language': None, 'default': True, 'size': [1920, 1080], 'bitrate': None, 'fps': 25.0, 'codec_name': 'h264', 'profile': '(High 4:2:2)', 'metadata': {'Metadata': '', 'BPS-eng': '7639136', 'DURATION-eng': '00:09:02.720000000', 'NUMBER_OF_FRAMES-eng': '13568', 'NUMBER_OF_BYTES-eng': '518239035', '_STATISTICS_WRITING_APP-eng': \"mkvmerge v52.0.0 ('Secret For The Mad') 64-bit\", '_STATISTICS_WRITING_DATE_UTC-eng': '2025-01-24 09:47:09', '_STATISTICS_TAGS-eng': 'BPS DURATION NUMBER_OF_FRAMES NUMBER_OF_BYTES'}}, {'input_number': 0, 'stream_number': 1, 'stream_type': 'audio', 'language': None, 'default': True, 'fps': 48000, 'bitrate': None, 'metadata': {'Metadata': '', 'BPS-eng': '128401', 'DURATION-eng': '00:09:02.720000000', 'NUMBER_OF_FRAMES-eng': '25440', 'NUMBER_OF_BYTES-eng': '8710759', '_STATISTICS_WRITING_APP-eng': \"mkvmerge v52.0.0 ('Secret For The Mad') 64-bit\", '_STATISTICS_WRITING_DATE_UTC-eng': '2025-01-24 09:47:09', '_STATISTICS_TAGS-eng': 'BPS DURATION NUMBER_OF_FRAMES NUMBER_OF_BYTES'}}], 'input_number': 0}], 'duration': 542.72, 'bitrate': 7770, 'start': 0.0, 'default_video_input_number': 0, 'default_video_stream_number': 0, 'video_codec_name': 'h264', 'video_profile': '(High 4:2:2)', 'video_size': [1920, 1080], 'video_bitrate': None, 'video_fps': 25.0, 'default_audio_input_number': 0, 'default_audio_stream_number': 1, 'audio_fps': 48000, 'audio_bitrate': None, 'video_duration': 542.72, 'video_n_frames': 13568}\n",
      "/opt/conda/lib/python3.10/site-packages/imageio_ffmpeg/binaries/ffmpeg-linux-x86_64-v7.0.2 -i video/rsl/output/RSL1_GCC-007.mp4 -loglevel error -f image2pipe -vf scale=1920:1080 -sws_flags bicubic -pix_fmt rgb24 -vcodec rawvideo -\n",
      "{'video_found': True, 'audio_found': True, 'metadata': {'encoder': 'libebml v1.4.2 + libmatroska v1.6.2', 'creation_time': '2025-01-24T09:47:09.000000Z'}, 'inputs': [{'streams': [{'input_number': 0, 'stream_number': 0, 'stream_type': 'video', 'language': None, 'default': True, 'size': [1920, 1080], 'bitrate': None, 'fps': 25.0, 'codec_name': 'h264', 'profile': '(High 4:2:2)', 'metadata': {'Metadata': '', 'BPS-eng': '7639136', 'DURATION-eng': '00:09:02.720000000', 'NUMBER_OF_FRAMES-eng': '13568', 'NUMBER_OF_BYTES-eng': '518239035', '_STATISTICS_WRITING_APP-eng': \"mkvmerge v52.0.0 ('Secret For The Mad') 64-bit\", '_STATISTICS_WRITING_DATE_UTC-eng': '2025-01-24 09:47:09', '_STATISTICS_TAGS-eng': 'BPS DURATION NUMBER_OF_FRAMES NUMBER_OF_BYTES'}}, {'input_number': 0, 'stream_number': 1, 'stream_type': 'audio', 'language': None, 'default': True, 'fps': 48000, 'bitrate': None, 'metadata': {'Metadata': '', 'BPS-eng': '128401', 'DURATION-eng': '00:09:02.720000000', 'NUMBER_OF_FRAMES-eng': '25440', 'NUMBER_OF_BYTES-eng': '8710759', '_STATISTICS_WRITING_APP-eng': \"mkvmerge v52.0.0 ('Secret For The Mad') 64-bit\", '_STATISTICS_WRITING_DATE_UTC-eng': '2025-01-24 09:47:09', '_STATISTICS_TAGS-eng': 'BPS DURATION NUMBER_OF_FRAMES NUMBER_OF_BYTES'}}], 'input_number': 0}], 'duration': 542.72, 'bitrate': 7770, 'start': 0.0, 'default_video_input_number': 0, 'default_video_stream_number': 0, 'video_codec_name': 'h264', 'video_profile': '(High 4:2:2)', 'video_size': [1920, 1080], 'video_bitrate': None, 'video_fps': 25.0, 'default_audio_input_number': 0, 'default_audio_stream_number': 1, 'audio_fps': 48000, 'audio_bitrate': None, 'video_duration': 542.72, 'video_n_frames': 13568}\n",
      "/opt/conda/lib/python3.10/site-packages/imageio_ffmpeg/binaries/ffmpeg-linux-x86_64-v7.0.2 -ss 6.000000 -i video/rsl/output/RSL1_GCC-007.mp4 -ss 1.000000 -loglevel error -f image2pipe -vf scale=1920:1080 -sws_flags bicubic -pix_fmt rgb24 -vcodec rawvideo -\n",
      "MoviePy - Building video video/rsl/output/chunk/RSL1_GCC-007-00:07_00:18.mp4.\n",
      "MoviePy - Writing audio in RSL1_GCC-007-00:07_00:18TEMP_MPY_wvf_snd.mp3\n"
     ]
    },
    {
     "name": "stderr",
     "output_type": "stream",
     "text": [
      "                                                                   \r"
     ]
    },
    {
     "name": "stdout",
     "output_type": "stream",
     "text": [
      "MoviePy - Done.\n",
      "MoviePy - Writing video video/rsl/output/chunk/RSL1_GCC-007-00:07_00:18.mp4\n",
      "\n"
     ]
    },
    {
     "name": "stderr",
     "output_type": "stream",
     "text": [
      "                                                                        \r"
     ]
    },
    {
     "name": "stdout",
     "output_type": "stream",
     "text": [
      "MoviePy - Done !\n",
      "MoviePy - video ready video/rsl/output/chunk/RSL1_GCC-007-00:07_00:18.mp4\n",
      "{'video_found': True, 'audio_found': True, 'metadata': {'encoder': 'libebml v1.4.2 + libmatroska v1.6.2', 'creation_time': '2025-01-24T09:47:09.000000Z'}, 'inputs': [{'streams': [{'input_number': 0, 'stream_number': 0, 'stream_type': 'video', 'language': None, 'default': True, 'size': [1920, 1080], 'bitrate': None, 'fps': 25.0, 'codec_name': 'h264', 'profile': '(High 4:2:2)', 'metadata': {'Metadata': '', 'BPS-eng': '9128219', 'DURATION-eng': '00:07:37.840000000', 'NUMBER_OF_FRAMES-eng': '11446', 'NUMBER_OF_BYTES-eng': '522407985', '_STATISTICS_WRITING_APP-eng': \"mkvmerge v52.0.0 ('Secret For The Mad') 64-bit\", '_STATISTICS_WRITING_DATE_UTC-eng': '2025-01-24 09:47:09', '_STATISTICS_TAGS-eng': 'BPS DURATION NUMBER_OF_FRAMES NUMBER_OF_BYTES'}}, {'input_number': 0, 'stream_number': 1, 'stream_type': 'audio', 'language': None, 'default': True, 'fps': 48000, 'bitrate': None, 'metadata': {'Metadata': '', 'BPS-eng': '128493', 'DURATION-eng': '00:07:37.834000000', 'NUMBER_OF_FRAMES-eng': '21461', 'NUMBER_OF_BYTES-eng': '7353560', '_STATISTICS_WRITING_APP-eng': \"mkvmerge v52.0.0 ('Secret For The Mad') 64-bit\", '_STATISTICS_WRITING_DATE_UTC-eng': '2025-01-24 09:47:09', '_STATISTICS_TAGS-eng': 'BPS DURATION NUMBER_OF_FRAMES NUMBER_OF_BYTES'}}], 'input_number': 0}], 'duration': 457.85, 'bitrate': 9259, 'start': 0.0, 'default_video_input_number': 0, 'default_video_stream_number': 0, 'video_codec_name': 'h264', 'video_profile': '(High 4:2:2)', 'video_size': [1920, 1080], 'video_bitrate': None, 'video_fps': 25.0, 'default_audio_input_number': 0, 'default_audio_stream_number': 1, 'audio_fps': 48000, 'audio_bitrate': None, 'video_duration': 457.85, 'video_n_frames': 11446}\n",
      "/opt/conda/lib/python3.10/site-packages/imageio_ffmpeg/binaries/ffmpeg-linux-x86_64-v7.0.2 -i video/rsl/output/RSL1_GCC-009.mp4 -loglevel error -f image2pipe -vf scale=1920:1080 -sws_flags bicubic -pix_fmt rgb24 -vcodec rawvideo -\n",
      "{'video_found': True, 'audio_found': True, 'metadata': {'encoder': 'libebml v1.4.2 + libmatroska v1.6.2', 'creation_time': '2025-01-24T09:47:09.000000Z'}, 'inputs': [{'streams': [{'input_number': 0, 'stream_number': 0, 'stream_type': 'video', 'language': None, 'default': True, 'size': [1920, 1080], 'bitrate': None, 'fps': 25.0, 'codec_name': 'h264', 'profile': '(High 4:2:2)', 'metadata': {'Metadata': '', 'BPS-eng': '9128219', 'DURATION-eng': '00:07:37.840000000', 'NUMBER_OF_FRAMES-eng': '11446', 'NUMBER_OF_BYTES-eng': '522407985', '_STATISTICS_WRITING_APP-eng': \"mkvmerge v52.0.0 ('Secret For The Mad') 64-bit\", '_STATISTICS_WRITING_DATE_UTC-eng': '2025-01-24 09:47:09', '_STATISTICS_TAGS-eng': 'BPS DURATION NUMBER_OF_FRAMES NUMBER_OF_BYTES'}}, {'input_number': 0, 'stream_number': 1, 'stream_type': 'audio', 'language': None, 'default': True, 'fps': 48000, 'bitrate': None, 'metadata': {'Metadata': '', 'BPS-eng': '128493', 'DURATION-eng': '00:07:37.834000000', 'NUMBER_OF_FRAMES-eng': '21461', 'NUMBER_OF_BYTES-eng': '7353560', '_STATISTICS_WRITING_APP-eng': \"mkvmerge v52.0.0 ('Secret For The Mad') 64-bit\", '_STATISTICS_WRITING_DATE_UTC-eng': '2025-01-24 09:47:09', '_STATISTICS_TAGS-eng': 'BPS DURATION NUMBER_OF_FRAMES NUMBER_OF_BYTES'}}], 'input_number': 0}], 'duration': 457.85, 'bitrate': 9259, 'start': 0.0, 'default_video_input_number': 0, 'default_video_stream_number': 0, 'video_codec_name': 'h264', 'video_profile': '(High 4:2:2)', 'video_size': [1920, 1080], 'video_bitrate': None, 'video_fps': 25.0, 'default_audio_input_number': 0, 'default_audio_stream_number': 1, 'audio_fps': 48000, 'audio_bitrate': None, 'video_duration': 457.85, 'video_n_frames': 11446}\n",
      "/opt/conda/lib/python3.10/site-packages/imageio_ffmpeg/binaries/ffmpeg-linux-x86_64-v7.0.2 -ss 38.000000 -i video/rsl/output/RSL1_GCC-009.mp4 -ss 1.000000 -loglevel error -f image2pipe -vf scale=1920:1080 -sws_flags bicubic -pix_fmt rgb24 -vcodec rawvideo -\n",
      "MoviePy - Building video video/rsl/output/chunk/RSL1_GCC-009-00:39_01:09.mp4.\n",
      "MoviePy - Writing audio in RSL1_GCC-009-00:39_01:09TEMP_MPY_wvf_snd.mp3\n"
     ]
    },
    {
     "name": "stderr",
     "output_type": "stream",
     "text": [
      "                                                                   \r"
     ]
    },
    {
     "name": "stdout",
     "output_type": "stream",
     "text": [
      "MoviePy - Done.\n",
      "MoviePy - Writing video video/rsl/output/chunk/RSL1_GCC-009-00:39_01:09.mp4\n",
      "\n"
     ]
    },
    {
     "name": "stderr",
     "output_type": "stream",
     "text": [
      "                                                                        \r"
     ]
    },
    {
     "name": "stdout",
     "output_type": "stream",
     "text": [
      "MoviePy - Done !\n",
      "MoviePy - video ready video/rsl/output/chunk/RSL1_GCC-009-00:39_01:09.mp4\n",
      "{'video_found': True, 'audio_found': True, 'metadata': {'encoder': 'libebml v1.4.2 + libmatroska v1.6.2', 'creation_time': '2025-01-24T09:47:09.000000Z'}, 'inputs': [{'streams': [{'input_number': 0, 'stream_number': 0, 'stream_type': 'video', 'language': None, 'default': True, 'size': [1920, 1080], 'bitrate': None, 'fps': 25.0, 'codec_name': 'h264', 'profile': '(High 4:2:2)', 'metadata': {'Metadata': '', 'BPS-eng': '8400533', 'DURATION-eng': '00:08:12.000000000', 'NUMBER_OF_FRAMES-eng': '12300', 'NUMBER_OF_BYTES-eng': '516632832', '_STATISTICS_WRITING_APP-eng': \"mkvmerge v52.0.0 ('Secret For The Mad') 64-bit\", '_STATISTICS_WRITING_DATE_UTC-eng': '2025-01-24 09:47:09', '_STATISTICS_TAGS-eng': 'BPS DURATION NUMBER_OF_FRAMES NUMBER_OF_BYTES'}}, {'input_number': 0, 'stream_number': 1, 'stream_type': 'audio', 'language': None, 'default': True, 'fps': 48000, 'bitrate': None, 'metadata': {'Metadata': '', 'BPS-eng': '128541', 'DURATION-eng': '00:08:12.010000000', 'NUMBER_OF_FRAMES-eng': '23063', 'NUMBER_OF_BYTES-eng': '7905484', '_STATISTICS_WRITING_APP-eng': \"mkvmerge v52.0.0 ('Secret For The Mad') 64-bit\", '_STATISTICS_WRITING_DATE_UTC-eng': '2025-01-24 09:47:09', '_STATISTICS_TAGS-eng': 'BPS DURATION NUMBER_OF_FRAMES NUMBER_OF_BYTES'}}], 'input_number': 0}], 'duration': 492.01, 'bitrate': 8531, 'start': 0.0, 'default_video_input_number': 0, 'default_video_stream_number': 0, 'video_codec_name': 'h264', 'video_profile': '(High 4:2:2)', 'video_size': [1920, 1080], 'video_bitrate': None, 'video_fps': 25.0, 'default_audio_input_number': 0, 'default_audio_stream_number': 1, 'audio_fps': 48000, 'audio_bitrate': None, 'video_duration': 492.01, 'video_n_frames': 12300}\n",
      "/opt/conda/lib/python3.10/site-packages/imageio_ffmpeg/binaries/ffmpeg-linux-x86_64-v7.0.2 -i video/rsl/output/RSL1_GCC-008.mp4 -loglevel error -f image2pipe -vf scale=1920:1080 -sws_flags bicubic -pix_fmt rgb24 -vcodec rawvideo -\n",
      "MoviePy - Building video video/rsl/output/chunk/RSL1_GCC-008-00:00_00:12.mp4.\n",
      "MoviePy - Writing audio in RSL1_GCC-008-00:00_00:12TEMP_MPY_wvf_snd.mp3\n"
     ]
    },
    {
     "name": "stderr",
     "output_type": "stream",
     "text": [
      "                                                                   \r"
     ]
    },
    {
     "name": "stdout",
     "output_type": "stream",
     "text": [
      "MoviePy - Done.\n",
      "MoviePy - Writing video video/rsl/output/chunk/RSL1_GCC-008-00:00_00:12.mp4\n",
      "\n"
     ]
    },
    {
     "name": "stderr",
     "output_type": "stream",
     "text": [
      "                                                                        \r"
     ]
    },
    {
     "name": "stdout",
     "output_type": "stream",
     "text": [
      "MoviePy - Done !\n",
      "MoviePy - video ready video/rsl/output/chunk/RSL1_GCC-008-00:00_00:12.mp4\n",
      "{'video_found': True, 'audio_found': True, 'metadata': {'encoder': 'libebml v1.4.2 + libmatroska v1.6.2', 'creation_time': '2025-01-24T09:47:09.000000Z'}, 'inputs': [{'streams': [{'input_number': 0, 'stream_number': 0, 'stream_type': 'video', 'language': None, 'default': True, 'size': [1920, 1080], 'bitrate': None, 'fps': 25.0, 'codec_name': 'h264', 'profile': '(High 4:2:2)', 'metadata': {'Metadata': '', 'BPS-eng': '8773492', 'DURATION-eng': '00:07:56.200000000', 'NUMBER_OF_FRAMES-eng': '11905', 'NUMBER_OF_BYTES-eng': '522242122', '_STATISTICS_WRITING_APP-eng': \"mkvmerge v52.0.0 ('Secret For The Mad') 64-bit\", '_STATISTICS_WRITING_DATE_UTC-eng': '2025-01-24 09:47:09', '_STATISTICS_TAGS-eng': 'BPS DURATION NUMBER_OF_FRAMES NUMBER_OF_BYTES'}}, {'input_number': 0, 'stream_number': 1, 'stream_type': 'audio', 'language': None, 'default': True, 'fps': 48000, 'bitrate': None, 'metadata': {'Metadata': '', 'BPS-eng': '128770', 'DURATION-eng': '00:07:56.202000000', 'NUMBER_OF_FRAMES-eng': '22322', 'NUMBER_OF_BYTES-eng': '7665114', '_STATISTICS_WRITING_APP-eng': \"mkvmerge v52.0.0 ('Secret For The Mad') 64-bit\", '_STATISTICS_WRITING_DATE_UTC-eng': '2025-01-24 09:47:09', '_STATISTICS_TAGS-eng': 'BPS DURATION NUMBER_OF_FRAMES NUMBER_OF_BYTES'}}], 'input_number': 0}], 'duration': 476.21, 'bitrate': 8904, 'start': 0.0, 'default_video_input_number': 0, 'default_video_stream_number': 0, 'video_codec_name': 'h264', 'video_profile': '(High 4:2:2)', 'video_size': [1920, 1080], 'video_bitrate': None, 'video_fps': 25.0, 'default_audio_input_number': 0, 'default_audio_stream_number': 1, 'audio_fps': 48000, 'audio_bitrate': None, 'video_duration': 476.21, 'video_n_frames': 11905}\n",
      "/opt/conda/lib/python3.10/site-packages/imageio_ffmpeg/binaries/ffmpeg-linux-x86_64-v7.0.2 -i video/rsl/output/RSL1_GCC-004.mp4 -loglevel error -f image2pipe -vf scale=1920:1080 -sws_flags bicubic -pix_fmt rgb24 -vcodec rawvideo -\n",
      "{'video_found': True, 'audio_found': True, 'metadata': {'encoder': 'libebml v1.4.2 + libmatroska v1.6.2', 'creation_time': '2025-01-24T09:47:09.000000Z'}, 'inputs': [{'streams': [{'input_number': 0, 'stream_number': 0, 'stream_type': 'video', 'language': None, 'default': True, 'size': [1920, 1080], 'bitrate': None, 'fps': 25.0, 'codec_name': 'h264', 'profile': '(High 4:2:2)', 'metadata': {'Metadata': '', 'BPS-eng': '8773492', 'DURATION-eng': '00:07:56.200000000', 'NUMBER_OF_FRAMES-eng': '11905', 'NUMBER_OF_BYTES-eng': '522242122', '_STATISTICS_WRITING_APP-eng': \"mkvmerge v52.0.0 ('Secret For The Mad') 64-bit\", '_STATISTICS_WRITING_DATE_UTC-eng': '2025-01-24 09:47:09', '_STATISTICS_TAGS-eng': 'BPS DURATION NUMBER_OF_FRAMES NUMBER_OF_BYTES'}}, {'input_number': 0, 'stream_number': 1, 'stream_type': 'audio', 'language': None, 'default': True, 'fps': 48000, 'bitrate': None, 'metadata': {'Metadata': '', 'BPS-eng': '128770', 'DURATION-eng': '00:07:56.202000000', 'NUMBER_OF_FRAMES-eng': '22322', 'NUMBER_OF_BYTES-eng': '7665114', '_STATISTICS_WRITING_APP-eng': \"mkvmerge v52.0.0 ('Secret For The Mad') 64-bit\", '_STATISTICS_WRITING_DATE_UTC-eng': '2025-01-24 09:47:09', '_STATISTICS_TAGS-eng': 'BPS DURATION NUMBER_OF_FRAMES NUMBER_OF_BYTES'}}], 'input_number': 0}], 'duration': 476.21, 'bitrate': 8904, 'start': 0.0, 'default_video_input_number': 0, 'default_video_stream_number': 0, 'video_codec_name': 'h264', 'video_profile': '(High 4:2:2)', 'video_size': [1920, 1080], 'video_bitrate': None, 'video_fps': 25.0, 'default_audio_input_number': 0, 'default_audio_stream_number': 1, 'audio_fps': 48000, 'audio_bitrate': None, 'video_duration': 476.21, 'video_n_frames': 11905}\n",
      "/opt/conda/lib/python3.10/site-packages/imageio_ffmpeg/binaries/ffmpeg-linux-x86_64-v7.0.2 -ss 63.000000 -i video/rsl/output/RSL1_GCC-004.mp4 -ss 1.000000 -loglevel error -f image2pipe -vf scale=1920:1080 -sws_flags bicubic -pix_fmt rgb24 -vcodec rawvideo -\n",
      "MoviePy - Building video video/rsl/output/chunk/RSL1_GCC-004-01:04_01:23.mp4.\n",
      "MoviePy - Writing audio in RSL1_GCC-004-01:04_01:23TEMP_MPY_wvf_snd.mp3\n"
     ]
    },
    {
     "name": "stderr",
     "output_type": "stream",
     "text": [
      "                                                                   \r"
     ]
    },
    {
     "name": "stdout",
     "output_type": "stream",
     "text": [
      "MoviePy - Done.\n",
      "MoviePy - Writing video video/rsl/output/chunk/RSL1_GCC-004-01:04_01:23.mp4\n",
      "\n"
     ]
    },
    {
     "name": "stderr",
     "output_type": "stream",
     "text": [
      "                                                                        \r"
     ]
    },
    {
     "name": "stdout",
     "output_type": "stream",
     "text": [
      "MoviePy - Done !\n",
      "MoviePy - video ready video/rsl/output/chunk/RSL1_GCC-004-01:04_01:23.mp4\n",
      "{'video_found': True, 'audio_found': True, 'metadata': {'encoder': 'libebml v1.4.2 + libmatroska v1.6.2', 'creation_time': '2025-01-24T09:47:09.000000Z'}, 'inputs': [{'streams': [{'input_number': 0, 'stream_number': 0, 'stream_type': 'video', 'language': None, 'default': True, 'size': [1920, 1080], 'bitrate': None, 'fps': 25.0, 'codec_name': 'h264', 'profile': '(High 4:2:2)', 'metadata': {'Metadata': '', 'BPS-eng': '7643247', 'DURATION-eng': '00:09:00.280000000', 'NUMBER_OF_FRAMES-eng': '13507', 'NUMBER_OF_BYTES-eng': '516186731', '_STATISTICS_WRITING_APP-eng': \"mkvmerge v52.0.0 ('Secret For The Mad') 64-bit\", '_STATISTICS_WRITING_DATE_UTC-eng': '2025-01-24 09:47:09', '_STATISTICS_TAGS-eng': 'BPS DURATION NUMBER_OF_FRAMES NUMBER_OF_BYTES'}}, {'input_number': 0, 'stream_number': 1, 'stream_type': 'audio', 'language': None, 'default': True, 'fps': 48000, 'bitrate': None, 'metadata': {'Metadata': '', 'BPS-eng': '128852', 'DURATION-eng': '00:09:00.309000000', 'NUMBER_OF_FRAMES-eng': '25327', 'NUMBER_OF_BYTES-eng': '8702490', '_STATISTICS_WRITING_APP-eng': \"mkvmerge v52.0.0 ('Secret For The Mad') 64-bit\", '_STATISTICS_WRITING_DATE_UTC-eng': '2025-01-24 09:47:09', '_STATISTICS_TAGS-eng': 'BPS DURATION NUMBER_OF_FRAMES NUMBER_OF_BYTES'}}], 'input_number': 0}], 'duration': 540.31, 'bitrate': 7774, 'start': 0.0, 'default_video_input_number': 0, 'default_video_stream_number': 0, 'video_codec_name': 'h264', 'video_profile': '(High 4:2:2)', 'video_size': [1920, 1080], 'video_bitrate': None, 'video_fps': 25.0, 'default_audio_input_number': 0, 'default_audio_stream_number': 1, 'audio_fps': 48000, 'audio_bitrate': None, 'video_duration': 540.31, 'video_n_frames': 13507}\n",
      "/opt/conda/lib/python3.10/site-packages/imageio_ffmpeg/binaries/ffmpeg-linux-x86_64-v7.0.2 -i video/rsl/output/RSL1_GCC-001.mp4 -loglevel error -f image2pipe -vf scale=1920:1080 -sws_flags bicubic -pix_fmt rgb24 -vcodec rawvideo -\n",
      "{'video_found': True, 'audio_found': True, 'metadata': {'encoder': 'libebml v1.4.2 + libmatroska v1.6.2', 'creation_time': '2025-01-24T09:47:09.000000Z'}, 'inputs': [{'streams': [{'input_number': 0, 'stream_number': 0, 'stream_type': 'video', 'language': None, 'default': True, 'size': [1920, 1080], 'bitrate': None, 'fps': 25.0, 'codec_name': 'h264', 'profile': '(High 4:2:2)', 'metadata': {'Metadata': '', 'BPS-eng': '7643247', 'DURATION-eng': '00:09:00.280000000', 'NUMBER_OF_FRAMES-eng': '13507', 'NUMBER_OF_BYTES-eng': '516186731', '_STATISTICS_WRITING_APP-eng': \"mkvmerge v52.0.0 ('Secret For The Mad') 64-bit\", '_STATISTICS_WRITING_DATE_UTC-eng': '2025-01-24 09:47:09', '_STATISTICS_TAGS-eng': 'BPS DURATION NUMBER_OF_FRAMES NUMBER_OF_BYTES'}}, {'input_number': 0, 'stream_number': 1, 'stream_type': 'audio', 'language': None, 'default': True, 'fps': 48000, 'bitrate': None, 'metadata': {'Metadata': '', 'BPS-eng': '128852', 'DURATION-eng': '00:09:00.309000000', 'NUMBER_OF_FRAMES-eng': '25327', 'NUMBER_OF_BYTES-eng': '8702490', '_STATISTICS_WRITING_APP-eng': \"mkvmerge v52.0.0 ('Secret For The Mad') 64-bit\", '_STATISTICS_WRITING_DATE_UTC-eng': '2025-01-24 09:47:09', '_STATISTICS_TAGS-eng': 'BPS DURATION NUMBER_OF_FRAMES NUMBER_OF_BYTES'}}], 'input_number': 0}], 'duration': 540.31, 'bitrate': 7774, 'start': 0.0, 'default_video_input_number': 0, 'default_video_stream_number': 0, 'video_codec_name': 'h264', 'video_profile': '(High 4:2:2)', 'video_size': [1920, 1080], 'video_bitrate': None, 'video_fps': 25.0, 'default_audio_input_number': 0, 'default_audio_stream_number': 1, 'audio_fps': 48000, 'audio_bitrate': None, 'video_duration': 540.31, 'video_n_frames': 13507}\n",
      "/opt/conda/lib/python3.10/site-packages/imageio_ffmpeg/binaries/ffmpeg-linux-x86_64-v7.0.2 -ss 27.000000 -i video/rsl/output/RSL1_GCC-001.mp4 -ss 1.000000 -loglevel error -f image2pipe -vf scale=1920:1080 -sws_flags bicubic -pix_fmt rgb24 -vcodec rawvideo -\n",
      "MoviePy - Building video video/rsl/output/chunk/RSL1_GCC-001-00:28_01:10.mp4.\n",
      "MoviePy - Writing audio in RSL1_GCC-001-00:28_01:10TEMP_MPY_wvf_snd.mp3\n"
     ]
    },
    {
     "name": "stderr",
     "output_type": "stream",
     "text": [
      "                                                                   \r"
     ]
    },
    {
     "name": "stdout",
     "output_type": "stream",
     "text": [
      "MoviePy - Done.\n",
      "MoviePy - Writing video video/rsl/output/chunk/RSL1_GCC-001-00:28_01:10.mp4\n",
      "\n"
     ]
    },
    {
     "name": "stderr",
     "output_type": "stream",
     "text": [
      "                                                                          \r"
     ]
    },
    {
     "name": "stdout",
     "output_type": "stream",
     "text": [
      "MoviePy - Done !\n",
      "MoviePy - video ready video/rsl/output/chunk/RSL1_GCC-001-00:28_01:10.mp4\n",
      "{'video_found': True, 'audio_found': True, 'metadata': {'encoder': 'libebml v1.4.2 + libmatroska v1.6.2', 'creation_time': '2025-01-24T09:47:09.000000Z'}, 'inputs': [{'streams': [{'input_number': 0, 'stream_number': 0, 'stream_type': 'video', 'language': None, 'default': True, 'size': [1920, 1080], 'bitrate': None, 'fps': 25.0, 'codec_name': 'h264', 'profile': '(High 4:2:2)', 'metadata': {'Metadata': '', 'BPS-eng': '8066997', 'DURATION-eng': '00:01:48.680000000', 'NUMBER_OF_FRAMES-eng': '2717', 'NUMBER_OF_BYTES-eng': '109590159', '_STATISTICS_WRITING_APP-eng': \"mkvmerge v52.0.0 ('Secret For The Mad') 64-bit\", '_STATISTICS_WRITING_DATE_UTC-eng': '2025-01-24 09:47:09', '_STATISTICS_TAGS-eng': 'BPS DURATION NUMBER_OF_FRAMES NUMBER_OF_BYTES'}}, {'input_number': 0, 'stream_number': 1, 'stream_type': 'audio', 'language': None, 'default': True, 'fps': 48000, 'bitrate': None, 'metadata': {'Metadata': '', 'BPS-eng': '128573', 'DURATION-eng': '00:01:48.672000000', 'NUMBER_OF_FRAMES-eng': '5094', 'NUMBER_OF_BYTES-eng': '1746536', '_STATISTICS_WRITING_APP-eng': \"mkvmerge v52.0.0 ('Secret For The Mad') 64-bit\", '_STATISTICS_WRITING_DATE_UTC-eng': '2025-01-24 09:47:09', '_STATISTICS_TAGS-eng': 'BPS DURATION NUMBER_OF_FRAMES NUMBER_OF_BYTES'}}], 'input_number': 0}], 'duration': 108.68, 'bitrate': 8198, 'start': 0.0, 'default_video_input_number': 0, 'default_video_stream_number': 0, 'video_codec_name': 'h264', 'video_profile': '(High 4:2:2)', 'video_size': [1920, 1080], 'video_bitrate': None, 'video_fps': 25.0, 'default_audio_input_number': 0, 'default_audio_stream_number': 1, 'audio_fps': 48000, 'audio_bitrate': None, 'video_duration': 108.68, 'video_n_frames': 2717}\n",
      "/opt/conda/lib/python3.10/site-packages/imageio_ffmpeg/binaries/ffmpeg-linux-x86_64-v7.0.2 -i video/rsl/output/RSL1_GCC-013.mp4 -loglevel error -f image2pipe -vf scale=1920:1080 -sws_flags bicubic -pix_fmt rgb24 -vcodec rawvideo -\n",
      "{'video_found': True, 'audio_found': True, 'metadata': {'encoder': 'libebml v1.4.2 + libmatroska v1.6.2', 'creation_time': '2025-01-24T09:47:09.000000Z'}, 'inputs': [{'streams': [{'input_number': 0, 'stream_number': 0, 'stream_type': 'video', 'language': None, 'default': True, 'size': [1920, 1080], 'bitrate': None, 'fps': 25.0, 'codec_name': 'h264', 'profile': '(High 4:2:2)', 'metadata': {'Metadata': '', 'BPS-eng': '8066997', 'DURATION-eng': '00:01:48.680000000', 'NUMBER_OF_FRAMES-eng': '2717', 'NUMBER_OF_BYTES-eng': '109590159', '_STATISTICS_WRITING_APP-eng': \"mkvmerge v52.0.0 ('Secret For The Mad') 64-bit\", '_STATISTICS_WRITING_DATE_UTC-eng': '2025-01-24 09:47:09', '_STATISTICS_TAGS-eng': 'BPS DURATION NUMBER_OF_FRAMES NUMBER_OF_BYTES'}}, {'input_number': 0, 'stream_number': 1, 'stream_type': 'audio', 'language': None, 'default': True, 'fps': 48000, 'bitrate': None, 'metadata': {'Metadata': '', 'BPS-eng': '128573', 'DURATION-eng': '00:01:48.672000000', 'NUMBER_OF_FRAMES-eng': '5094', 'NUMBER_OF_BYTES-eng': '1746536', '_STATISTICS_WRITING_APP-eng': \"mkvmerge v52.0.0 ('Secret For The Mad') 64-bit\", '_STATISTICS_WRITING_DATE_UTC-eng': '2025-01-24 09:47:09', '_STATISTICS_TAGS-eng': 'BPS DURATION NUMBER_OF_FRAMES NUMBER_OF_BYTES'}}], 'input_number': 0}], 'duration': 108.68, 'bitrate': 8198, 'start': 0.0, 'default_video_input_number': 0, 'default_video_stream_number': 0, 'video_codec_name': 'h264', 'video_profile': '(High 4:2:2)', 'video_size': [1920, 1080], 'video_bitrate': None, 'video_fps': 25.0, 'default_audio_input_number': 0, 'default_audio_stream_number': 1, 'audio_fps': 48000, 'audio_bitrate': None, 'video_duration': 108.68, 'video_n_frames': 2717}\n",
      "/opt/conda/lib/python3.10/site-packages/imageio_ffmpeg/binaries/ffmpeg-linux-x86_64-v7.0.2 -ss 28.000000 -i video/rsl/output/RSL1_GCC-013.mp4 -ss 1.000000 -loglevel error -f image2pipe -vf scale=1920:1080 -sws_flags bicubic -pix_fmt rgb24 -vcodec rawvideo -\n",
      "MoviePy - Building video video/rsl/output/chunk/RSL1_GCC-013-00:29_00:40.mp4.\n",
      "MoviePy - Writing audio in RSL1_GCC-013-00:29_00:40TEMP_MPY_wvf_snd.mp3\n"
     ]
    },
    {
     "name": "stderr",
     "output_type": "stream",
     "text": [
      "                                                                   \r"
     ]
    },
    {
     "name": "stdout",
     "output_type": "stream",
     "text": [
      "MoviePy - Done.\n",
      "MoviePy - Writing video video/rsl/output/chunk/RSL1_GCC-013-00:29_00:40.mp4\n",
      "\n"
     ]
    },
    {
     "name": "stderr",
     "output_type": "stream",
     "text": [
      "                                                                        \r"
     ]
    },
    {
     "name": "stdout",
     "output_type": "stream",
     "text": [
      "MoviePy - Done !\n",
      "MoviePy - video ready video/rsl/output/chunk/RSL1_GCC-013-00:29_00:40.mp4\n",
      "{'video_found': True, 'audio_found': True, 'metadata': {'encoder': 'libebml v1.4.2 + libmatroska v1.6.2', 'creation_time': '2025-01-24T09:47:09.000000Z'}, 'inputs': [{'streams': [{'input_number': 0, 'stream_number': 0, 'stream_type': 'video', 'language': None, 'default': True, 'size': [1920, 1080], 'bitrate': None, 'fps': 25.0, 'codec_name': 'h264', 'profile': '(High 4:2:2)', 'metadata': {'Metadata': '', 'BPS-eng': '8854186', 'DURATION-eng': '00:07:51.320000000', 'NUMBER_OF_FRAMES-eng': '11783', 'NUMBER_OF_BYTES-eng': '521644369', '_STATISTICS_WRITING_APP-eng': \"mkvmerge v52.0.0 ('Secret For The Mad') 64-bit\", '_STATISTICS_WRITING_DATE_UTC-eng': '2025-01-24 09:47:09', '_STATISTICS_TAGS-eng': 'BPS DURATION NUMBER_OF_FRAMES NUMBER_OF_BYTES'}}, {'input_number': 0, 'stream_number': 1, 'stream_type': 'audio', 'language': None, 'default': True, 'fps': 48000, 'bitrate': None, 'metadata': {'Metadata': '', 'BPS-eng': '128563', 'DURATION-eng': '00:07:51.317000000', 'NUMBER_OF_FRAMES-eng': '22093', 'NUMBER_OF_BYTES-eng': '7574251', '_STATISTICS_WRITING_APP-eng': \"mkvmerge v52.0.0 ('Secret For The Mad') 64-bit\", '_STATISTICS_WRITING_DATE_UTC-eng': '2025-01-24 09:47:09', '_STATISTICS_TAGS-eng': 'BPS DURATION NUMBER_OF_FRAMES NUMBER_OF_BYTES'}}], 'input_number': 0}], 'duration': 471.33, 'bitrate': 8985, 'start': 0.0, 'default_video_input_number': 0, 'default_video_stream_number': 0, 'video_codec_name': 'h264', 'video_profile': '(High 4:2:2)', 'video_size': [1920, 1080], 'video_bitrate': None, 'video_fps': 25.0, 'default_audio_input_number': 0, 'default_audio_stream_number': 1, 'audio_fps': 48000, 'audio_bitrate': None, 'video_duration': 471.33, 'video_n_frames': 11783}\n",
      "/opt/conda/lib/python3.10/site-packages/imageio_ffmpeg/binaries/ffmpeg-linux-x86_64-v7.0.2 -i video/rsl/output/RSL1_GCC-010.mp4 -loglevel error -f image2pipe -vf scale=1920:1080 -sws_flags bicubic -pix_fmt rgb24 -vcodec rawvideo -\n",
      "{'video_found': True, 'audio_found': True, 'metadata': {'encoder': 'libebml v1.4.2 + libmatroska v1.6.2', 'creation_time': '2025-01-24T09:47:09.000000Z'}, 'inputs': [{'streams': [{'input_number': 0, 'stream_number': 0, 'stream_type': 'video', 'language': None, 'default': True, 'size': [1920, 1080], 'bitrate': None, 'fps': 25.0, 'codec_name': 'h264', 'profile': '(High 4:2:2)', 'metadata': {'Metadata': '', 'BPS-eng': '8854186', 'DURATION-eng': '00:07:51.320000000', 'NUMBER_OF_FRAMES-eng': '11783', 'NUMBER_OF_BYTES-eng': '521644369', '_STATISTICS_WRITING_APP-eng': \"mkvmerge v52.0.0 ('Secret For The Mad') 64-bit\", '_STATISTICS_WRITING_DATE_UTC-eng': '2025-01-24 09:47:09', '_STATISTICS_TAGS-eng': 'BPS DURATION NUMBER_OF_FRAMES NUMBER_OF_BYTES'}}, {'input_number': 0, 'stream_number': 1, 'stream_type': 'audio', 'language': None, 'default': True, 'fps': 48000, 'bitrate': None, 'metadata': {'Metadata': '', 'BPS-eng': '128563', 'DURATION-eng': '00:07:51.317000000', 'NUMBER_OF_FRAMES-eng': '22093', 'NUMBER_OF_BYTES-eng': '7574251', '_STATISTICS_WRITING_APP-eng': \"mkvmerge v52.0.0 ('Secret For The Mad') 64-bit\", '_STATISTICS_WRITING_DATE_UTC-eng': '2025-01-24 09:47:09', '_STATISTICS_TAGS-eng': 'BPS DURATION NUMBER_OF_FRAMES NUMBER_OF_BYTES'}}], 'input_number': 0}], 'duration': 471.33, 'bitrate': 8985, 'start': 0.0, 'default_video_input_number': 0, 'default_video_stream_number': 0, 'video_codec_name': 'h264', 'video_profile': '(High 4:2:2)', 'video_size': [1920, 1080], 'video_bitrate': None, 'video_fps': 25.0, 'default_audio_input_number': 0, 'default_audio_stream_number': 1, 'audio_fps': 48000, 'audio_bitrate': None, 'video_duration': 471.33, 'video_n_frames': 11783}\n",
      "/opt/conda/lib/python3.10/site-packages/imageio_ffmpeg/binaries/ffmpeg-linux-x86_64-v7.0.2 -ss 56.000000 -i video/rsl/output/RSL1_GCC-010.mp4 -ss 1.000000 -loglevel error -f image2pipe -vf scale=1920:1080 -sws_flags bicubic -pix_fmt rgb24 -vcodec rawvideo -\n",
      "MoviePy - Building video video/rsl/output/chunk/RSL1_GCC-010-00:57_01:19.mp4.\n",
      "MoviePy - Writing audio in RSL1_GCC-010-00:57_01:19TEMP_MPY_wvf_snd.mp3\n"
     ]
    },
    {
     "name": "stderr",
     "output_type": "stream",
     "text": [
      "                                                                   \r"
     ]
    },
    {
     "name": "stdout",
     "output_type": "stream",
     "text": [
      "MoviePy - Done.\n",
      "MoviePy - Writing video video/rsl/output/chunk/RSL1_GCC-010-00:57_01:19.mp4\n",
      "\n"
     ]
    },
    {
     "name": "stderr",
     "output_type": "stream",
     "text": [
      "                                                                        \r"
     ]
    },
    {
     "name": "stdout",
     "output_type": "stream",
     "text": [
      "MoviePy - Done !\n",
      "MoviePy - video ready video/rsl/output/chunk/RSL1_GCC-010-00:57_01:19.mp4\n",
      "{'video_found': True, 'audio_found': True, 'metadata': {'encoder': 'libebml v1.4.2 + libmatroska v1.6.2', 'creation_time': '2025-01-24T09:47:09.000000Z'}, 'inputs': [{'streams': [{'input_number': 0, 'stream_number': 0, 'stream_type': 'video', 'language': None, 'default': True, 'size': [1920, 1080], 'bitrate': None, 'fps': 25.0, 'codec_name': 'h264', 'profile': '(High 4:2:2)', 'metadata': {'Metadata': '', 'BPS-eng': '8233026', 'DURATION-eng': '00:08:24.760000000', 'NUMBER_OF_FRAMES-eng': '12619', 'NUMBER_OF_BYTES-eng': '519462796', '_STATISTICS_WRITING_APP-eng': \"mkvmerge v52.0.0 ('Secret For The Mad') 64-bit\", '_STATISTICS_WRITING_DATE_UTC-eng': '2025-01-24 09:47:09', '_STATISTICS_TAGS-eng': 'BPS DURATION NUMBER_OF_FRAMES NUMBER_OF_BYTES'}}, {'input_number': 0, 'stream_number': 1, 'stream_type': 'audio', 'language': None, 'default': True, 'fps': 48000, 'bitrate': None, 'metadata': {'Metadata': '', 'BPS-eng': '128515', 'DURATION-eng': '00:08:24.768000000', 'NUMBER_OF_FRAMES-eng': '23661', 'NUMBER_OF_BYTES-eng': '8108815', '_STATISTICS_WRITING_APP-eng': \"mkvmerge v52.0.0 ('Secret For The Mad') 64-bit\", '_STATISTICS_WRITING_DATE_UTC-eng': '2025-01-24 09:47:09', '_STATISTICS_TAGS-eng': 'BPS DURATION NUMBER_OF_FRAMES NUMBER_OF_BYTES'}}], 'input_number': 0}], 'duration': 504.77, 'bitrate': 8363, 'start': 0.0, 'default_video_input_number': 0, 'default_video_stream_number': 0, 'video_codec_name': 'h264', 'video_profile': '(High 4:2:2)', 'video_size': [1920, 1080], 'video_bitrate': None, 'video_fps': 25.0, 'default_audio_input_number': 0, 'default_audio_stream_number': 1, 'audio_fps': 48000, 'audio_bitrate': None, 'video_duration': 504.77, 'video_n_frames': 12619}\n",
      "/opt/conda/lib/python3.10/site-packages/imageio_ffmpeg/binaries/ffmpeg-linux-x86_64-v7.0.2 -i video/rsl/output/RSL1_GCC-012.mp4 -loglevel error -f image2pipe -vf scale=1920:1080 -sws_flags bicubic -pix_fmt rgb24 -vcodec rawvideo -\n",
      "{'video_found': True, 'audio_found': True, 'metadata': {'encoder': 'libebml v1.4.2 + libmatroska v1.6.2', 'creation_time': '2025-01-24T09:47:09.000000Z'}, 'inputs': [{'streams': [{'input_number': 0, 'stream_number': 0, 'stream_type': 'video', 'language': None, 'default': True, 'size': [1920, 1080], 'bitrate': None, 'fps': 25.0, 'codec_name': 'h264', 'profile': '(High 4:2:2)', 'metadata': {'Metadata': '', 'BPS-eng': '8233026', 'DURATION-eng': '00:08:24.760000000', 'NUMBER_OF_FRAMES-eng': '12619', 'NUMBER_OF_BYTES-eng': '519462796', '_STATISTICS_WRITING_APP-eng': \"mkvmerge v52.0.0 ('Secret For The Mad') 64-bit\", '_STATISTICS_WRITING_DATE_UTC-eng': '2025-01-24 09:47:09', '_STATISTICS_TAGS-eng': 'BPS DURATION NUMBER_OF_FRAMES NUMBER_OF_BYTES'}}, {'input_number': 0, 'stream_number': 1, 'stream_type': 'audio', 'language': None, 'default': True, 'fps': 48000, 'bitrate': None, 'metadata': {'Metadata': '', 'BPS-eng': '128515', 'DURATION-eng': '00:08:24.768000000', 'NUMBER_OF_FRAMES-eng': '23661', 'NUMBER_OF_BYTES-eng': '8108815', '_STATISTICS_WRITING_APP-eng': \"mkvmerge v52.0.0 ('Secret For The Mad') 64-bit\", '_STATISTICS_WRITING_DATE_UTC-eng': '2025-01-24 09:47:09', '_STATISTICS_TAGS-eng': 'BPS DURATION NUMBER_OF_FRAMES NUMBER_OF_BYTES'}}], 'input_number': 0}], 'duration': 504.77, 'bitrate': 8363, 'start': 0.0, 'default_video_input_number': 0, 'default_video_stream_number': 0, 'video_codec_name': 'h264', 'video_profile': '(High 4:2:2)', 'video_size': [1920, 1080], 'video_bitrate': None, 'video_fps': 25.0, 'default_audio_input_number': 0, 'default_audio_stream_number': 1, 'audio_fps': 48000, 'audio_bitrate': None, 'video_duration': 504.77, 'video_n_frames': 12619}\n",
      "/opt/conda/lib/python3.10/site-packages/imageio_ffmpeg/binaries/ffmpeg-linux-x86_64-v7.0.2 -ss 359.000000 -i video/rsl/output/RSL1_GCC-012.mp4 -ss 1.000000 -loglevel error -f image2pipe -vf scale=1920:1080 -sws_flags bicubic -pix_fmt rgb24 -vcodec rawvideo -\n",
      "MoviePy - Building video video/rsl/output/chunk/RSL1_GCC-012-06:00_06:12.mp4.\n",
      "MoviePy - Writing audio in RSL1_GCC-012-06:00_06:12TEMP_MPY_wvf_snd.mp3\n"
     ]
    },
    {
     "name": "stderr",
     "output_type": "stream",
     "text": [
      "                                                                   \r"
     ]
    },
    {
     "name": "stdout",
     "output_type": "stream",
     "text": [
      "MoviePy - Done.\n",
      "MoviePy - Writing video video/rsl/output/chunk/RSL1_GCC-012-06:00_06:12.mp4\n",
      "\n"
     ]
    },
    {
     "name": "stderr",
     "output_type": "stream",
     "text": [
      "                                                                        \r"
     ]
    },
    {
     "name": "stdout",
     "output_type": "stream",
     "text": [
      "MoviePy - Done !\n",
      "MoviePy - video ready video/rsl/output/chunk/RSL1_GCC-012-06:00_06:12.mp4\n"
     ]
    }
   ],
   "source": [
    "from moviepy.video.io.ffmpeg_tools import ffmpeg_extract_subclip\n",
    "from moviepy import VideoFileClip\n",
    "import os\n",
    "\n",
    "def cut_video(input_file, output_file, start_time, end_time):\n",
    "  \"\"\"\n",
    "  Cuts a video file from start_time to end_time using moviepy.\n",
    "\n",
    "  Args:\n",
    "    input_file: Path to the input video file.\n",
    "    output_file: Path to save the output (cut) video file.\n",
    "    start_time: Start time in \"mm:ss\" format (e.g., \"01:30\").\n",
    "    end_time: End time in \"mm:ss\" format (e.g., \"02:15\").\n",
    "  \"\"\"\n",
    "\n",
    "  def time_to_seconds(time_str):\n",
    "      \"\"\"Converts a time string in mm:ss format to seconds.\"\"\"\n",
    "      minutes, seconds = map(int, time_str.split(':'))\n",
    "      return minutes * 60 + seconds\n",
    "\n",
    "  start_seconds = time_to_seconds(start_time)\n",
    "  print(start_seconds)\n",
    "  end_seconds = time_to_seconds(end_time)\n",
    "  print(end_seconds)\n",
    "  \n",
    "  # Method 1 (More Precise, but can be slower for large files or many cuts)\n",
    "  # Uses VideoFileClip for loading, which allows for frame-accurate cutting\n",
    "  # More suitable for editing workflows where you might be doing other\n",
    "  # manipulations with the clip beyond just cutting.\n",
    "  try:\n",
    "      with VideoFileClip(input_file) as video:\n",
    "          subclip = video.subclip(start_seconds, end_seconds)\n",
    "          subclip.write_videofile(output_file)\n",
    "  except Exception as e:\n",
    "      print(f\"Error using VideoFileClip: {e}\")\n",
    "      print(\"Falling back to ffmpeg_extract_subclip\")\n",
    "  \n",
    "      # Method 2 (Faster, but may not be frame-accurate)\n",
    "      # Uses ffmpeg_extract_subclip which is a direct call to ffmpeg\n",
    "      # Much faster for simple cutting, especially with large files.\n",
    "      # Precision depends on keyframe placement in the original video.\n",
    "      try:\n",
    "          ffmpeg_extract_subclip(input_file, start_seconds, end_seconds, targetname=output_file)\n",
    "      except Exception as e:\n",
    "          print(f\"Error using ffmpeg_extract_subclip: {e}\")\n",
    "          \n",
    "\n",
    "# Example Usage:\n",
    "# input_video = \"input.mp4\"\n",
    "# output_video = \"output.mp4\"\n",
    "# start_time = \"00:10\"\n",
    "# end_time = \"00:30\"\n",
    "\n",
    "# cut_video(input_video, output_video, start_time, end_time)\n",
    "\n",
    "\n",
    "\n",
    "# video clips\n",
    "# from moviepy import *\n",
    " \n",
    "# # loading video dsa gfg intro video\n",
    "# clip = VideoFileClip(\"video/hajjan/output/Hajjan_KSA-001.mp4\")\n",
    " \n",
    "# # getting subclip as video is large\n",
    "# chunk = clip.subclipped(55, 100)\n",
    "# chunk.write_videofile(\"video/hajjan/output/chunk/Hajjan_KSA-001_1.mp4\")\n",
    "# clip.close()\n",
    "# showing clip\n",
    "# clip.ipython_display(width = 480)\n",
    "\n",
    "chunk_directory = os.path.join(video_directory, 'chunk')\n",
    "try:\n",
    "    os.makedirs(chunk_directory)\n",
    "    print(f\"Directory '{chunk_directory}' created successfully.\")\n",
    "except FileExistsError:\n",
    "    print(f\"Directory '{chunk_directory}' already exists.\")\n",
    "\n",
    "for split in split_for_video:\n",
    "    video_source = video_directory+\"/\"+split[0]\n",
    "    video_destination = chunk_directory+\"/\"+split[0].split(\".\")[0]+\"-\"+split[1]+\"_\"+split[2]+\".mp4\"\n",
    "    clip = VideoFileClip(video_source)\n",
    "    chunk = clip.subclipped(split[1], split[2])\n",
    "    chunk.write_videofile(video_destination)\n",
    "    chunk.close()\n",
    "    clip.close()\n",
    "\n",
    "    \n",
    "    \n",
    "    # cut_video(video_source ,video_destination,split[1],split[2])\n",
    "    \n"
   ]
  },
  {
   "cell_type": "code",
   "execution_count": 23,
   "id": "1fa0ae5f-28c3-4bea-a872-55d1ce19f4a4",
   "metadata": {
    "tags": []
   },
   "outputs": [
    {
     "data": {
      "text/plain": [
       "['video/rsl/output/chunk/RSL1_GCC-001-00:28_01:10.mp4',\n",
       " 'video/rsl/output/chunk/RSL1_GCC-002-00:00_00:17.mp4',\n",
       " 'video/rsl/output/chunk/RSL1_GCC-003-06:39_06:50.mp4',\n",
       " 'video/rsl/output/chunk/RSL1_GCC-004-01:04_01:23.mp4',\n",
       " 'video/rsl/output/chunk/RSL1_GCC-005-01:16_02:57.mp4',\n",
       " 'video/rsl/output/chunk/RSL1_GCC-006-00:27_00:48.mp4',\n",
       " 'video/rsl/output/chunk/RSL1_GCC-007-00:07_00:18.mp4',\n",
       " 'video/rsl/output/chunk/RSL1_GCC-008-00:00_00:12.mp4',\n",
       " 'video/rsl/output/chunk/RSL1_GCC-009-00:39_01:09.mp4',\n",
       " 'video/rsl/output/chunk/RSL1_GCC-010-00:57_01:19.mp4',\n",
       " 'video/rsl/output/chunk/RSL1_GCC-011-05:22_06:16.mp4',\n",
       " 'video/rsl/output/chunk/RSL1_GCC-012-06:00_06:12.mp4',\n",
       " 'video/rsl/output/chunk/RSL1_GCC-013-00:29_00:40.mp4']"
      ]
     },
     "execution_count": 23,
     "metadata": {},
     "output_type": "execute_result"
    }
   ],
   "source": [
    "import re\n",
    "import os\n",
    "import datetime\n",
    "\n",
    "def get_sorted_files(folder_path):\n",
    "    \"\"\"\n",
    "    Returns a list of .mp4 files in the given folder, sorted by their index and start time.\n",
    "    The index is assumed to be in the middle of the filename, e.g., 001 for Hajjan_KSA-001-07:43_07:55.mp4.\n",
    "    The start time is extracted from the filename in the format MM:SS.\n",
    "    \"\"\"\n",
    "    files = [f for f in os.listdir(folder_path) if f.endswith('.mp4')]\n",
    "\n",
    "    # Sort files by index and then start time (using MM:SS format)\n",
    "    files.sort(key=lambda f: (int(re.search(r'-(\\d{3})-', f).group(1)),\n",
    "                              datetime.datetime.strptime(re.search(r'-(\\d{2}:\\d{2})_', f).group(1), '%M:%S')))\n",
    "\n",
    "    # Join the folder path and file name to get the full path\n",
    "    full_paths = [os.path.join(folder_path, file) for file in files]\n",
    "    return full_paths\n",
    "order_file_list = get_sorted_files(chunk_directory)\n",
    "order_file_list"
   ]
  },
  {
   "cell_type": "code",
   "execution_count": null,
   "id": "a2aade76-dc1a-41b7-a91e-19da33dd8c0f",
   "metadata": {},
   "outputs": [],
   "source": []
  },
  {
   "cell_type": "code",
   "execution_count": null,
   "id": "c9d7a9d1-ac74-4f37-bcd0-fd5824625011",
   "metadata": {},
   "outputs": [],
   "source": []
  },
  {
   "cell_type": "code",
   "execution_count": 24,
   "id": "806d6137-078e-4bd6-aaed-853b452cce08",
   "metadata": {
    "tags": []
   },
   "outputs": [
    {
     "name": "stdout",
     "output_type": "stream",
     "text": [
      "temp_fullpath_outputfile: video/rsl/RSL1_GCC_trailer.mp4\n",
      "fullpath_outputdir:video/rsl/output/chunk\n",
      "video/rsl/output/chunk/RSL1_GCC_trailer.mp4\n",
      "Successfully merged files into: video/rsl/output/chunk/RSL1_GCC_trailer.mp4.mkv\n"
     ]
    }
   ],
   "source": [
    "import subprocess\n",
    "import os\n",
    "\n",
    "def merge_mp4_files(input_files, output_file):\n",
    "  \"\"\"\n",
    "  Merges multiple MP4 files into a single MKV file using mkvmerge.\n",
    "\n",
    "  Args:\n",
    "    input_files: A list of paths to the MP4 files to merge, in the desired order.\n",
    "    output_file: The path to save the output MKV file.\n",
    "  \"\"\"\n",
    "\n",
    "  if not input_files:\n",
    "      raise ValueError(\"Input file list cannot be empty.\")\n",
    "\n",
    "  if not all(os.path.exists(file) for file in input_files):\n",
    "      raise FileNotFoundError(\"One or more input files do not exist.\")\n",
    "\n",
    "  if not output_file.endswith(\".mkv\"):\n",
    "      output_file += \".mkv\"\n",
    "\n",
    "  # Build the mkvmerge command\n",
    "  command = [\"mkvmerge\", \"-o\", output_file]\n",
    "\n",
    "  # Add the first input file\n",
    "  command.append(input_files[0])\n",
    "\n",
    "  # Add the rest of the input files with +\n",
    "  for file in input_files[1:]:\n",
    "      command.append(\"+\")\n",
    "      command.append(file)\n",
    "  \n",
    "  try:\n",
    "      # Run mkvmerge\n",
    "      subprocess.run(command, check=True, capture_output=True, text=True)\n",
    "      print(f\"Successfully merged files into: {output_file}\")\n",
    "  \n",
    "  except subprocess.CalledProcessError as e:\n",
    "      print(f\"Error during merging:\")\n",
    "      print(f\"  Return code: {e.returncode}\")\n",
    "      print(f\"  Stdout: {e.stdout}\")\n",
    "      print(f\"  Stderr: {e.stderr}\")\n",
    "      raise\n",
    "\n",
    "# Example Usage:\n",
    "\n",
    "# input_file = \"video/hajjan/Hajjan_KSA.mp4\"\n",
    "\n",
    "base_name, ext = os.path.splitext(input_file)\n",
    "temp_fullpath_outputfile = base_name + \"_trailer\" + ext\n",
    "print(f\"temp_fullpath_outputfile: {temp_fullpath_outputfile}\")\n",
    "# merge_mp4_files(order_file_list, \n",
    "fullpath_outputdir = chunk_directory\n",
    "print(f\"fullpath_outputdir:{fullpath_outputdir}\")\n",
    "# output_file = \"merged_video.mkv\"\n",
    "fullpath_outputfile = fullpath_outputdir+\"/\"+os.path.basename(temp_fullpath_outputfile)\n",
    "print(fullpath_outputfile)\n",
    "merge_mp4_files(order_file_list, fullpath_outputfile)"
   ]
  },
  {
   "cell_type": "code",
   "execution_count": null,
   "id": "97141942-94fb-49e3-b303-620996a7b559",
   "metadata": {},
   "outputs": [],
   "source": []
  }
 ],
 "metadata": {
  "environment": {
   "kernel": "conda-base-py",
   "name": "workbench-notebooks.m127",
   "type": "gcloud",
   "uri": "us-docker.pkg.dev/deeplearning-platform-release/gcr.io/workbench-notebooks:m127"
  },
  "kernelspec": {
   "display_name": "Python 3 (ipykernel)",
   "language": "python",
   "name": "conda-base-py"
  },
  "language_info": {
   "codemirror_mode": {
    "name": "ipython",
    "version": 3
   },
   "file_extension": ".py",
   "mimetype": "text/x-python",
   "name": "python",
   "nbconvert_exporter": "python",
   "pygments_lexer": "ipython3",
   "version": "3.10.16"
  }
 },
 "nbformat": 4,
 "nbformat_minor": 5
}
